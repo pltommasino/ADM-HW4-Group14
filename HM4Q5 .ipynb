{
  "nbformat": 4,
  "nbformat_minor": 0,
  "metadata": {
    "colab": {
      "provenance": []
    },
    "kernelspec": {
      "name": "python3",
      "display_name": "Python 3"
    },
    "language_info": {
      "name": "python"
    }
  },
  "cells": [
    {
      "cell_type": "markdown",
      "source": [
        "#5. Algorithmic Question (AQ)\n",
        "\n"
      ],
      "metadata": {
        "id": "38uHbTMHkCqE"
      }
    },
    {
      "cell_type": "markdown",
      "source": [
        "Federico studies in a demanding university where he has to take a certain number $N$ of exams to graduate,  but he is free to choose in which order he will take these exams. Federico is panicking since this university is not only one of the toughest in the world but also one of the weirdest. His final grade won't depend at all on the mark he gets in these courses: there's a precise evaluation system.\n",
        "\n",
        "He was given an initial personal score of $S$ when he enrolled, which changes every time he takes an exam: now comes the crazy part.\n",
        "He soon discovered that every of the $N$ exams he has to take is assigned a mark $p$. Once he has chosen an exam, his score becomes equal to the mark $p$, and at the same time, the scoring system changes:\n",
        "+ If he takes an \"easy\" exam (the score of the exam being less than his score), every other exam's mark is increased by the quantity $S - p$.\n",
        "+ If he takes a \"hard\" exam (the score of the exam is greater than his score), every other exam's mark is decreased by the quantity $p - S$.\n",
        "\n",
        "So, for example, consider $S=8$ as the initial personal score. Federico must decide which exam he wants to take, being $[5,7,1]$ the marks list. If he takes the first one, being $5 < 8$ and $8 - 5 = 3$, the remaining list now becomes $[10,4]$, and his score is updated as $S = 5$.\n",
        "\n",
        "In this chaotic university where the only real exam seems to be choosing the best way to take exams, you are the poor student advisor who is facing a long queue of confused people who need some help. Federico is next in line,  and he comes up in turn with an inescapable question: he wants to know which is the highest score possible he could get.\n"
      ],
      "metadata": {
        "id": "HkNLINJOkUNy"
      }
    },
    {
      "cell_type": "markdown",
      "source": [
        "a) Fortunately, you have a computer app designed by a brilliant student. Federico wants you to show him the code which this app is based on\n",
        "because he wants to do paid counseling for other desperate students: in a *recursive* fashion, the helped helps the helpable.\n"
      ],
      "metadata": {
        "id": "6SVZJzbOkiYk"
      }
    },
    {
      "cell_type": "code",
      "execution_count": 7,
      "metadata": {
        "colab": {
          "base_uri": "https://localhost:8080/"
        },
        "id": "nEyZjCsWmFqe",
        "outputId": "560a2fdd-450c-4566-cb1b-3a13a2615259"
      },
      "outputs": [
        {
          "output_type": "stream",
          "name": "stdout",
          "text": [
            "30\n",
            "13 27 41 59 28 33 39 19 52 48 55 79\n",
            "205\n"
          ]
        }
      ],
      "source": [
        "from itertools import zip_longest\n",
        "#initial personal score\n",
        "S=int(input())\n",
        "# marks\n",
        "exams_grades=list(map(int,input().split()))\n",
        "exams_grades.sort()\n",
        "#we create 2 list where we put the greatest and smallest numbers\n",
        "l1=exams_grades[:len(exams_grades)//2]\n",
        "l2=exams_grades[len(exams_grades)//2:]\n",
        "#we create a new list with an element from the list of the greatest numbers and an element from the list of the smallest numbers\n",
        "if len(l2)==len(l1):\n",
        "  new_list = [elemento for val in zip_longest(l1, l2) for elemento in val]\n",
        "else:\n",
        "  new_list = [elemento for val in zip_longest(l2, l1) for elemento in val if elemento is not None]\n",
        "\n",
        "# we update the marks according to the rule given by the university\n",
        "for x in range(len(new_list)):\n",
        "  grade=new_list[x]\n",
        "  diff=S-grade\n",
        "  for y in range(x+1,len(new_list)):\n",
        "      new_list[y]+=diff\n",
        "  S=grade\n",
        "print(S)"
      ]
    },
    {
      "cell_type": "markdown",
      "source": [
        " b) Federico is getting angry because he claims that your code is slow! Show him formally with a big-O notation that he is as crazy as this university!\n",
        "\n",
        "### Time Complexity Analysis\n",
        "\n",
        "\n",
        "**Input Reading**:\n",
        "Reading\n",
        "S and\n",
        "exams_grades\n",
        "exams_grades takes constant time, so the complexity is O(1).\n",
        "\n",
        "**List Sorting**: Sorting the list\n",
        "exams_grades has a time complexity of\n",
        "O(nlogn), where\n",
        "n is the length of exams_grades.\n",
        "\n",
        "**Creating new_list** : The creation of new_list is performed once and has a linear time complexity relative to the length of the list. Therefore, it is\n",
        "O(n).\n",
        "\n",
        "**Updating Marks**: The time complexity analysis for the updating marks part is as follows:\n",
        "\n",
        "- The outer loop runs N times.\n",
        "- The inner loop also runs, on average, N/2 times across all iterations of the outer loop.\n",
        "- Inside the inner loop, updating the elements of `new_list` takes constant time, O(1).\n",
        "- Therefore, the total time complexity for this part is O(N^2).\n",
        "\n",
        "**In conclusion** : Considering both factors, the overall time complexity of the provided code is dominated by the quadratic term, resulting in a final time complexity of O(N^2) due to the updating marks part.\n"
      ],
      "metadata": {
        "id": "22ohBCzrO0zW"
      }
    },
    {
      "cell_type": "markdown",
      "source": [
        "c) If, unfortunately, Federico is right in the grip of madness, he will threaten you to optimize the code through a different approach.\n",
        "You should end this theater of the absurd by any means! (And again, formally prove that you improved time complexity)"
      ],
      "metadata": {
        "id": "jhG13AyhmT2Y"
      }
    },
    {
      "cell_type": "code",
      "source": [
        "def best_grade_improved(S=int(input()),exams_grades=list(map(int, input().split()))):\n",
        "    exams_grades.sort()\n",
        "    n = len(exams_grades)\n",
        "    l1 = exams_grades[:n//2]\n",
        "    l2 = exams_grades[n//2:]\n",
        "# if the number of the exams is even or odd we have to create the list in a different way\n",
        "    if n % 2 == 0:\n",
        "        new_list = [elemento for val in zip_longest(l1, l2) for elemento in val]\n",
        "    else:\n",
        "        new_list = [elemento for val in zip_longest(l2, l1) for elemento in val if elemento is not None]\n",
        "    # after have put the marks in a proper way we call the recursive function to find the best final grade\n",
        "    adjust_grades_recursive(S, new_list)\n",
        "\n",
        "\n",
        "def adjust_grades_recursive(S, exams_grades_systemed):\n",
        "    if not exams_grades_systemed:\n",
        "        print(S)\n",
        "        return\n",
        "    grade = exams_grades_systemed[0]\n",
        "    diff=S-grade\n",
        "    # we update the marks according to the rule given by the university\n",
        "    for y in range(1, len(exams_grades_systemed)):\n",
        "      exams_grades_systemed[y] += diff\n",
        "    S = grade\n",
        "    adjust_grades_recursive(S, exams_grades_systemed[1:])\n",
        "\n",
        "\n",
        "best_grade_improved()"
      ],
      "metadata": {
        "colab": {
          "base_uri": "https://localhost:8080/"
        },
        "id": "EXdAs4Be4m9T",
        "outputId": "99ee8f45-b81e-48ec-9853-7dd69ea40d39"
      },
      "execution_count": 8,
      "outputs": [
        {
          "output_type": "stream",
          "name": "stdout",
          "text": [
            "30\n",
            "13 27 41 59 28 33 39 19 52 48 55 79\n",
            "205\n"
          ]
        }
      ]
    },
    {
      "cell_type": "markdown",
      "source": [],
      "metadata": {
        "id": "nlWYFRfd_K1N"
      }
    },
    {
      "cell_type": "markdown",
      "source": [
        "### Time Complexity Analysis\n",
        "\n",
        "1. **Input Reading and List Sorting:**\n",
        "   - Reading the personal score `S` and creating the `exams_grades` list take O(N) time.\n",
        "   - Sorting the `exams_grades` list takes O(N log N) time.\n",
        "\n",
        "2. **Creating Lists `l1` and `l2`:**\n",
        "   - Creating `l1` and `l2` by slicing the sorted list takes O(N) time.\n",
        "\n",
        "3. **Creating `new_list`:**\n",
        "   - Creating `new_list` using `zip_longest` and list comprehensions takes O(N) time.\n",
        "\n",
        "4. **Recursive Grade Adjustment:**\n",
        "   - The recursive function `adjust_grades_recursive` processes each element of `exams_grades_systemed` once.\n",
        "   - In each iteration, the function performs constant-time operations (O(1)).\n",
        "   - In the worst case, the recursion depth is N.\n",
        "   - Therefore, the total time complexity for this part is O(N).\n",
        "\n",
        "Considering the sorting operation, the overall time complexity of the improved code is O(N log N) due to the dominant sorting step.\n",
        "\n",
        "So this is more efficient because to update marks has a complexity of O(N) and not O(N^2) as in the former version."
      ],
      "metadata": {
        "id": "gGgBnyc8ndhQ"
      }
    },
    {
      "cell_type": "markdown",
      "source": [
        "d) Ask chatGPT for a third (optimized) implementation and analyze again its time complexity. Be careful (and crafty) in defining the prompt, and challenge the machine in this coding question!\n"
      ],
      "metadata": {
        "id": "oj6aS0CfooTk"
      }
    },
    {
      "cell_type": "code",
      "source": [
        "from statistics import median\n",
        "def best_grade_improved_chatgpt(S=int(input()), exams_grades=list(map(int, input().split()))):\n",
        "  # we use the median to split the exams_grades in two list one with the largest numbers and the other one with the smallest number\n",
        "    median_value = median(exams_grades)\n",
        "\n",
        "    l1 = [element for element in exams_grades if element < median_value]\n",
        "\n",
        "    l2 = [element for element in exams_grades if element >= median_value]\n",
        "\n",
        "    if len(l2)==len(l1):\n",
        "        new_list = [elemento for val in zip_longest(l1, l2) for elemento in val]\n",
        "    else:\n",
        "        new_list = [elemento for val in zip_longest(l2, l1) for elemento in val if elemento is not None]\n",
        "\n",
        "    adjust_grades_recursive(S, new_list)\n",
        "\n",
        "def adjust_grades_recursive(S, exams_grades_systemed):\n",
        "    if not exams_grades_systemed:\n",
        "        print(S)\n",
        "        return\n",
        "    grade = exams_grades_systemed[0]\n",
        "    diff = S - grade\n",
        "    for y in range(1, len(exams_grades_systemed)):\n",
        "        exams_grades_systemed[y] += diff\n",
        "    S = grade\n",
        "    adjust_grades_recursive(S, exams_grades_systemed[1:])\n",
        "\n",
        "best_grade_improved_chatgpt()\n"
      ],
      "metadata": {
        "colab": {
          "base_uri": "https://localhost:8080/"
        },
        "id": "ElBW2k8VpPli",
        "outputId": "86206a0d-2195-4c90-a7d4-0051e63122be"
      },
      "execution_count": 26,
      "outputs": [
        {
          "output_type": "stream",
          "name": "stdout",
          "text": [
            "30\n",
            "13 27 41 59 28 33 39 19 52 48 55 79\n",
            "205\n"
          ]
        }
      ]
    },
    {
      "cell_type": "markdown",
      "source": [
        "## Time Complexity Analysis\n",
        "\n",
        "### Input Reading and Median Computation:\n",
        "\n",
        "- Reading the personal score `S` and creating the `exams_grades` list take O(N) time.\n",
        "- Computing the median using the `statistics.median` function has an expected time complexity of O(N) but in the worst case is O(N log N) so we have an improvement only on average.\n",
        "\n",
        "### Creating Lists `l1` and `l2`:\n",
        "\n",
        "- Creating `l1` and `l2` using list comprehensions takes O(N) time.\n",
        "\n",
        "### Creating `new_list`:\n",
        "\n",
        "- Creating `new_list` using `zip_longest` and list comprehensions takes O(N) time.\n",
        "\n",
        "### Recursive Grade Adjustment:\n",
        "\n",
        "- The recursive function `adjust_grades_recursive` processes each element of `exams_grades_systemed` once.\n",
        "- In each iteration, the function performs constant-time operations (O(1)).\n",
        "- In the worst case, the recursion depth is N.\n",
        "- Therefore, the total time complexity for this part is O(N).\n",
        "\n",
        "### Overall Time Complexity:\n",
        "\n",
        "Considering all the steps, the overall time complexity of the provided code is O(N log N). The dominant factor is the `statistics.median` function contributing to the overall complexity, we have an improvement only in the average case because `statistics.median`has a complexity of O(N)."
      ],
      "metadata": {
        "id": "Lym2rMkuPV-9"
      }
    }
  ]
}