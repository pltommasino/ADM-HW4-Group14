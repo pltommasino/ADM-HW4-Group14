{
  "nbformat": 4,
  "nbformat_minor": 0,
  "metadata": {
    "colab": {
      "provenance": []
    },
    "kernelspec": {
      "name": "python3",
      "display_name": "Python 3"
    },
    "language_info": {
      "name": "python"
    }
  },
  "cells": [
    {
      "cell_type": "code",
      "execution_count": 38,
      "metadata": {
        "colab": {
          "base_uri": "https://localhost:8080/"
        },
        "id": "nEyZjCsWmFqe",
        "outputId": "9cdedbaa-6374-40f9-ea07-6c04b0a63018"
      },
      "outputs": [
        {
          "output_type": "stream",
          "name": "stdout",
          "text": [
            "30\n",
            "13 27 41 59 28 33 39 19 52 48 55 79\n",
            "[13, 41, 19, 48, 27, 52, 28, 55, 33, 59, 39, 79]\n",
            "205\n"
          ]
        }
      ],
      "source": [
        "from itertools import zip_longest\n",
        "S=int(input())\n",
        "exams_grades=list(map(int,input().split()))\n",
        "exams_grades.sort()\n",
        "if len(exams_grades)%2==0:\n",
        "  l1=exams_grades[:int(len(exams_grades)/2)]\n",
        "  l2=exams_grades[int(len(exams_grades)/2):]\n",
        "  new_list = [elemento for val in zip_longest(l1, l2) for elemento in val]\n",
        "\n",
        "else:\n",
        "  l1=exams_grades[:len(exams_grades)//2]\n",
        "  l2=exams_grades[len(exams_grades)//2:]\n",
        "  new_list = [elemento for val in zip_longest(l2, l1) for elemento in val if elemento is not None]\n",
        "\n",
        "print(new_list)\n",
        "for x in range(len(new_list)):\n",
        "  grade=new_list[x]\n",
        "  if grade<S:\n",
        "    for y in range(x+1,len(new_list)):\n",
        "      new_list[y]+=S-grade\n",
        "  else:\n",
        "    for y in range(x+1,len(new_list)):\n",
        "      new_list[y]-=grade-S\n",
        "  S=grade\n",
        "\n",
        "\n",
        "print(S)"
      ]
    }
  ]
}