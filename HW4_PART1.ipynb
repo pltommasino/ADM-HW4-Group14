{
 "cells": [
  {
   "cell_type": "code",
   "execution_count": 1,
   "id": "ba85efe5",
   "metadata": {},
   "outputs": [],
   "source": [
    "import numpy as np\n",
    "import pandas as pd\n",
    "from collections import Counter"
   ]
  },
  {
   "cell_type": "markdown",
   "id": "70fd34ab",
   "metadata": {},
   "source": [
    "# Cleaning and preprocessing"
   ]
  },
  {
   "cell_type": "code",
   "execution_count": 2,
   "id": "7a03ab64",
   "metadata": {},
   "outputs": [],
   "source": [
    "df = pd.read_csv(\"vodclickstream_uk_movies_03.csv\")"
   ]
  },
  {
   "cell_type": "code",
   "execution_count": 3,
   "id": "c4918526",
   "metadata": {},
   "outputs": [
    {
     "data": {
      "text/html": [
       "<div>\n",
       "<style scoped>\n",
       "    .dataframe tbody tr th:only-of-type {\n",
       "        vertical-align: middle;\n",
       "    }\n",
       "\n",
       "    .dataframe tbody tr th {\n",
       "        vertical-align: top;\n",
       "    }\n",
       "\n",
       "    .dataframe thead th {\n",
       "        text-align: right;\n",
       "    }\n",
       "</style>\n",
       "<table border=\"1\" class=\"dataframe\">\n",
       "  <thead>\n",
       "    <tr style=\"text-align: right;\">\n",
       "      <th></th>\n",
       "      <th>Unnamed: 0</th>\n",
       "      <th>datetime</th>\n",
       "      <th>duration</th>\n",
       "      <th>title</th>\n",
       "      <th>genres</th>\n",
       "      <th>release_date</th>\n",
       "      <th>movie_id</th>\n",
       "      <th>user_id</th>\n",
       "    </tr>\n",
       "  </thead>\n",
       "  <tbody>\n",
       "    <tr>\n",
       "      <th>0</th>\n",
       "      <td>58773</td>\n",
       "      <td>2017-01-01 01:15:09</td>\n",
       "      <td>0.0</td>\n",
       "      <td>Angus, Thongs and Perfect Snogging</td>\n",
       "      <td>Comedy, Drama, Romance</td>\n",
       "      <td>2008-07-25</td>\n",
       "      <td>26bd5987e8</td>\n",
       "      <td>1dea19f6fe</td>\n",
       "    </tr>\n",
       "    <tr>\n",
       "      <th>1</th>\n",
       "      <td>58774</td>\n",
       "      <td>2017-01-01 13:56:02</td>\n",
       "      <td>0.0</td>\n",
       "      <td>The Curse of Sleeping Beauty</td>\n",
       "      <td>Fantasy, Horror, Mystery, Thriller</td>\n",
       "      <td>2016-06-02</td>\n",
       "      <td>f26ed2675e</td>\n",
       "      <td>544dcbc510</td>\n",
       "    </tr>\n",
       "    <tr>\n",
       "      <th>2</th>\n",
       "      <td>58775</td>\n",
       "      <td>2017-01-01 15:17:47</td>\n",
       "      <td>10530.0</td>\n",
       "      <td>London Has Fallen</td>\n",
       "      <td>Action, Thriller</td>\n",
       "      <td>2016-03-04</td>\n",
       "      <td>f77e500e7a</td>\n",
       "      <td>7cbcc791bf</td>\n",
       "    </tr>\n",
       "    <tr>\n",
       "      <th>3</th>\n",
       "      <td>58776</td>\n",
       "      <td>2017-01-01 16:04:13</td>\n",
       "      <td>49.0</td>\n",
       "      <td>Vendetta</td>\n",
       "      <td>Action, Drama</td>\n",
       "      <td>2015-06-12</td>\n",
       "      <td>c74aec7673</td>\n",
       "      <td>ebf43c36b6</td>\n",
       "    </tr>\n",
       "    <tr>\n",
       "      <th>4</th>\n",
       "      <td>58777</td>\n",
       "      <td>2017-01-01 19:16:37</td>\n",
       "      <td>0.0</td>\n",
       "      <td>The SpongeBob SquarePants Movie</td>\n",
       "      <td>Animation, Action, Adventure, Comedy, Family, ...</td>\n",
       "      <td>2004-11-19</td>\n",
       "      <td>a80d6fc2aa</td>\n",
       "      <td>a57c992287</td>\n",
       "    </tr>\n",
       "  </tbody>\n",
       "</table>\n",
       "</div>"
      ],
      "text/plain": [
       "   Unnamed: 0             datetime  duration  \\\n",
       "0       58773  2017-01-01 01:15:09       0.0   \n",
       "1       58774  2017-01-01 13:56:02       0.0   \n",
       "2       58775  2017-01-01 15:17:47   10530.0   \n",
       "3       58776  2017-01-01 16:04:13      49.0   \n",
       "4       58777  2017-01-01 19:16:37       0.0   \n",
       "\n",
       "                                title  \\\n",
       "0  Angus, Thongs and Perfect Snogging   \n",
       "1        The Curse of Sleeping Beauty   \n",
       "2                   London Has Fallen   \n",
       "3                            Vendetta   \n",
       "4     The SpongeBob SquarePants Movie   \n",
       "\n",
       "                                              genres release_date    movie_id  \\\n",
       "0                             Comedy, Drama, Romance   2008-07-25  26bd5987e8   \n",
       "1                 Fantasy, Horror, Mystery, Thriller   2016-06-02  f26ed2675e   \n",
       "2                                   Action, Thriller   2016-03-04  f77e500e7a   \n",
       "3                                      Action, Drama   2015-06-12  c74aec7673   \n",
       "4  Animation, Action, Adventure, Comedy, Family, ...   2004-11-19  a80d6fc2aa   \n",
       "\n",
       "      user_id  \n",
       "0  1dea19f6fe  \n",
       "1  544dcbc510  \n",
       "2  7cbcc791bf  \n",
       "3  ebf43c36b6  \n",
       "4  a57c992287  "
      ]
     },
     "execution_count": 3,
     "metadata": {},
     "output_type": "execute_result"
    }
   ],
   "source": [
    "df.head()"
   ]
  },
  {
   "cell_type": "code",
   "execution_count": 4,
   "id": "ea6bed3a",
   "metadata": {},
   "outputs": [
    {
     "data": {
      "text/plain": [
       "(671736, 8)"
      ]
     },
     "execution_count": 4,
     "metadata": {},
     "output_type": "execute_result"
    }
   ],
   "source": [
    "df.shape"
   ]
  },
  {
   "cell_type": "markdown",
   "id": "c3ac60c1",
   "metadata": {},
   "source": [
    "## datetime"
   ]
  },
  {
   "cell_type": "code",
   "execution_count": 5,
   "id": "f2c06c82",
   "metadata": {},
   "outputs": [
    {
     "data": {
      "text/plain": [
       "0"
      ]
     },
     "execution_count": 5,
     "metadata": {},
     "output_type": "execute_result"
    }
   ],
   "source": [
    "len(df[df[\"datetime\"].isna()])"
   ]
  },
  {
   "cell_type": "code",
   "execution_count": 6,
   "id": "1b7c6ff0",
   "metadata": {},
   "outputs": [
    {
     "data": {
      "text/plain": [
       "'2017-01-01 00:02:21'"
      ]
     },
     "execution_count": 6,
     "metadata": {},
     "output_type": "execute_result"
    }
   ],
   "source": [
    "min(df[\"datetime\"].unique())"
   ]
  },
  {
   "cell_type": "code",
   "execution_count": 7,
   "id": "304cb64d",
   "metadata": {},
   "outputs": [
    {
     "data": {
      "text/plain": [
       "'2019-06-30 23:59:20'"
      ]
     },
     "execution_count": 7,
     "metadata": {},
     "output_type": "execute_result"
    }
   ],
   "source": [
    "max(df[\"datetime\"].unique())"
   ]
  },
  {
   "cell_type": "markdown",
   "id": "9f667ae4",
   "metadata": {},
   "source": [
    "## duration"
   ]
  },
  {
   "cell_type": "code",
   "execution_count": 8,
   "id": "dd7a15b0",
   "metadata": {},
   "outputs": [
    {
     "data": {
      "text/plain": [
       "0"
      ]
     },
     "execution_count": 8,
     "metadata": {},
     "output_type": "execute_result"
    }
   ],
   "source": [
    "len(df[df[\"duration\"].isna()])"
   ]
  },
  {
   "cell_type": "code",
   "execution_count": 9,
   "id": "debed528",
   "metadata": {},
   "outputs": [
    {
     "data": {
      "text/plain": [
       "-1.0"
      ]
     },
     "execution_count": 9,
     "metadata": {},
     "output_type": "execute_result"
    }
   ],
   "source": [
    "min(df[\"duration\"].unique())"
   ]
  },
  {
   "cell_type": "code",
   "execution_count": 10,
   "id": "7136540d",
   "metadata": {},
   "outputs": [
    {
     "data": {
      "text/plain": [
       "18237253.0"
      ]
     },
     "execution_count": 10,
     "metadata": {},
     "output_type": "execute_result"
    }
   ],
   "source": [
    "max(df[\"duration\"].unique())"
   ]
  },
  {
   "cell_type": "code",
   "execution_count": 11,
   "id": "e885add9",
   "metadata": {},
   "outputs": [],
   "source": [
    "df = df[df[\"duration\"] >= 0]"
   ]
  },
  {
   "cell_type": "markdown",
   "id": "0bcbeb38",
   "metadata": {},
   "source": [
    "## title"
   ]
  },
  {
   "cell_type": "code",
   "execution_count": 12,
   "id": "4dde165b",
   "metadata": {},
   "outputs": [
    {
     "data": {
      "text/plain": [
       "0"
      ]
     },
     "execution_count": 12,
     "metadata": {},
     "output_type": "execute_result"
    }
   ],
   "source": [
    "len(df[df[\"title\"].isna()])"
   ]
  },
  {
   "cell_type": "code",
   "execution_count": 13,
   "id": "981f72ac",
   "metadata": {},
   "outputs": [
    {
     "data": {
      "text/plain": [
       "0"
      ]
     },
     "execution_count": 13,
     "metadata": {},
     "output_type": "execute_result"
    }
   ],
   "source": [
    "len(df[df[\"title\"]==\" \"])"
   ]
  },
  {
   "cell_type": "code",
   "execution_count": 14,
   "id": "fda7fb73",
   "metadata": {},
   "outputs": [
    {
     "data": {
      "text/plain": [
       "7874"
      ]
     },
     "execution_count": 14,
     "metadata": {},
     "output_type": "execute_result"
    }
   ],
   "source": [
    "len(df[\"title\"].unique())"
   ]
  },
  {
   "cell_type": "markdown",
   "id": "432d0806",
   "metadata": {},
   "source": [
    "## genres"
   ]
  },
  {
   "cell_type": "code",
   "execution_count": 15,
   "id": "c3e887f2",
   "metadata": {},
   "outputs": [
    {
     "data": {
      "text/plain": [
       "0"
      ]
     },
     "execution_count": 15,
     "metadata": {},
     "output_type": "execute_result"
    }
   ],
   "source": [
    "len(df[df[\"genres\"].isna()])"
   ]
  },
  {
   "cell_type": "code",
   "execution_count": 16,
   "id": "8039919b",
   "metadata": {},
   "outputs": [
    {
     "data": {
      "text/plain": [
       "0"
      ]
     },
     "execution_count": 16,
     "metadata": {},
     "output_type": "execute_result"
    }
   ],
   "source": [
    "len(df[df[\"genres\"]==\" \"])"
   ]
  },
  {
   "cell_type": "code",
   "execution_count": 17,
   "id": "8e999cd1",
   "metadata": {},
   "outputs": [],
   "source": [
    "df = df[df[\"genres\"] != \"NOT AVAILABLE\"]"
   ]
  },
  {
   "cell_type": "markdown",
   "id": "ead22598",
   "metadata": {},
   "source": [
    "## release_date"
   ]
  },
  {
   "cell_type": "code",
   "execution_count": 18,
   "id": "9937d421",
   "metadata": {},
   "outputs": [
    {
     "data": {
      "text/plain": [
       "0"
      ]
     },
     "execution_count": 18,
     "metadata": {},
     "output_type": "execute_result"
    }
   ],
   "source": [
    "len(df[df[\"release_date\"].isna()])"
   ]
  },
  {
   "cell_type": "code",
   "execution_count": 19,
   "id": "5aead618",
   "metadata": {},
   "outputs": [
    {
     "data": {
      "text/plain": [
       "'1920-10-01'"
      ]
     },
     "execution_count": 19,
     "metadata": {},
     "output_type": "execute_result"
    }
   ],
   "source": [
    "min(df[\"release_date\"].unique())"
   ]
  },
  {
   "cell_type": "code",
   "execution_count": 20,
   "id": "583a93fb",
   "metadata": {},
   "outputs": [
    {
     "data": {
      "text/plain": [
       "'NOT AVAILABLE'"
      ]
     },
     "execution_count": 20,
     "metadata": {},
     "output_type": "execute_result"
    }
   ],
   "source": [
    "max(df[\"release_date\"].unique())"
   ]
  },
  {
   "cell_type": "code",
   "execution_count": 21,
   "id": "e39c480c",
   "metadata": {},
   "outputs": [],
   "source": [
    "#Get only the data since Netflix was created\n",
    "df = df[df[\"release_date\"] >= \"2007-01-16\"]\n",
    "df = df[df[\"release_date\"] != \"NOT AVAILABLE\"]"
   ]
  },
  {
   "cell_type": "markdown",
   "id": "f97d9fd1",
   "metadata": {},
   "source": [
    "## movie_id"
   ]
  },
  {
   "cell_type": "code",
   "execution_count": 22,
   "id": "4ff6f7f8",
   "metadata": {},
   "outputs": [
    {
     "data": {
      "text/plain": [
       "0"
      ]
     },
     "execution_count": 22,
     "metadata": {},
     "output_type": "execute_result"
    }
   ],
   "source": [
    "len(df[df[\"movie_id\"].isna()])"
   ]
  },
  {
   "cell_type": "code",
   "execution_count": 23,
   "id": "ac099e5d",
   "metadata": {},
   "outputs": [
    {
     "data": {
      "text/plain": [
       "5442"
      ]
     },
     "execution_count": 23,
     "metadata": {},
     "output_type": "execute_result"
    }
   ],
   "source": [
    "len(df[\"movie_id\"].unique())"
   ]
  },
  {
   "cell_type": "markdown",
   "id": "df77c637",
   "metadata": {},
   "source": [
    "## user_id"
   ]
  },
  {
   "cell_type": "code",
   "execution_count": 24,
   "id": "627110cc",
   "metadata": {},
   "outputs": [
    {
     "data": {
      "text/plain": [
       "0"
      ]
     },
     "execution_count": 24,
     "metadata": {},
     "output_type": "execute_result"
    }
   ],
   "source": [
    "len(df[df[\"user_id\"].isna()])"
   ]
  },
  {
   "cell_type": "code",
   "execution_count": 25,
   "id": "3b83f01a",
   "metadata": {},
   "outputs": [
    {
     "data": {
      "text/plain": [
       "137665"
      ]
     },
     "execution_count": 25,
     "metadata": {},
     "output_type": "execute_result"
    }
   ],
   "source": [
    "len(df[\"user_id\"].unique())"
   ]
  },
  {
   "cell_type": "code",
   "execution_count": 26,
   "id": "82255a23",
   "metadata": {
    "scrolled": true
   },
   "outputs": [
    {
     "data": {
      "text/html": [
       "<div>\n",
       "<style scoped>\n",
       "    .dataframe tbody tr th:only-of-type {\n",
       "        vertical-align: middle;\n",
       "    }\n",
       "\n",
       "    .dataframe tbody tr th {\n",
       "        vertical-align: top;\n",
       "    }\n",
       "\n",
       "    .dataframe thead th {\n",
       "        text-align: right;\n",
       "    }\n",
       "</style>\n",
       "<table border=\"1\" class=\"dataframe\">\n",
       "  <thead>\n",
       "    <tr style=\"text-align: right;\">\n",
       "      <th></th>\n",
       "      <th>Unnamed: 0</th>\n",
       "      <th>datetime</th>\n",
       "      <th>duration</th>\n",
       "      <th>title</th>\n",
       "      <th>genres</th>\n",
       "      <th>release_date</th>\n",
       "      <th>movie_id</th>\n",
       "      <th>user_id</th>\n",
       "    </tr>\n",
       "  </thead>\n",
       "  <tbody>\n",
       "    <tr>\n",
       "      <th>0</th>\n",
       "      <td>58773</td>\n",
       "      <td>2017-01-01 01:15:09</td>\n",
       "      <td>0.0</td>\n",
       "      <td>Angus, Thongs and Perfect Snogging</td>\n",
       "      <td>Comedy, Drama, Romance</td>\n",
       "      <td>2008-07-25</td>\n",
       "      <td>26bd5987e8</td>\n",
       "      <td>1dea19f6fe</td>\n",
       "    </tr>\n",
       "    <tr>\n",
       "      <th>1</th>\n",
       "      <td>58774</td>\n",
       "      <td>2017-01-01 13:56:02</td>\n",
       "      <td>0.0</td>\n",
       "      <td>The Curse of Sleeping Beauty</td>\n",
       "      <td>Fantasy, Horror, Mystery, Thriller</td>\n",
       "      <td>2016-06-02</td>\n",
       "      <td>f26ed2675e</td>\n",
       "      <td>544dcbc510</td>\n",
       "    </tr>\n",
       "    <tr>\n",
       "      <th>2</th>\n",
       "      <td>58775</td>\n",
       "      <td>2017-01-01 15:17:47</td>\n",
       "      <td>10530.0</td>\n",
       "      <td>London Has Fallen</td>\n",
       "      <td>Action, Thriller</td>\n",
       "      <td>2016-03-04</td>\n",
       "      <td>f77e500e7a</td>\n",
       "      <td>7cbcc791bf</td>\n",
       "    </tr>\n",
       "    <tr>\n",
       "      <th>3</th>\n",
       "      <td>58776</td>\n",
       "      <td>2017-01-01 16:04:13</td>\n",
       "      <td>49.0</td>\n",
       "      <td>Vendetta</td>\n",
       "      <td>Action, Drama</td>\n",
       "      <td>2015-06-12</td>\n",
       "      <td>c74aec7673</td>\n",
       "      <td>ebf43c36b6</td>\n",
       "    </tr>\n",
       "    <tr>\n",
       "      <th>5</th>\n",
       "      <td>58778</td>\n",
       "      <td>2017-01-01 19:21:37</td>\n",
       "      <td>0.0</td>\n",
       "      <td>London Has Fallen</td>\n",
       "      <td>Action, Thriller</td>\n",
       "      <td>2016-03-04</td>\n",
       "      <td>f77e500e7a</td>\n",
       "      <td>c5bf4f3f57</td>\n",
       "    </tr>\n",
       "  </tbody>\n",
       "</table>\n",
       "</div>"
      ],
      "text/plain": [
       "   Unnamed: 0             datetime  duration  \\\n",
       "0       58773  2017-01-01 01:15:09       0.0   \n",
       "1       58774  2017-01-01 13:56:02       0.0   \n",
       "2       58775  2017-01-01 15:17:47   10530.0   \n",
       "3       58776  2017-01-01 16:04:13      49.0   \n",
       "5       58778  2017-01-01 19:21:37       0.0   \n",
       "\n",
       "                                title                              genres  \\\n",
       "0  Angus, Thongs and Perfect Snogging              Comedy, Drama, Romance   \n",
       "1        The Curse of Sleeping Beauty  Fantasy, Horror, Mystery, Thriller   \n",
       "2                   London Has Fallen                    Action, Thriller   \n",
       "3                            Vendetta                       Action, Drama   \n",
       "5                   London Has Fallen                    Action, Thriller   \n",
       "\n",
       "  release_date    movie_id     user_id  \n",
       "0   2008-07-25  26bd5987e8  1dea19f6fe  \n",
       "1   2016-06-02  f26ed2675e  544dcbc510  \n",
       "2   2016-03-04  f77e500e7a  7cbcc791bf  \n",
       "3   2015-06-12  c74aec7673  ebf43c36b6  \n",
       "5   2016-03-04  f77e500e7a  c5bf4f3f57  "
      ]
     },
     "execution_count": 26,
     "metadata": {},
     "output_type": "execute_result"
    }
   ],
   "source": [
    "df.head()"
   ]
  },
  {
   "cell_type": "markdown",
   "id": "b994e649",
   "metadata": {},
   "source": [
    "# Recommendation system"
   ]
  },
  {
   "cell_type": "code",
   "execution_count": 27,
   "id": "781cc005",
   "metadata": {},
   "outputs": [],
   "source": [
    "#MIRAAR\n",
    "distinct_movie_genre = df[['movie_id', 'genres', \"title\"]].drop_duplicates()\n",
    "clicks = df.groupby(['user_id', 'movie_id']).size().reset_index(name='Number_of_clicks')\n",
    "movie_genre = clicks.sort_values(by='Number_of_clicks', ascending=False).groupby('user_id').head(10).reset_index(drop=True)\n",
    "movie_genre = pd.merge(movie_genre, distinct_movie_genre, on = \"movie_id\", how = \"left\")\n",
    "movie_genre[\"genres\"] = movie_genre[\"genres\"].str.split(\", \")"
   ]
  },
  {
   "cell_type": "code",
   "execution_count": 28,
   "id": "a408869b",
   "metadata": {},
   "outputs": [
    {
     "data": {
      "text/html": [
       "<div>\n",
       "<style scoped>\n",
       "    .dataframe tbody tr th:only-of-type {\n",
       "        vertical-align: middle;\n",
       "    }\n",
       "\n",
       "    .dataframe tbody tr th {\n",
       "        vertical-align: top;\n",
       "    }\n",
       "\n",
       "    .dataframe thead th {\n",
       "        text-align: right;\n",
       "    }\n",
       "</style>\n",
       "<table border=\"1\" class=\"dataframe\">\n",
       "  <thead>\n",
       "    <tr style=\"text-align: right;\">\n",
       "      <th></th>\n",
       "      <th>user_id</th>\n",
       "      <th>movie_id</th>\n",
       "      <th>Number_of_clicks</th>\n",
       "      <th>genres</th>\n",
       "      <th>title</th>\n",
       "    </tr>\n",
       "  </thead>\n",
       "  <tbody>\n",
       "    <tr>\n",
       "      <th>0</th>\n",
       "      <td>7cdfd0e14a</td>\n",
       "      <td>40bccd3001</td>\n",
       "      <td>88</td>\n",
       "      <td>[Drama, Fantasy, Romance]</td>\n",
       "      <td>Twilight</td>\n",
       "    </tr>\n",
       "    <tr>\n",
       "      <th>1</th>\n",
       "      <td>e06f0be797</td>\n",
       "      <td>3f3b34e56f</td>\n",
       "      <td>54</td>\n",
       "      <td>[Action, Comedy, Crime, Thriller]</td>\n",
       "      <td>Rush Hour 3</td>\n",
       "    </tr>\n",
       "    <tr>\n",
       "      <th>2</th>\n",
       "      <td>59416738c3</td>\n",
       "      <td>cbdf9820bc</td>\n",
       "      <td>54</td>\n",
       "      <td>[Comedy, Romance]</td>\n",
       "      <td>The Ex</td>\n",
       "    </tr>\n",
       "    <tr>\n",
       "      <th>3</th>\n",
       "      <td>49d091aa63</td>\n",
       "      <td>b8a2658c23</td>\n",
       "      <td>48</td>\n",
       "      <td>[Comedy, Romance, Sport]</td>\n",
       "      <td>Chalet Girl</td>\n",
       "    </tr>\n",
       "    <tr>\n",
       "      <th>4</th>\n",
       "      <td>3675d9ba4a</td>\n",
       "      <td>948f2b5bf6</td>\n",
       "      <td>42</td>\n",
       "      <td>[Drama, Romance, Sci-Fi, Thriller]</td>\n",
       "      <td>Passengers</td>\n",
       "    </tr>\n",
       "  </tbody>\n",
       "</table>\n",
       "</div>"
      ],
      "text/plain": [
       "      user_id    movie_id  Number_of_clicks  \\\n",
       "0  7cdfd0e14a  40bccd3001                88   \n",
       "1  e06f0be797  3f3b34e56f                54   \n",
       "2  59416738c3  cbdf9820bc                54   \n",
       "3  49d091aa63  b8a2658c23                48   \n",
       "4  3675d9ba4a  948f2b5bf6                42   \n",
       "\n",
       "                               genres        title  \n",
       "0           [Drama, Fantasy, Romance]     Twilight  \n",
       "1   [Action, Comedy, Crime, Thriller]  Rush Hour 3  \n",
       "2                   [Comedy, Romance]       The Ex  \n",
       "3            [Comedy, Romance, Sport]  Chalet Girl  \n",
       "4  [Drama, Romance, Sci-Fi, Thriller]   Passengers  "
      ]
     },
     "execution_count": 28,
     "metadata": {},
     "output_type": "execute_result"
    }
   ],
   "source": [
    "movie_genre.head()"
   ]
  },
  {
   "cell_type": "code",
   "execution_count": 29,
   "id": "977587a4",
   "metadata": {},
   "outputs": [],
   "source": [
    "list_of_genres = list(movie_genre[\"genres\"])\n",
    "unique_genres = set(genre for genres in list_of_genres for genre in genres)\n",
    "unique_genres_list = list(unique_genres)\n",
    "genre_dict = {genre: i for i, genre in enumerate(sorted(unique_genres_list))}"
   ]
  },
  {
   "cell_type": "code",
   "execution_count": 30,
   "id": "da9f31cc",
   "metadata": {},
   "outputs": [],
   "source": [
    "users = movie_genre[\"user_id\"].unique()\n",
    "users_dict = {user: i for i, user in enumerate(sorted(users))}\n",
    "inverted_users_dict = {value: key for key, value in users_dict.items()}"
   ]
  },
  {
   "cell_type": "code",
   "execution_count": 31,
   "id": "8e2d8bea",
   "metadata": {},
   "outputs": [],
   "source": [
    "def matrix_representation_users_genres(users_dict, genre_dict, movie_genre):\n",
    "    df_shape = movie_genre.shape[0]\n",
    "    rows = len(genre_dict)\n",
    "    cols = len(users_dict)\n",
    "    matrix_representation = np.zeros((rows, cols), dtype = int)\n",
    "    \n",
    "    for i in range(df_shape):    \n",
    "        user = movie_genre.iloc[i][0]\n",
    "        genres = movie_genre.iloc[i][3]\n",
    "        for genre in genres:\n",
    "            matrix_representation[genre_dict[genre], users_dict[user]] = 1\n",
    "    return matrix_representation"
   ]
  },
  {
   "cell_type": "code",
   "execution_count": 32,
   "id": "8300e312",
   "metadata": {},
   "outputs": [],
   "source": [
    "def signature_matrix_minhash(n_hashes, hash_function, matrix_representation):\n",
    "    np.random.seed(41)\n",
    "    cols = len(matrix_representation[0])\n",
    "    signature_matrix = np.full((n_hashes, cols), np.inf)\n",
    "    a_b = [(round(np.random.uniform(0, 97)), round(np.random.uniform(0, 97))) for _ in range(n_hashes)]\n",
    "    for r in range(len(matrix_representation)):\n",
    "\n",
    "        hashes = [hash_function(a_b[i][0], r, a_b[i][1]) for i in range(n_hashes)]\n",
    "\n",
    "        cols_with_one = list(np.nonzero(matrix_representation[r])[0])\n",
    "\n",
    "        for col in cols_with_one:\n",
    "            for h in range(n_hashes):\n",
    "                if signature_matrix[h, col] > hashes[h]:\n",
    "                    signature_matrix[h, col] = hashes[h]\n",
    "    return signature_matrix"
   ]
  },
  {
   "cell_type": "code",
   "execution_count": 33,
   "id": "1b820238",
   "metadata": {},
   "outputs": [],
   "source": [
    "#MIRAAAAAR\n",
    "def hashing_function(bucket):\n",
    "    hash_result = 0\n",
    "    prime = 31  # Puedes elegir cualquier número primo\n",
    "\n",
    "    for elemento in bucket:\n",
    "        elemento_hash = hash(elemento)\n",
    "        \n",
    "        hash_result = hash_result * prime + elemento_hash\n",
    "\n",
    "    return hash_result"
   ]
  },
  {
   "cell_type": "code",
   "execution_count": 34,
   "id": "2b7e1735",
   "metadata": {},
   "outputs": [],
   "source": [
    "def lsh(signature_matrix, rows, inverted_dict):\n",
    "    buckets = {}\n",
    "    signature_matrix = signature_matrix.T\n",
    "    for index, row in enumerate(signature_matrix):\n",
    "        for n in range(0, len(row),rows):\n",
    "            band = row[n:n+rows]\n",
    "            hashed_value = hashing_function(band)\n",
    "            if hashed_value in buckets:\n",
    "                buckets[hashed_value].append(inverted_dict[index])\n",
    "            else:\n",
    "                buckets[hashed_value] = [inverted_dict[index]]\n",
    "    return buckets"
   ]
  },
  {
   "cell_type": "code",
   "execution_count": 35,
   "id": "7283b557",
   "metadata": {},
   "outputs": [],
   "source": [
    "def most_common_user(user_id, bucket):\n",
    "    buckets_user = []\n",
    "    users = []\n",
    "    for bucket in buckets.values():\n",
    "        if user_id in bucket:\n",
    "            buckets_user.append(bucket)\n",
    "    for bucket in buckets_user:\n",
    "        users.append(bucket)\n",
    "    users = list(np.concatenate(users))\n",
    "    counts = Counter(users).most_common()\n",
    "    return (counts[0][0], counts[1][0])"
   ]
  },
  {
   "cell_type": "code",
   "execution_count": 38,
   "id": "4a7aa3e2",
   "metadata": {},
   "outputs": [],
   "source": [
    "def get_films(common_users, movie_genre):\n",
    "    user1 = common_users[0]\n",
    "    user2 = common_users[1]\n",
    "    final_df = pd.DataFrame(columns=[\"user_id\", \"title\", \"Number_of_clicks\"])\n",
    "    films_to_show = 5\n",
    "\n",
    "    # 1. Movies in common based on number_clicks\n",
    "    df_movies1 = movie_genre[(movie_genre[\"user_id\"] == user1) & (movie_genre[\"user_id\"] == user2)]\n",
    "    df_movies1 = df_movies1.groupby(\"movie_id\")[\"Number_of_clicks\"].sum().reset_index()\n",
    "    df_movies1 = df_movies1.sort_values(by=\"Number_of_clicks\", ascending=False)\n",
    "    if not df_movies1.empty:\n",
    "        final_df = pd.concat([final_df, df_movies1[[\"user_id\", \"title\", \"Number_of_clicks\"]]])\n",
    "\n",
    "    # 2. Most clicked movies by the first user\n",
    "    df_movies2 = movie_genre[movie_genre[\"user_id\"] == user1].sort_values(by=\"Number_of_clicks\", ascending=False)\n",
    "    if not df_movies2.empty:\n",
    "        final_df = pd.concat([final_df, df_movies2[[\"user_id\", \"title\", \"Number_of_clicks\"]]])\n",
    "\n",
    "    # 3. Most clicked movies by the second user\n",
    "    df_movies3 = movie_genre[movie_genre[\"user_id\"] == user2].sort_values(by=\"Number_of_clicks\", ascending=False)\n",
    "    if not df_movies3.empty:\n",
    "        final_df = pd.concat([final_df, df_movies3[[\"user_id\", \"title\", \"Number_of_clicks\"]]])\n",
    "\n",
    "    return final_df.drop_duplicates()"
   ]
  },
  {
   "cell_type": "code",
   "execution_count": 41,
   "id": "1a63ad6e",
   "metadata": {},
   "outputs": [
    {
     "data": {
      "text/html": [
       "<div>\n",
       "<style scoped>\n",
       "    .dataframe tbody tr th:only-of-type {\n",
       "        vertical-align: middle;\n",
       "    }\n",
       "\n",
       "    .dataframe tbody tr th {\n",
       "        vertical-align: top;\n",
       "    }\n",
       "\n",
       "    .dataframe thead th {\n",
       "        text-align: right;\n",
       "    }\n",
       "</style>\n",
       "<table border=\"1\" class=\"dataframe\">\n",
       "  <thead>\n",
       "    <tr style=\"text-align: right;\">\n",
       "      <th></th>\n",
       "      <th>user_id</th>\n",
       "      <th>title</th>\n",
       "    </tr>\n",
       "  </thead>\n",
       "  <tbody>\n",
       "    <tr>\n",
       "      <th>253803</th>\n",
       "      <td>04ebe56321</td>\n",
       "      <td>Set It Up</td>\n",
       "    </tr>\n",
       "    <tr>\n",
       "      <th>253808</th>\n",
       "      <td>04ebe56321</td>\n",
       "      <td>Bring It On: Fight to the Finish</td>\n",
       "    </tr>\n",
       "    <tr>\n",
       "      <th>253215</th>\n",
       "      <td>05a954a3a0</td>\n",
       "      <td>Anchorman: The Legend Continues</td>\n",
       "    </tr>\n",
       "    <tr>\n",
       "      <th>253216</th>\n",
       "      <td>05a954a3a0</td>\n",
       "      <td>The Love Guru</td>\n",
       "    </tr>\n",
       "  </tbody>\n",
       "</table>\n",
       "</div>"
      ],
      "text/plain": [
       "           user_id                             title\n",
       "253803  04ebe56321                         Set It Up\n",
       "253808  04ebe56321  Bring It On: Fight to the Finish\n",
       "253215  05a954a3a0   Anchorman: The Legend Continues\n",
       "253216  05a954a3a0                     The Love Guru"
      ]
     },
     "execution_count": 41,
     "metadata": {},
     "output_type": "execute_result"
    }
   ],
   "source": [
    "matrix_representation = matrix_representation_users_genres(users_dict, genre_dict, movie_genre)\n",
    "n_hashes = 20\n",
    "hash_function = lambda a, x, b : (a * x + b) % 31\n",
    "signature_matrix = signature_matrix_minhash(n_hashes, hash_function, matrix_representation)\n",
    "buckets = lsh(signature_matrix, 4, inverted_users_dict)\n",
    "user_id = \"49d091aa63\"\n",
    "mc_users = most_common_user(user_id, buckets)\n",
    "df_films = get_films(mc_users, movie_genre)\n",
    "df_films.head(5)[[\"user_id\", \"title\"]]"
   ]
  },
  {
   "cell_type": "code",
   "execution_count": null,
   "id": "6806ba26",
   "metadata": {},
   "outputs": [],
   "source": []
  }
 ],
 "metadata": {
  "kernelspec": {
   "display_name": "Python 3 (ipykernel)",
   "language": "python",
   "name": "python3"
  },
  "language_info": {
   "codemirror_mode": {
    "name": "ipython",
    "version": 3
   },
   "file_extension": ".py",
   "mimetype": "text/x-python",
   "name": "python",
   "nbconvert_exporter": "python",
   "pygments_lexer": "ipython3",
   "version": "3.10.9"
  }
 },
 "nbformat": 4,
 "nbformat_minor": 5
}
