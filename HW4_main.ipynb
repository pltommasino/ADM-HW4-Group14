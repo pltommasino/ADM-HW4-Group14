{
 "cells": [
  {
   "cell_type": "markdown",
   "id": "fb6cf567",
   "metadata": {},
   "source": [
    "# Homework 4 - Recommendation systems and clustering everywhere"
   ]
  },
  {
   "cell_type": "markdown",
   "id": "28e2c080",
   "metadata": {},
   "source": [
    "Behavioral user data is a valuable resource for understanding audience patterns on Netflix, particularly in the context of UK movies. It offers insights into how viewers interact with the popular streaming platform, allowing researchers and data enthusiasts to explore trends, preferences, and patterns in user engagement with Netflix content. Whether you're interested in analyzing viewing habits, content popularity, or user demographics, this information provides a rich source to gain a deeper understanding of Netflix audience behavior in the United Kingdom.\n",
    "\n",
    "Now, you and your team have been hired by Netflix to get to know their users. In other words, you will implement hashing and clustering techniques to extract relevant information and highlights from those users and their behavior inside the platform.\n",
    "\n",
    "Then, let's get started!"
   ]
  },
  {
   "cell_type": "markdown",
   "id": "1bd6c038",
   "metadata": {},
   "source": [
    "## 1. Recommendation system\n"
   ]
  },
  {
   "cell_type": "markdown",
   "id": "c6cc5f06",
   "metadata": {},
   "source": [
    "Implementing a recommendation system is critical for businesses and digital platforms that want to thrive in today's competitive environment. These systems use data-driven personalization to tailor content, products, and services to individual user preferences. The latter improves user engagement, satisfaction, retention, and revenue through increased sales and cross-selling opportunities. In this section, you will attempt to implement a recommendation system by identifying similar users' preferences and recommending movies they watch to the study user.\n",
    "\n",
    "To be more specific, you will implement your version of the LSH algorithm, which will take as input the user's preferred genre of movies, find the most similar users to this user, and recommend the most watched movies by those who are more similar to the user.\n",
    "\n",
    "Data: The data you will be working with can be found here.\n",
    "\n",
    "Looking at the data, you can see that there is data available for each user for the movies the user clicked on. Gather the title and genre of the maximum top 10 movies that each user clicked on regarding the number of clicks."
   ]
  },
  {
   "cell_type": "code",
   "execution_count": 47,
   "id": "eea07145",
   "metadata": {},
   "outputs": [],
   "source": [
    "import numpy as np\n",
    "import pandas as pd\n",
    "from collections import Counter"
   ]
  },
  {
   "cell_type": "code",
   "execution_count": 48,
   "id": "c234c562",
   "metadata": {},
   "outputs": [],
   "source": [
    "df = pd.read_csv(\"vodclickstream_uk_movies_03.csv\")"
   ]
  },
  {
   "cell_type": "code",
   "execution_count": 49,
   "id": "5a03a6dd",
   "metadata": {},
   "outputs": [
    {
     "data": {
      "text/html": [
       "<div>\n",
       "<style scoped>\n",
       "    .dataframe tbody tr th:only-of-type {\n",
       "        vertical-align: middle;\n",
       "    }\n",
       "\n",
       "    .dataframe tbody tr th {\n",
       "        vertical-align: top;\n",
       "    }\n",
       "\n",
       "    .dataframe thead th {\n",
       "        text-align: right;\n",
       "    }\n",
       "</style>\n",
       "<table border=\"1\" class=\"dataframe\">\n",
       "  <thead>\n",
       "    <tr style=\"text-align: right;\">\n",
       "      <th></th>\n",
       "      <th>Unnamed: 0</th>\n",
       "      <th>datetime</th>\n",
       "      <th>duration</th>\n",
       "      <th>title</th>\n",
       "      <th>genres</th>\n",
       "      <th>release_date</th>\n",
       "      <th>movie_id</th>\n",
       "      <th>user_id</th>\n",
       "    </tr>\n",
       "  </thead>\n",
       "  <tbody>\n",
       "    <tr>\n",
       "      <th>0</th>\n",
       "      <td>58773</td>\n",
       "      <td>2017-01-01 01:15:09</td>\n",
       "      <td>0.0</td>\n",
       "      <td>Angus, Thongs and Perfect Snogging</td>\n",
       "      <td>Comedy, Drama, Romance</td>\n",
       "      <td>2008-07-25</td>\n",
       "      <td>26bd5987e8</td>\n",
       "      <td>1dea19f6fe</td>\n",
       "    </tr>\n",
       "    <tr>\n",
       "      <th>1</th>\n",
       "      <td>58774</td>\n",
       "      <td>2017-01-01 13:56:02</td>\n",
       "      <td>0.0</td>\n",
       "      <td>The Curse of Sleeping Beauty</td>\n",
       "      <td>Fantasy, Horror, Mystery, Thriller</td>\n",
       "      <td>2016-06-02</td>\n",
       "      <td>f26ed2675e</td>\n",
       "      <td>544dcbc510</td>\n",
       "    </tr>\n",
       "    <tr>\n",
       "      <th>2</th>\n",
       "      <td>58775</td>\n",
       "      <td>2017-01-01 15:17:47</td>\n",
       "      <td>10530.0</td>\n",
       "      <td>London Has Fallen</td>\n",
       "      <td>Action, Thriller</td>\n",
       "      <td>2016-03-04</td>\n",
       "      <td>f77e500e7a</td>\n",
       "      <td>7cbcc791bf</td>\n",
       "    </tr>\n",
       "    <tr>\n",
       "      <th>3</th>\n",
       "      <td>58776</td>\n",
       "      <td>2017-01-01 16:04:13</td>\n",
       "      <td>49.0</td>\n",
       "      <td>Vendetta</td>\n",
       "      <td>Action, Drama</td>\n",
       "      <td>2015-06-12</td>\n",
       "      <td>c74aec7673</td>\n",
       "      <td>ebf43c36b6</td>\n",
       "    </tr>\n",
       "    <tr>\n",
       "      <th>4</th>\n",
       "      <td>58777</td>\n",
       "      <td>2017-01-01 19:16:37</td>\n",
       "      <td>0.0</td>\n",
       "      <td>The SpongeBob SquarePants Movie</td>\n",
       "      <td>Animation, Action, Adventure, Comedy, Family, ...</td>\n",
       "      <td>2004-11-19</td>\n",
       "      <td>a80d6fc2aa</td>\n",
       "      <td>a57c992287</td>\n",
       "    </tr>\n",
       "  </tbody>\n",
       "</table>\n",
       "</div>"
      ],
      "text/plain": [
       "   Unnamed: 0             datetime  duration  \\\n",
       "0       58773  2017-01-01 01:15:09       0.0   \n",
       "1       58774  2017-01-01 13:56:02       0.0   \n",
       "2       58775  2017-01-01 15:17:47   10530.0   \n",
       "3       58776  2017-01-01 16:04:13      49.0   \n",
       "4       58777  2017-01-01 19:16:37       0.0   \n",
       "\n",
       "                                title  \\\n",
       "0  Angus, Thongs and Perfect Snogging   \n",
       "1        The Curse of Sleeping Beauty   \n",
       "2                   London Has Fallen   \n",
       "3                            Vendetta   \n",
       "4     The SpongeBob SquarePants Movie   \n",
       "\n",
       "                                              genres release_date    movie_id  \\\n",
       "0                             Comedy, Drama, Romance   2008-07-25  26bd5987e8   \n",
       "1                 Fantasy, Horror, Mystery, Thriller   2016-06-02  f26ed2675e   \n",
       "2                                   Action, Thriller   2016-03-04  f77e500e7a   \n",
       "3                                      Action, Drama   2015-06-12  c74aec7673   \n",
       "4  Animation, Action, Adventure, Comedy, Family, ...   2004-11-19  a80d6fc2aa   \n",
       "\n",
       "      user_id  \n",
       "0  1dea19f6fe  \n",
       "1  544dcbc510  \n",
       "2  7cbcc791bf  \n",
       "3  ebf43c36b6  \n",
       "4  a57c992287  "
      ]
     },
     "execution_count": 49,
     "metadata": {},
     "output_type": "execute_result"
    }
   ],
   "source": [
    "df.head()"
   ]
  },
  {
   "cell_type": "code",
   "execution_count": 50,
   "id": "16942649",
   "metadata": {},
   "outputs": [
    {
     "data": {
      "text/plain": [
       "(671736, 8)"
      ]
     },
     "execution_count": 50,
     "metadata": {},
     "output_type": "execute_result"
    }
   ],
   "source": [
    "df.shape"
   ]
  },
  {
   "cell_type": "markdown",
   "id": "ec5fbcaf",
   "metadata": {},
   "source": [
    "### datetime"
   ]
  },
  {
   "cell_type": "code",
   "execution_count": 51,
   "id": "79414599",
   "metadata": {},
   "outputs": [
    {
     "data": {
      "text/plain": [
       "0"
      ]
     },
     "execution_count": 51,
     "metadata": {},
     "output_type": "execute_result"
    }
   ],
   "source": [
    "len(df[df[\"datetime\"].isna()])"
   ]
  },
  {
   "cell_type": "code",
   "execution_count": 52,
   "id": "e10840b3",
   "metadata": {},
   "outputs": [
    {
     "data": {
      "text/plain": [
       "'2017-01-01 00:02:21'"
      ]
     },
     "execution_count": 52,
     "metadata": {},
     "output_type": "execute_result"
    }
   ],
   "source": [
    "min(df[\"datetime\"].unique())"
   ]
  },
  {
   "cell_type": "code",
   "execution_count": 53,
   "id": "6df37476",
   "metadata": {},
   "outputs": [
    {
     "data": {
      "text/plain": [
       "'2019-06-30 23:59:20'"
      ]
     },
     "execution_count": 53,
     "metadata": {},
     "output_type": "execute_result"
    }
   ],
   "source": [
    "max(df[\"datetime\"].unique())"
   ]
  },
  {
   "cell_type": "markdown",
   "id": "39694933",
   "metadata": {},
   "source": [
    "### duration"
   ]
  },
  {
   "cell_type": "code",
   "execution_count": 54,
   "id": "37d2e6af",
   "metadata": {},
   "outputs": [
    {
     "data": {
      "text/plain": [
       "0"
      ]
     },
     "execution_count": 54,
     "metadata": {},
     "output_type": "execute_result"
    }
   ],
   "source": [
    "len(df[df[\"duration\"].isna()])"
   ]
  },
  {
   "cell_type": "code",
   "execution_count": 55,
   "id": "4aaa6238",
   "metadata": {},
   "outputs": [
    {
     "data": {
      "text/plain": [
       "-1.0"
      ]
     },
     "execution_count": 55,
     "metadata": {},
     "output_type": "execute_result"
    }
   ],
   "source": [
    "min(df[\"duration\"].unique())"
   ]
  },
  {
   "cell_type": "code",
   "execution_count": 56,
   "id": "8d117acc",
   "metadata": {},
   "outputs": [
    {
     "data": {
      "text/plain": [
       "18237253.0"
      ]
     },
     "execution_count": 56,
     "metadata": {},
     "output_type": "execute_result"
    }
   ],
   "source": [
    "max(df[\"duration\"].unique())"
   ]
  },
  {
   "cell_type": "code",
   "execution_count": 57,
   "id": "5c0a1118",
   "metadata": {},
   "outputs": [],
   "source": [
    "df = df[df[\"duration\"] >= 0]"
   ]
  },
  {
   "cell_type": "markdown",
   "id": "8cfd63d9",
   "metadata": {},
   "source": [
    "### title"
   ]
  },
  {
   "cell_type": "code",
   "execution_count": 58,
   "id": "e9fbbfbc",
   "metadata": {},
   "outputs": [
    {
     "data": {
      "text/plain": [
       "0"
      ]
     },
     "execution_count": 58,
     "metadata": {},
     "output_type": "execute_result"
    }
   ],
   "source": [
    "len(df[df[\"title\"].isna()])"
   ]
  },
  {
   "cell_type": "code",
   "execution_count": 59,
   "id": "d97a2814",
   "metadata": {},
   "outputs": [
    {
     "data": {
      "text/plain": [
       "0"
      ]
     },
     "execution_count": 59,
     "metadata": {},
     "output_type": "execute_result"
    }
   ],
   "source": [
    "len(df[df[\"title\"]==\" \"])"
   ]
  },
  {
   "cell_type": "code",
   "execution_count": 60,
   "id": "0e667044",
   "metadata": {},
   "outputs": [
    {
     "data": {
      "text/plain": [
       "7874"
      ]
     },
     "execution_count": 60,
     "metadata": {},
     "output_type": "execute_result"
    }
   ],
   "source": [
    "len(df[\"title\"].unique())"
   ]
  },
  {
   "cell_type": "markdown",
   "id": "968ebaf8",
   "metadata": {},
   "source": [
    "### genres"
   ]
  },
  {
   "cell_type": "code",
   "execution_count": 61,
   "id": "5014cf89",
   "metadata": {},
   "outputs": [
    {
     "data": {
      "text/plain": [
       "0"
      ]
     },
     "execution_count": 61,
     "metadata": {},
     "output_type": "execute_result"
    }
   ],
   "source": [
    "len(df[df[\"genres\"].isna()])"
   ]
  },
  {
   "cell_type": "code",
   "execution_count": 62,
   "id": "88b01df7",
   "metadata": {},
   "outputs": [
    {
     "data": {
      "text/plain": [
       "0"
      ]
     },
     "execution_count": 62,
     "metadata": {},
     "output_type": "execute_result"
    }
   ],
   "source": [
    "len(df[df[\"genres\"]==\" \"])"
   ]
  },
  {
   "cell_type": "code",
   "execution_count": 63,
   "id": "0795bf58",
   "metadata": {},
   "outputs": [],
   "source": [
    "df = df[df[\"genres\"] != \"NOT AVAILABLE\"]"
   ]
  },
  {
   "cell_type": "markdown",
   "id": "1de0ff06",
   "metadata": {},
   "source": [
    "### release_date"
   ]
  },
  {
   "cell_type": "code",
   "execution_count": 64,
   "id": "2603572d",
   "metadata": {},
   "outputs": [
    {
     "data": {
      "text/plain": [
       "0"
      ]
     },
     "execution_count": 64,
     "metadata": {},
     "output_type": "execute_result"
    }
   ],
   "source": [
    "len(df[df[\"release_date\"].isna()])"
   ]
  },
  {
   "cell_type": "code",
   "execution_count": 65,
   "id": "2bcc4a9e",
   "metadata": {},
   "outputs": [
    {
     "data": {
      "text/plain": [
       "'1920-10-01'"
      ]
     },
     "execution_count": 65,
     "metadata": {},
     "output_type": "execute_result"
    }
   ],
   "source": [
    "min(df[\"release_date\"].unique())"
   ]
  },
  {
   "cell_type": "code",
   "execution_count": 66,
   "id": "63b8a298",
   "metadata": {},
   "outputs": [
    {
     "data": {
      "text/plain": [
       "'NOT AVAILABLE'"
      ]
     },
     "execution_count": 66,
     "metadata": {},
     "output_type": "execute_result"
    }
   ],
   "source": [
    "max(df[\"release_date\"].unique())"
   ]
  },
  {
   "cell_type": "code",
   "execution_count": 67,
   "id": "c0d9d89b",
   "metadata": {},
   "outputs": [],
   "source": [
    "#Get only the data since Netflix was created\n",
    "df = df[df[\"release_date\"] >= \"2007-01-16\"]\n",
    "df = df[df[\"release_date\"] != \"NOT AVAILABLE\"]"
   ]
  },
  {
   "cell_type": "markdown",
   "id": "031c1c11",
   "metadata": {},
   "source": [
    "### movie_id"
   ]
  },
  {
   "cell_type": "code",
   "execution_count": 68,
   "id": "7eb4e3a1",
   "metadata": {},
   "outputs": [
    {
     "data": {
      "text/plain": [
       "0"
      ]
     },
     "execution_count": 68,
     "metadata": {},
     "output_type": "execute_result"
    }
   ],
   "source": [
    "len(df[df[\"movie_id\"].isna()])"
   ]
  },
  {
   "cell_type": "code",
   "execution_count": 69,
   "id": "6867c985",
   "metadata": {},
   "outputs": [
    {
     "data": {
      "text/plain": [
       "5442"
      ]
     },
     "execution_count": 69,
     "metadata": {},
     "output_type": "execute_result"
    }
   ],
   "source": [
    "len(df[\"movie_id\"].unique())"
   ]
  },
  {
   "cell_type": "markdown",
   "id": "9e52669c",
   "metadata": {},
   "source": [
    "### user_id"
   ]
  },
  {
   "cell_type": "code",
   "execution_count": 70,
   "id": "1b0c86cd",
   "metadata": {},
   "outputs": [
    {
     "data": {
      "text/plain": [
       "0"
      ]
     },
     "execution_count": 70,
     "metadata": {},
     "output_type": "execute_result"
    }
   ],
   "source": [
    "len(df[df[\"user_id\"].isna()])"
   ]
  },
  {
   "cell_type": "code",
   "execution_count": 71,
   "id": "cb18b5bf",
   "metadata": {},
   "outputs": [
    {
     "data": {
      "text/plain": [
       "137665"
      ]
     },
     "execution_count": 71,
     "metadata": {},
     "output_type": "execute_result"
    }
   ],
   "source": [
    "len(df[\"user_id\"].unique())"
   ]
  },
  {
   "cell_type": "code",
   "execution_count": 72,
   "id": "571d1046",
   "metadata": {},
   "outputs": [
    {
     "data": {
      "text/html": [
       "<div>\n",
       "<style scoped>\n",
       "    .dataframe tbody tr th:only-of-type {\n",
       "        vertical-align: middle;\n",
       "    }\n",
       "\n",
       "    .dataframe tbody tr th {\n",
       "        vertical-align: top;\n",
       "    }\n",
       "\n",
       "    .dataframe thead th {\n",
       "        text-align: right;\n",
       "    }\n",
       "</style>\n",
       "<table border=\"1\" class=\"dataframe\">\n",
       "  <thead>\n",
       "    <tr style=\"text-align: right;\">\n",
       "      <th></th>\n",
       "      <th>Unnamed: 0</th>\n",
       "      <th>datetime</th>\n",
       "      <th>duration</th>\n",
       "      <th>title</th>\n",
       "      <th>genres</th>\n",
       "      <th>release_date</th>\n",
       "      <th>movie_id</th>\n",
       "      <th>user_id</th>\n",
       "    </tr>\n",
       "  </thead>\n",
       "  <tbody>\n",
       "    <tr>\n",
       "      <th>0</th>\n",
       "      <td>58773</td>\n",
       "      <td>2017-01-01 01:15:09</td>\n",
       "      <td>0.0</td>\n",
       "      <td>Angus, Thongs and Perfect Snogging</td>\n",
       "      <td>Comedy, Drama, Romance</td>\n",
       "      <td>2008-07-25</td>\n",
       "      <td>26bd5987e8</td>\n",
       "      <td>1dea19f6fe</td>\n",
       "    </tr>\n",
       "    <tr>\n",
       "      <th>1</th>\n",
       "      <td>58774</td>\n",
       "      <td>2017-01-01 13:56:02</td>\n",
       "      <td>0.0</td>\n",
       "      <td>The Curse of Sleeping Beauty</td>\n",
       "      <td>Fantasy, Horror, Mystery, Thriller</td>\n",
       "      <td>2016-06-02</td>\n",
       "      <td>f26ed2675e</td>\n",
       "      <td>544dcbc510</td>\n",
       "    </tr>\n",
       "    <tr>\n",
       "      <th>2</th>\n",
       "      <td>58775</td>\n",
       "      <td>2017-01-01 15:17:47</td>\n",
       "      <td>10530.0</td>\n",
       "      <td>London Has Fallen</td>\n",
       "      <td>Action, Thriller</td>\n",
       "      <td>2016-03-04</td>\n",
       "      <td>f77e500e7a</td>\n",
       "      <td>7cbcc791bf</td>\n",
       "    </tr>\n",
       "    <tr>\n",
       "      <th>3</th>\n",
       "      <td>58776</td>\n",
       "      <td>2017-01-01 16:04:13</td>\n",
       "      <td>49.0</td>\n",
       "      <td>Vendetta</td>\n",
       "      <td>Action, Drama</td>\n",
       "      <td>2015-06-12</td>\n",
       "      <td>c74aec7673</td>\n",
       "      <td>ebf43c36b6</td>\n",
       "    </tr>\n",
       "    <tr>\n",
       "      <th>5</th>\n",
       "      <td>58778</td>\n",
       "      <td>2017-01-01 19:21:37</td>\n",
       "      <td>0.0</td>\n",
       "      <td>London Has Fallen</td>\n",
       "      <td>Action, Thriller</td>\n",
       "      <td>2016-03-04</td>\n",
       "      <td>f77e500e7a</td>\n",
       "      <td>c5bf4f3f57</td>\n",
       "    </tr>\n",
       "  </tbody>\n",
       "</table>\n",
       "</div>"
      ],
      "text/plain": [
       "   Unnamed: 0             datetime  duration  \\\n",
       "0       58773  2017-01-01 01:15:09       0.0   \n",
       "1       58774  2017-01-01 13:56:02       0.0   \n",
       "2       58775  2017-01-01 15:17:47   10530.0   \n",
       "3       58776  2017-01-01 16:04:13      49.0   \n",
       "5       58778  2017-01-01 19:21:37       0.0   \n",
       "\n",
       "                                title                              genres  \\\n",
       "0  Angus, Thongs and Perfect Snogging              Comedy, Drama, Romance   \n",
       "1        The Curse of Sleeping Beauty  Fantasy, Horror, Mystery, Thriller   \n",
       "2                   London Has Fallen                    Action, Thriller   \n",
       "3                            Vendetta                       Action, Drama   \n",
       "5                   London Has Fallen                    Action, Thriller   \n",
       "\n",
       "  release_date    movie_id     user_id  \n",
       "0   2008-07-25  26bd5987e8  1dea19f6fe  \n",
       "1   2016-06-02  f26ed2675e  544dcbc510  \n",
       "2   2016-03-04  f77e500e7a  7cbcc791bf  \n",
       "3   2015-06-12  c74aec7673  ebf43c36b6  \n",
       "5   2016-03-04  f77e500e7a  c5bf4f3f57  "
      ]
     },
     "execution_count": 72,
     "metadata": {},
     "output_type": "execute_result"
    }
   ],
   "source": [
    "df.head()"
   ]
  },
  {
   "cell_type": "markdown",
   "id": "a43b938d",
   "metadata": {},
   "source": [
    "### 1.2 Minhash Signatures\n"
   ]
  },
  {
   "cell_type": "markdown",
   "id": "3b57fc4e",
   "metadata": {},
   "source": [
    "Using the movie genre and user_ids, try to implement your min-hash signatures so that users with similar interests in a genre appear in the same bucket.\n",
    "\n",
    "Important note: You must write your minhash function from scratch. You are not permitted to use any already implemented hash functions. Read the class materials and, if necessary, conduct an internet search. The description of hash functions in the book may be helpful as a reference."
   ]
  },
  {
   "cell_type": "code",
   "execution_count": 73,
   "id": "ea445d37",
   "metadata": {},
   "outputs": [],
   "source": [
    "#Get for every user the top10 movies.\n",
    "distinct_movie_genre = df[['movie_id', 'genres', \"title\"]].drop_duplicates()\n",
    "clicks = df.groupby(['user_id', 'movie_id']).size().reset_index(name='Number_of_clicks')\n",
    "movie_genre = clicks.sort_values(by='Number_of_clicks', ascending=False).groupby('user_id').head(10).reset_index(drop=True)\n",
    "movie_genre = pd.merge(movie_genre, distinct_movie_genre, on = \"movie_id\", how = \"left\")\n",
    "movie_genre[\"genres\"] = movie_genre[\"genres\"].str.split(\", \")"
   ]
  },
  {
   "cell_type": "code",
   "execution_count": 74,
   "id": "6d9744ee",
   "metadata": {},
   "outputs": [
    {
     "data": {
      "text/html": [
       "<div>\n",
       "<style scoped>\n",
       "    .dataframe tbody tr th:only-of-type {\n",
       "        vertical-align: middle;\n",
       "    }\n",
       "\n",
       "    .dataframe tbody tr th {\n",
       "        vertical-align: top;\n",
       "    }\n",
       "\n",
       "    .dataframe thead th {\n",
       "        text-align: right;\n",
       "    }\n",
       "</style>\n",
       "<table border=\"1\" class=\"dataframe\">\n",
       "  <thead>\n",
       "    <tr style=\"text-align: right;\">\n",
       "      <th></th>\n",
       "      <th>user_id</th>\n",
       "      <th>movie_id</th>\n",
       "      <th>Number_of_clicks</th>\n",
       "      <th>genres</th>\n",
       "      <th>title</th>\n",
       "    </tr>\n",
       "  </thead>\n",
       "  <tbody>\n",
       "    <tr>\n",
       "      <th>0</th>\n",
       "      <td>7cdfd0e14a</td>\n",
       "      <td>40bccd3001</td>\n",
       "      <td>88</td>\n",
       "      <td>[Drama, Fantasy, Romance]</td>\n",
       "      <td>Twilight</td>\n",
       "    </tr>\n",
       "    <tr>\n",
       "      <th>1</th>\n",
       "      <td>e06f0be797</td>\n",
       "      <td>3f3b34e56f</td>\n",
       "      <td>54</td>\n",
       "      <td>[Action, Comedy, Crime, Thriller]</td>\n",
       "      <td>Rush Hour 3</td>\n",
       "    </tr>\n",
       "    <tr>\n",
       "      <th>2</th>\n",
       "      <td>59416738c3</td>\n",
       "      <td>cbdf9820bc</td>\n",
       "      <td>54</td>\n",
       "      <td>[Comedy, Romance]</td>\n",
       "      <td>The Ex</td>\n",
       "    </tr>\n",
       "    <tr>\n",
       "      <th>3</th>\n",
       "      <td>49d091aa63</td>\n",
       "      <td>b8a2658c23</td>\n",
       "      <td>48</td>\n",
       "      <td>[Comedy, Romance, Sport]</td>\n",
       "      <td>Chalet Girl</td>\n",
       "    </tr>\n",
       "    <tr>\n",
       "      <th>4</th>\n",
       "      <td>3675d9ba4a</td>\n",
       "      <td>948f2b5bf6</td>\n",
       "      <td>42</td>\n",
       "      <td>[Drama, Romance, Sci-Fi, Thriller]</td>\n",
       "      <td>Passengers</td>\n",
       "    </tr>\n",
       "  </tbody>\n",
       "</table>\n",
       "</div>"
      ],
      "text/plain": [
       "      user_id    movie_id  Number_of_clicks  \\\n",
       "0  7cdfd0e14a  40bccd3001                88   \n",
       "1  e06f0be797  3f3b34e56f                54   \n",
       "2  59416738c3  cbdf9820bc                54   \n",
       "3  49d091aa63  b8a2658c23                48   \n",
       "4  3675d9ba4a  948f2b5bf6                42   \n",
       "\n",
       "                               genres        title  \n",
       "0           [Drama, Fantasy, Romance]     Twilight  \n",
       "1   [Action, Comedy, Crime, Thriller]  Rush Hour 3  \n",
       "2                   [Comedy, Romance]       The Ex  \n",
       "3            [Comedy, Romance, Sport]  Chalet Girl  \n",
       "4  [Drama, Romance, Sci-Fi, Thriller]   Passengers  "
      ]
     },
     "execution_count": 74,
     "metadata": {},
     "output_type": "execute_result"
    }
   ],
   "source": [
    "movie_genre.head()"
   ]
  },
  {
   "cell_type": "code",
   "execution_count": 75,
   "id": "63da18ff",
   "metadata": {},
   "outputs": [],
   "source": [
    "#Generate  slist of uniques genres\n",
    "list_of_genres = list(movie_genre[\"genres\"])\n",
    "unique_genres = set(genre for genres in list_of_genres for genre in genres)\n",
    "unique_genres_list = list(unique_genres)\n",
    "genre_dict = {genre: i for i, genre in enumerate(sorted(unique_genres_list))}"
   ]
  },
  {
   "cell_type": "code",
   "execution_count": 76,
   "id": "ea01ba62",
   "metadata": {},
   "outputs": [],
   "source": [
    "#Genrate a list of unique users\n",
    "users = movie_genre[\"user_id\"].unique()\n",
    "users_dict = {user: i for i, user in enumerate(sorted(users))}\n",
    "inverted_users_dict = {value: key for key, value in users_dict.items()}"
   ]
  },
  {
   "cell_type": "code",
   "execution_count": 77,
   "id": "377b359e",
   "metadata": {},
   "outputs": [],
   "source": [
    "def matrix_representation_users_genres(users_dict, genre_dict, movie_genre):\n",
    "    \"\"\"\n",
    "    Return the matrix representation, with cols as users and rows as genres. 1 will mean that a user has in common this genre, 0 otherwise.\n",
    "    \"\"\"\n",
    "    df_shape = movie_genre.shape[0]\n",
    "    rows = len(genre_dict)\n",
    "    cols = len(users_dict)\n",
    "    matrix_representation = np.zeros((rows, cols), dtype = int)\n",
    "    \n",
    "    for i in range(df_shape):    \n",
    "        user = movie_genre.iloc[i][0]\n",
    "        genres = movie_genre.iloc[i][3]\n",
    "        for genre in genres:\n",
    "            matrix_representation[genre_dict[genre], users_dict[user]] = 1\n",
    "    return matrix_representation"
   ]
  },
  {
   "cell_type": "code",
   "execution_count": 78,
   "id": "4b46e4da",
   "metadata": {},
   "outputs": [],
   "source": [
    "def signature_matrix_minhash(n_hashes, hash_function, matrix_representation):\n",
    "    \"\"\"\n",
    "    Compute minhash signature matrix with n_hashes hash functions genrated randomly.\n",
    "    \"\"\"\n",
    "    np.random.seed(41)\n",
    "    cols = len(matrix_representation[0])\n",
    "    signature_matrix = np.full((n_hashes, cols), np.inf)\n",
    "    a_b = [(round(np.random.uniform(1, 999)), round(np.random.uniform(1, 999))) for _ in range(n_hashes)]\n",
    "    for r in range(len(matrix_representation)):\n",
    "\n",
    "        hashes = [hash_function(a_b[i][0], r, a_b[i][1]) for i in range(n_hashes)]\n",
    "\n",
    "        cols_with_one = list(np.nonzero(matrix_representation[r])[0])\n",
    "\n",
    "        for col in cols_with_one:\n",
    "            for h in range(n_hashes):\n",
    "                if signature_matrix[h, col] > hashes[h]:\n",
    "                    signature_matrix[h, col] = hashes[h]\n",
    "    return signature_matrix"
   ]
  },
  {
   "cell_type": "code",
   "execution_count": 79,
   "id": "b2d33a8a",
   "metadata": {},
   "outputs": [],
   "source": [
    "matrix_representation = matrix_representation_users_genres(users_dict, genre_dict, movie_genre)\n",
    "n_hashes = 20\n",
    "hash_function = lambda a, x, b : (a * x + b) % 31\n",
    "signature_matrix = signature_matrix_minhash(n_hashes, hash_function, matrix_representation)"
   ]
  },
  {
   "cell_type": "code",
   "execution_count": 80,
   "id": "39956969",
   "metadata": {},
   "outputs": [
    {
     "data": {
      "text/plain": [
       "array([[ 0.,  8.,  6., ...,  6.,  0.,  3.],\n",
       "       [ 1.,  5.,  2., ...,  2.,  2.,  5.],\n",
       "       [ 0., 10., 10., ..., 13.,  4.,  4.],\n",
       "       ...,\n",
       "       [ 1., 10., 10., ..., 10.,  0.,  2.],\n",
       "       [ 0.,  2.,  2., ...,  2.,  0.,  4.],\n",
       "       [ 0.,  0.,  0., ...,  0.,  3.,  0.]])"
      ]
     },
     "execution_count": 80,
     "metadata": {},
     "output_type": "execute_result"
    }
   ],
   "source": [
    "signature_matrix"
   ]
  },
  {
   "cell_type": "markdown",
   "id": "4d9b74a8",
   "metadata": {},
   "source": [
    "### 1.3 Locality-Sensitive Hashing (LSH)\n"
   ]
  },
  {
   "cell_type": "markdown",
   "id": "561ffd68",
   "metadata": {},
   "source": [
    "Now that your buckets are ready, it's time to ask a few queries. We will provide you with some user_ids and ask you to recommend at most five movies to the user to watch based on the movies clicked by similar users.\n",
    "\n",
    "To recommend at most five movies given a user_id, use the following procedure:\n",
    "\n",
    "1. Identify the two most similar users to this user.\n",
    "2. If these two users have any movies in common, recommend those movies based on the total number of clicks by these users.\n",
    "3. If there are no more common movies, try to propose the most clicked movies by the most similar user first, followed by the other user.\n",
    "\n",
    "Note: At the end of the process, we expect to see at most five movies recommended to the user.\n",
    "\n",
    "Example: assume you've identified user A and B as the most similar users to a single user, and we have the following records on these users:\n",
    "\n",
    "- User A with 80% similarity\n",
    "- User B with 50% similarity\n",
    "\n",
    "| user | movie title              | #clicks |\n",
    "|------|--------------------------|---------|\n",
    "| A    | Wild Child               | 20      |\n",
    "| A    | Innocence                | 10      |\n",
    "| A    | Coin Heist               | 2       |\n",
    "| B    | Innocence                | 30      |\n",
    "| B    | Coin Heist               | 15      |\n",
    "| B    | Before I Fall            | 30      |\n",
    "| B    | Beyond Skyline           | 8       |\n",
    "| B    | The Amazing Spider-Man   | 5       |\n",
    "\n",
    "- **Recommended Movies in Order:**\n",
    "   - Innocence\n",
    "   - Coin Heist\n",
    "   - Wild Child\n",
    "   - Before I Fall\n",
    "   - Beyond Skyline\n"
   ]
  },
  {
   "cell_type": "code",
   "execution_count": 81,
   "id": "4e7efc5e",
   "metadata": {},
   "outputs": [],
   "source": [
    "def hashing_function(bucket):\n",
    "    \"\"\"\n",
    "    Hashing of a tuple. Concatenate all the hasgings of the elements of the tuple.\n",
    "    \"\"\"\n",
    "    hashing = \"\"\n",
    "    np.random.seed(41)\n",
    "    \n",
    "    for elm in bucket:\n",
    "        hashing += str((round(np.random.uniform(1, 999))) * int(elm)+ round(np.random.uniform(1, 999)) % 997)\n",
    "    return int(hashing)"
   ]
  },
  {
   "cell_type": "code",
   "execution_count": 82,
   "id": "9c0a407e",
   "metadata": {},
   "outputs": [],
   "source": [
    "def lsh(signature_matrix, rows, inverted_dict):\n",
    "    \"\"\"\n",
    "    Compute lsh algorithm, and return a dictionary of all buckets as key and users as values.\n",
    "    \"\"\"\n",
    "    buckets = {}\n",
    "    signature_matrix = signature_matrix.T\n",
    "    for index, row in enumerate(signature_matrix):\n",
    "        for n in range(0, len(row),rows):\n",
    "            band = row[n:n+rows]\n",
    "            hashed_value = hashing_function(band)\n",
    "            if hashed_value in buckets:\n",
    "                buckets[hashed_value].append(inverted_dict[index])\n",
    "            else:\n",
    "                buckets[hashed_value] = [inverted_dict[index]]\n",
    "    return buckets"
   ]
  },
  {
   "cell_type": "code",
   "execution_count": 83,
   "id": "1181c53c",
   "metadata": {},
   "outputs": [],
   "source": [
    "def most_common_user(user_id, bucket):\n",
    "    \"\"\"\n",
    "    Return the 2 most common users to a given user_id.\n",
    "    \"\"\"\n",
    "    buckets_user = []\n",
    "    users = []\n",
    "    for bucket in buckets.values():\n",
    "        if user_id in bucket:\n",
    "            buckets_user.append(bucket)\n",
    "    for bucket in buckets_user:\n",
    "        users.append(bucket)\n",
    "    users = list(np.concatenate(users))\n",
    "    counts = Counter(users).most_common()\n",
    "    return (counts[0][0], counts[1][0])"
   ]
  },
  {
   "cell_type": "code",
   "execution_count": 84,
   "id": "8c4c9a35",
   "metadata": {},
   "outputs": [],
   "source": [
    "def get_films(common_users, movie_genre):\n",
    "    \"\"\"\n",
    "    Recommend the most similar films to the given users following the instructions of statment.\n",
    "    \"\"\"\n",
    "    user1 = common_users[0]\n",
    "    user2 = common_users[1]\n",
    "    final_df = pd.DataFrame(columns=[\"movie_id\", \"user_id\", \"title\", \"Number_of_clicks\"])\n",
    "\n",
    "    # 1. Movies in common based on number_clicks\n",
    "    df_movies1 = movie_genre[(movie_genre[\"user_id\"] == user1) & (movie_genre[\"user_id\"] == user2)]\n",
    "    df_movies1 = df_movies1.groupby(\"movie_id\")[\"Number_of_clicks\"].sum().reset_index()\n",
    "    df_movies1 = df_movies1.sort_values(by=\"Number_of_clicks\", ascending=False)\n",
    "    if not df_movies1.empty:\n",
    "        final_df = pd.concat([final_df, df_movies1[[\"movie_id\", \"user_id\", \"title\", \"Number_of_clicks\"]]])\n",
    "\n",
    "    # 2. Most clicked movies by the first user\n",
    "    df_movies2 = movie_genre[movie_genre[\"user_id\"] == user1].sort_values(by=\"Number_of_clicks\", ascending=False)\n",
    "    if not df_movies2.empty:\n",
    "        final_df = pd.concat([final_df, df_movies2[[\"movie_id\", \"user_id\", \"title\", \"Number_of_clicks\"]]])\n",
    "\n",
    "    # 3. Most clicked movies by the second user\n",
    "    df_movies3 = movie_genre[movie_genre[\"user_id\"] == user2].sort_values(by=\"Number_of_clicks\", ascending=False)\n",
    "    if not df_movies3.empty:\n",
    "        final_df = pd.concat([final_df, df_movies3[[\"movie_id\", \"user_id\", \"title\", \"Number_of_clicks\"]]])\n",
    "\n",
    "    return final_df.drop_duplicates()"
   ]
  },
  {
   "cell_type": "code",
   "execution_count": 85,
   "id": "429ad073",
   "metadata": {},
   "outputs": [
    {
     "data": {
      "text/html": [
       "<div>\n",
       "<style scoped>\n",
       "    .dataframe tbody tr th:only-of-type {\n",
       "        vertical-align: middle;\n",
       "    }\n",
       "\n",
       "    .dataframe tbody tr th {\n",
       "        vertical-align: top;\n",
       "    }\n",
       "\n",
       "    .dataframe thead th {\n",
       "        text-align: right;\n",
       "    }\n",
       "</style>\n",
       "<table border=\"1\" class=\"dataframe\">\n",
       "  <thead>\n",
       "    <tr style=\"text-align: right;\">\n",
       "      <th></th>\n",
       "      <th>movie_id</th>\n",
       "      <th>title</th>\n",
       "    </tr>\n",
       "  </thead>\n",
       "  <tbody>\n",
       "    <tr>\n",
       "      <th>253803</th>\n",
       "      <td>117c9dc515</td>\n",
       "      <td>Set It Up</td>\n",
       "    </tr>\n",
       "    <tr>\n",
       "      <th>253808</th>\n",
       "      <td>7b3d8d5976</td>\n",
       "      <td>Bring It On: Fight to the Finish</td>\n",
       "    </tr>\n",
       "    <tr>\n",
       "      <th>253215</th>\n",
       "      <td>f80b7002bb</td>\n",
       "      <td>Anchorman: The Legend Continues</td>\n",
       "    </tr>\n",
       "    <tr>\n",
       "      <th>253216</th>\n",
       "      <td>771f79dd7e</td>\n",
       "      <td>The Love Guru</td>\n",
       "    </tr>\n",
       "  </tbody>\n",
       "</table>\n",
       "</div>"
      ],
      "text/plain": [
       "          movie_id                             title\n",
       "253803  117c9dc515                         Set It Up\n",
       "253808  7b3d8d5976  Bring It On: Fight to the Finish\n",
       "253215  f80b7002bb   Anchorman: The Legend Continues\n",
       "253216  771f79dd7e                     The Love Guru"
      ]
     },
     "execution_count": 85,
     "metadata": {},
     "output_type": "execute_result"
    }
   ],
   "source": [
    "buckets = lsh(signature_matrix, 4, inverted_users_dict)\n",
    "user_id = \"49d091aa63\"\n",
    "mc_users = most_common_user(user_id, buckets)\n",
    "df_films = get_films(mc_users, movie_genre)\n",
    "df_films.head(5)[[\"movie_id\", \"title\"]]"
   ]
  },
  {
   "cell_type": "markdown",
   "id": "f99b8cd7",
   "metadata": {},
   "source": [
    "## 2. Grouping Users together!\n"
   ]
  },
  {
   "cell_type": "markdown",
   "id": "4796fae7",
   "metadata": {},
   "source": [
    "Now, we will deal with clustering algorithms that will provide groups of Netflix users that are similar among them.\n",
    "\n",
    "To solve this task, you must accomplish the following stages:"
   ]
  },
  {
   "cell_type": "markdown",
   "id": "e3b03bc8",
   "metadata": {},
   "source": [
    "### 2.1 Getting your data + feature engineering"
   ]
  },
  {
   "cell_type": "markdown",
   "id": "33af468f",
   "metadata": {},
   "source": [
    "#### 2.1.2. Sometimes, the features (variables, fields) are not given in a dataset but can be created from it; this is known as feature engineering. For example, the original dataset has several clicks done by the same user, so grouping data by user_id will allow you to create new features for each user:"
   ]
  },
  {
   "cell_type": "code",
   "execution_count": 7,
   "id": "ce97ba29",
   "metadata": {},
   "outputs": [],
   "source": [
    "import pandas as pd"
   ]
  },
  {
   "cell_type": "code",
   "execution_count": 8,
   "id": "b5410d80",
   "metadata": {},
   "outputs": [
    {
     "data": {
      "text/html": [
       "<div>\n",
       "<style scoped>\n",
       "    .dataframe tbody tr th:only-of-type {\n",
       "        vertical-align: middle;\n",
       "    }\n",
       "\n",
       "    .dataframe tbody tr th {\n",
       "        vertical-align: top;\n",
       "    }\n",
       "\n",
       "    .dataframe thead th {\n",
       "        text-align: right;\n",
       "    }\n",
       "</style>\n",
       "<table border=\"1\" class=\"dataframe\">\n",
       "  <thead>\n",
       "    <tr style=\"text-align: right;\">\n",
       "      <th></th>\n",
       "      <th>Unnamed: 0</th>\n",
       "      <th>datetime</th>\n",
       "      <th>duration</th>\n",
       "      <th>title</th>\n",
       "      <th>genres</th>\n",
       "      <th>release_date</th>\n",
       "      <th>movie_id</th>\n",
       "      <th>user_id</th>\n",
       "    </tr>\n",
       "  </thead>\n",
       "  <tbody>\n",
       "    <tr>\n",
       "      <th>0</th>\n",
       "      <td>58773</td>\n",
       "      <td>2017-01-01 01:15:09</td>\n",
       "      <td>0.0</td>\n",
       "      <td>Angus, Thongs and Perfect Snogging</td>\n",
       "      <td>Comedy, Drama, Romance</td>\n",
       "      <td>2008-07-25</td>\n",
       "      <td>26bd5987e8</td>\n",
       "      <td>1dea19f6fe</td>\n",
       "    </tr>\n",
       "    <tr>\n",
       "      <th>1</th>\n",
       "      <td>58774</td>\n",
       "      <td>2017-01-01 13:56:02</td>\n",
       "      <td>0.0</td>\n",
       "      <td>The Curse of Sleeping Beauty</td>\n",
       "      <td>Fantasy, Horror, Mystery, Thriller</td>\n",
       "      <td>2016-06-02</td>\n",
       "      <td>f26ed2675e</td>\n",
       "      <td>544dcbc510</td>\n",
       "    </tr>\n",
       "    <tr>\n",
       "      <th>2</th>\n",
       "      <td>58775</td>\n",
       "      <td>2017-01-01 15:17:47</td>\n",
       "      <td>10530.0</td>\n",
       "      <td>London Has Fallen</td>\n",
       "      <td>Action, Thriller</td>\n",
       "      <td>2016-03-04</td>\n",
       "      <td>f77e500e7a</td>\n",
       "      <td>7cbcc791bf</td>\n",
       "    </tr>\n",
       "    <tr>\n",
       "      <th>3</th>\n",
       "      <td>58776</td>\n",
       "      <td>2017-01-01 16:04:13</td>\n",
       "      <td>49.0</td>\n",
       "      <td>Vendetta</td>\n",
       "      <td>Action, Drama</td>\n",
       "      <td>2015-06-12</td>\n",
       "      <td>c74aec7673</td>\n",
       "      <td>ebf43c36b6</td>\n",
       "    </tr>\n",
       "    <tr>\n",
       "      <th>4</th>\n",
       "      <td>58777</td>\n",
       "      <td>2017-01-01 19:16:37</td>\n",
       "      <td>0.0</td>\n",
       "      <td>The SpongeBob SquarePants Movie</td>\n",
       "      <td>Animation, Action, Adventure, Comedy, Family, ...</td>\n",
       "      <td>2004-11-19</td>\n",
       "      <td>a80d6fc2aa</td>\n",
       "      <td>a57c992287</td>\n",
       "    </tr>\n",
       "  </tbody>\n",
       "</table>\n",
       "</div>"
      ],
      "text/plain": [
       "   Unnamed: 0             datetime  duration  \\\n",
       "0       58773  2017-01-01 01:15:09       0.0   \n",
       "1       58774  2017-01-01 13:56:02       0.0   \n",
       "2       58775  2017-01-01 15:17:47   10530.0   \n",
       "3       58776  2017-01-01 16:04:13      49.0   \n",
       "4       58777  2017-01-01 19:16:37       0.0   \n",
       "\n",
       "                                title  \\\n",
       "0  Angus, Thongs and Perfect Snogging   \n",
       "1        The Curse of Sleeping Beauty   \n",
       "2                   London Has Fallen   \n",
       "3                            Vendetta   \n",
       "4     The SpongeBob SquarePants Movie   \n",
       "\n",
       "                                              genres release_date    movie_id  \\\n",
       "0                             Comedy, Drama, Romance   2008-07-25  26bd5987e8   \n",
       "1                 Fantasy, Horror, Mystery, Thriller   2016-06-02  f26ed2675e   \n",
       "2                                   Action, Thriller   2016-03-04  f77e500e7a   \n",
       "3                                      Action, Drama   2015-06-12  c74aec7673   \n",
       "4  Animation, Action, Adventure, Comedy, Family, ...   2004-11-19  a80d6fc2aa   \n",
       "\n",
       "      user_id  \n",
       "0  1dea19f6fe  \n",
       "1  544dcbc510  \n",
       "2  7cbcc791bf  \n",
       "3  ebf43c36b6  \n",
       "4  a57c992287  "
      ]
     },
     "execution_count": 8,
     "metadata": {},
     "output_type": "execute_result"
    }
   ],
   "source": [
    "#Import csv dataset\n",
    "movies = pd.read_csv('vodclickstream_uk_movies_03.csv', sep=',')\n",
    "#See the dataset\n",
    "movies.head()"
   ]
  },
  {
   "cell_type": "code",
   "execution_count": 9,
   "id": "ed97f97f",
   "metadata": {},
   "outputs": [
    {
     "data": {
      "text/html": [
       "<div>\n",
       "<style scoped>\n",
       "    .dataframe tbody tr th:only-of-type {\n",
       "        vertical-align: middle;\n",
       "    }\n",
       "\n",
       "    .dataframe tbody tr th {\n",
       "        vertical-align: top;\n",
       "    }\n",
       "\n",
       "    .dataframe thead th {\n",
       "        text-align: right;\n",
       "    }\n",
       "</style>\n",
       "<table border=\"1\" class=\"dataframe\">\n",
       "  <thead>\n",
       "    <tr style=\"text-align: right;\">\n",
       "      <th></th>\n",
       "      <th>Unnamed: 0</th>\n",
       "      <th>datetime</th>\n",
       "      <th>duration</th>\n",
       "      <th>title</th>\n",
       "      <th>genres</th>\n",
       "      <th>release_date</th>\n",
       "      <th>movie_id</th>\n",
       "      <th>user_id</th>\n",
       "    </tr>\n",
       "  </thead>\n",
       "  <tbody>\n",
       "    <tr>\n",
       "      <th>2</th>\n",
       "      <td>58775</td>\n",
       "      <td>2017-01-01 15:17:47</td>\n",
       "      <td>10530.0</td>\n",
       "      <td>London Has Fallen</td>\n",
       "      <td>Action, Thriller</td>\n",
       "      <td>2016-03-04</td>\n",
       "      <td>f77e500e7a</td>\n",
       "      <td>7cbcc791bf</td>\n",
       "    </tr>\n",
       "    <tr>\n",
       "      <th>3</th>\n",
       "      <td>58776</td>\n",
       "      <td>2017-01-01 16:04:13</td>\n",
       "      <td>49.0</td>\n",
       "      <td>Vendetta</td>\n",
       "      <td>Action, Drama</td>\n",
       "      <td>2015-06-12</td>\n",
       "      <td>c74aec7673</td>\n",
       "      <td>ebf43c36b6</td>\n",
       "    </tr>\n",
       "    <tr>\n",
       "      <th>6</th>\n",
       "      <td>58779</td>\n",
       "      <td>2017-01-01 19:43:06</td>\n",
       "      <td>4903.0</td>\n",
       "      <td>The Water Diviner</td>\n",
       "      <td>Drama, History, War</td>\n",
       "      <td>2014-12-26</td>\n",
       "      <td>7165c2fc94</td>\n",
       "      <td>8e1be40e32</td>\n",
       "    </tr>\n",
       "    <tr>\n",
       "      <th>8</th>\n",
       "      <td>58781</td>\n",
       "      <td>2017-01-01 19:46:24</td>\n",
       "      <td>3845.0</td>\n",
       "      <td>Ratter</td>\n",
       "      <td>Drama, Horror, Thriller</td>\n",
       "      <td>2016-02-12</td>\n",
       "      <td>c39aae36c3</td>\n",
       "      <td>cff8ea652a</td>\n",
       "    </tr>\n",
       "    <tr>\n",
       "      <th>11</th>\n",
       "      <td>58784</td>\n",
       "      <td>2017-01-01 20:55:46</td>\n",
       "      <td>6175.0</td>\n",
       "      <td>28 Days</td>\n",
       "      <td>Comedy, Drama</td>\n",
       "      <td>2000-04-14</td>\n",
       "      <td>584bffaf5f</td>\n",
       "      <td>759ae2eac9</td>\n",
       "    </tr>\n",
       "  </tbody>\n",
       "</table>\n",
       "</div>"
      ],
      "text/plain": [
       "    Unnamed: 0             datetime  duration              title  \\\n",
       "2        58775  2017-01-01 15:17:47   10530.0  London Has Fallen   \n",
       "3        58776  2017-01-01 16:04:13      49.0           Vendetta   \n",
       "6        58779  2017-01-01 19:43:06    4903.0  The Water Diviner   \n",
       "8        58781  2017-01-01 19:46:24    3845.0             Ratter   \n",
       "11       58784  2017-01-01 20:55:46    6175.0            28 Days   \n",
       "\n",
       "                     genres release_date    movie_id     user_id  \n",
       "2          Action, Thriller   2016-03-04  f77e500e7a  7cbcc791bf  \n",
       "3             Action, Drama   2015-06-12  c74aec7673  ebf43c36b6  \n",
       "6       Drama, History, War   2014-12-26  7165c2fc94  8e1be40e32  \n",
       "8   Drama, Horror, Thriller   2016-02-12  c39aae36c3  cff8ea652a  \n",
       "11            Comedy, Drama   2000-04-14  584bffaf5f  759ae2eac9  "
      ]
     },
     "execution_count": 9,
     "metadata": {},
     "output_type": "execute_result"
    }
   ],
   "source": [
    "#Looking at only the entries with Duration not equal to zero\n",
    "movies2 = movies[movies['duration']>0]\n",
    "#See the dataset\n",
    "movies2.head()"
   ]
  },
  {
   "cell_type": "markdown",
   "id": "9253bb5d",
   "metadata": {},
   "source": [
    "##### *a) Favorite genre (i.e., the genre on which the user spent the most time)*"
   ]
  },
  {
   "cell_type": "code",
   "execution_count": 10,
   "id": "1f287ff6",
   "metadata": {},
   "outputs": [
    {
     "data": {
      "text/html": [
       "<div>\n",
       "<style scoped>\n",
       "    .dataframe tbody tr th:only-of-type {\n",
       "        vertical-align: middle;\n",
       "    }\n",
       "\n",
       "    .dataframe tbody tr th {\n",
       "        vertical-align: top;\n",
       "    }\n",
       "\n",
       "    .dataframe thead th {\n",
       "        text-align: right;\n",
       "    }\n",
       "</style>\n",
       "<table border=\"1\" class=\"dataframe\">\n",
       "  <thead>\n",
       "    <tr style=\"text-align: right;\">\n",
       "      <th></th>\n",
       "      <th>user_id</th>\n",
       "      <th>fav_genres</th>\n",
       "    </tr>\n",
       "  </thead>\n",
       "  <tbody>\n",
       "    <tr>\n",
       "      <th>0</th>\n",
       "      <td>84c72045a0</td>\n",
       "      <td>Comedy</td>\n",
       "    </tr>\n",
       "    <tr>\n",
       "      <th>0</th>\n",
       "      <td>b1f25b1ce2</td>\n",
       "      <td>Drama</td>\n",
       "    </tr>\n",
       "    <tr>\n",
       "      <th>0</th>\n",
       "      <td>55a2bfbef1</td>\n",
       "      <td>Comedy</td>\n",
       "    </tr>\n",
       "    <tr>\n",
       "      <th>0</th>\n",
       "      <td>c637004963</td>\n",
       "      <td>Sci-Fi,Comedy,Adventure,Action</td>\n",
       "    </tr>\n",
       "    <tr>\n",
       "      <th>0</th>\n",
       "      <td>2dfbb4a1c4</td>\n",
       "      <td>Comedy</td>\n",
       "    </tr>\n",
       "  </tbody>\n",
       "</table>\n",
       "</div>"
      ],
      "text/plain": [
       "      user_id                      fav_genres\n",
       "0  84c72045a0                          Comedy\n",
       "0  b1f25b1ce2                           Drama\n",
       "0  55a2bfbef1                          Comedy\n",
       "0  c637004963  Sci-Fi,Comedy,Adventure,Action\n",
       "0  2dfbb4a1c4                          Comedy"
      ]
     },
     "execution_count": 10,
     "metadata": {},
     "output_type": "execute_result"
    }
   ],
   "source": [
    "#Create a subset of original dataframe for create column 'Genres Favorite' for each 'user_id'\n",
    "selected_movies2 = movies2[['user_id', 'genres']]\n",
    "#This line fix the warning of pandas package\n",
    "selected_movies2 = selected_movies2.copy()\n",
    "selected_movies2['genres'] = selected_movies2['genres'].str.split(',')\n",
    "df3 = selected_movies2.explode('genres')\n",
    "df3['genres'] = df3['genres'].str.strip()\n",
    "genre_counts = df3.groupby(by='user_id').value_counts().to_frame().reset_index()\n",
    "genre_counts = genre_counts[genre_counts['genres']!='NOT AVAILABLE']\n",
    "\n",
    "\n",
    "fav_genres = pd.DataFrame()\n",
    "users = list(set(genre_counts['user_id']))\n",
    "\n",
    "for i in users:\n",
    "    # Find the maximum value in the 'count' column\n",
    "    mini = genre_counts[genre_counts['user_id']==i]\n",
    "\n",
    "    # Select rows with the maximum value in the 'count' column\n",
    "    max_valuecount = mini['count'].max()\n",
    "\n",
    "    result_df = mini[mini['count'] == max_valuecount].nlargest(10, 'count')\n",
    "    result = result_df.groupby('user_id').agg({'genres': ','.join}).reset_index()\n",
    "    fav_genres = pd.concat([fav_genres, result])\n",
    "\n",
    "# Rename the 'date' column to 'date_string' in-place\n",
    "fav_genres.rename(columns={'genres': 'fav_genres'}, inplace=True)\n",
    "fav_genres.head()"
   ]
  },
  {
   "cell_type": "markdown",
   "id": "76ae9f16",
   "metadata": {},
   "source": [
    "##### *b) Average click duration*"
   ]
  },
  {
   "cell_type": "code",
   "execution_count": 11,
   "id": "c0149073",
   "metadata": {},
   "outputs": [
    {
     "data": {
      "text/html": [
       "<div>\n",
       "<style scoped>\n",
       "    .dataframe tbody tr th:only-of-type {\n",
       "        vertical-align: middle;\n",
       "    }\n",
       "\n",
       "    .dataframe tbody tr th {\n",
       "        vertical-align: top;\n",
       "    }\n",
       "\n",
       "    .dataframe thead th {\n",
       "        text-align: right;\n",
       "    }\n",
       "</style>\n",
       "<table border=\"1\" class=\"dataframe\">\n",
       "  <thead>\n",
       "    <tr style=\"text-align: right;\">\n",
       "      <th></th>\n",
       "      <th>user_id</th>\n",
       "      <th>duration_avg</th>\n",
       "    </tr>\n",
       "  </thead>\n",
       "  <tbody>\n",
       "    <tr>\n",
       "      <th>0</th>\n",
       "      <td>000052a0a0</td>\n",
       "      <td>3470.0</td>\n",
       "    </tr>\n",
       "    <tr>\n",
       "      <th>1</th>\n",
       "      <td>000296842d</td>\n",
       "      <td>19327.0</td>\n",
       "    </tr>\n",
       "    <tr>\n",
       "      <th>2</th>\n",
       "      <td>0002aab109</td>\n",
       "      <td>83625.0</td>\n",
       "    </tr>\n",
       "    <tr>\n",
       "      <th>3</th>\n",
       "      <td>0005c8fbac</td>\n",
       "      <td>473682.5</td>\n",
       "    </tr>\n",
       "    <tr>\n",
       "      <th>4</th>\n",
       "      <td>0005d9a8f4</td>\n",
       "      <td>14394.0</td>\n",
       "    </tr>\n",
       "  </tbody>\n",
       "</table>\n",
       "</div>"
      ],
      "text/plain": [
       "      user_id  duration_avg\n",
       "0  000052a0a0        3470.0\n",
       "1  000296842d       19327.0\n",
       "2  0002aab109       83625.0\n",
       "3  0005c8fbac      473682.5\n",
       "4  0005d9a8f4       14394.0"
      ]
     },
     "execution_count": 11,
     "metadata": {},
     "output_type": "execute_result"
    }
   ],
   "source": [
    "#Create a subset of original dataframe for create column 'Duration Average' for each 'user_id'\n",
    "selected_movies = movies2[['user_id', 'duration']]\n",
    "duration_df = selected_movies.groupby(['user_id']).mean()\n",
    "duration_df.rename(columns={\"duration\": \"duration_avg\"}, inplace=True)\n",
    "duration_df = duration_df.reset_index()\n",
    "duration_df.head()"
   ]
  },
  {
   "cell_type": "markdown",
   "id": "7011076a",
   "metadata": {},
   "source": [
    "##### *c) Time of the day (Morning/Afternoon/Night) when the user spends the most time on the platform (the time spent is tracked through the duration of the clicks)*"
   ]
  },
  {
   "cell_type": "code",
   "execution_count": 12,
   "id": "e0282590",
   "metadata": {},
   "outputs": [
    {
     "data": {
      "text/html": [
       "<div>\n",
       "<style scoped>\n",
       "    .dataframe tbody tr th:only-of-type {\n",
       "        vertical-align: middle;\n",
       "    }\n",
       "\n",
       "    .dataframe tbody tr th {\n",
       "        vertical-align: top;\n",
       "    }\n",
       "\n",
       "    .dataframe thead th {\n",
       "        text-align: right;\n",
       "    }\n",
       "</style>\n",
       "<table border=\"1\" class=\"dataframe\">\n",
       "  <thead>\n",
       "    <tr style=\"text-align: right;\">\n",
       "      <th></th>\n",
       "      <th>user_id</th>\n",
       "      <th>fav_timeofday</th>\n",
       "    </tr>\n",
       "  </thead>\n",
       "  <tbody>\n",
       "    <tr>\n",
       "      <th>0</th>\n",
       "      <td>b1f25b1ce2</td>\n",
       "      <td>Afternoon</td>\n",
       "    </tr>\n",
       "    <tr>\n",
       "      <th>0</th>\n",
       "      <td>84c72045a0</td>\n",
       "      <td>Night</td>\n",
       "    </tr>\n",
       "    <tr>\n",
       "      <th>0</th>\n",
       "      <td>55a2bfbef1</td>\n",
       "      <td>Morning</td>\n",
       "    </tr>\n",
       "    <tr>\n",
       "      <th>0</th>\n",
       "      <td>c637004963</td>\n",
       "      <td>Night</td>\n",
       "    </tr>\n",
       "    <tr>\n",
       "      <th>0</th>\n",
       "      <td>2dfbb4a1c4</td>\n",
       "      <td>Afternoon</td>\n",
       "    </tr>\n",
       "  </tbody>\n",
       "</table>\n",
       "</div>"
      ],
      "text/plain": [
       "      user_id fav_timeofday\n",
       "0  b1f25b1ce2     Afternoon\n",
       "0  84c72045a0         Night\n",
       "0  55a2bfbef1       Morning\n",
       "0  c637004963         Night\n",
       "0  2dfbb4a1c4     Afternoon"
      ]
     },
     "execution_count": 12,
     "metadata": {},
     "output_type": "execute_result"
    }
   ],
   "source": [
    "#Function to create the 'time_of_day' decision\n",
    "def time_of_day(hour):\n",
    "    if 4 <= hour < 12:\n",
    "        return 'Morning'\n",
    "    elif 12 <= hour < 20:\n",
    "        return 'Afternoon'\n",
    "    else:\n",
    "        return 'Night'\n",
    "    \n",
    "\n",
    "#Datetime format\n",
    "datetime_format = '%Y-%m-%d %H:%M:%S'\n",
    "\n",
    "#Create a subset of original dataframe for create column 'Time of the Day' (Morning/Afternoon/Night) when the user spends the most time on the platform for each 'user_id'\n",
    "selected_movies3 = movies2[['user_id', 'datetime']]\n",
    "#This line fix the warning of pandas package\n",
    "selected_movies3 = selected_movies3.copy()\n",
    "selected_movies3['datetime'] = pd.to_datetime(selected_movies3['datetime'], format=datetime_format)\n",
    "#Create 'TimeOfDay' column and insert the right value for each row\n",
    "selected_movies3['fav_timeofday'] = selected_movies3['datetime'].apply(lambda x: time_of_day(x.hour))\n",
    "selected_movies3['Frequency'] = selected_movies3.groupby(['user_id', 'fav_timeofday'])['datetime'].transform('count')\n",
    "\n",
    "fav_timeofday = pd.DataFrame()\n",
    "users = list(set(selected_movies3['user_id']))\n",
    "\n",
    "for i in users:\n",
    "    # Find the maximum value in the 'count' column\n",
    "    mini = selected_movies3[selected_movies3['user_id']==i]\n",
    "\n",
    "    # Select rows with the maximum value in the 'count' column\n",
    "    max_valuecount = mini['Frequency'].max()\n",
    "\n",
    "    result_df = mini[mini['Frequency'] == max_valuecount].nlargest(10, 'Frequency')\n",
    "    result_df = result_df.drop_duplicates(subset=['fav_timeofday'])\n",
    "    result = result_df.groupby('user_id').agg({'fav_timeofday': ','.join}).reset_index()\n",
    "    fav_timeofday = pd.concat([fav_timeofday, result])\n",
    "\n",
    "fav_timeofday.head()"
   ]
  },
  {
   "cell_type": "markdown",
   "id": "944081fd",
   "metadata": {},
   "source": [
    "##### *d) Is the user an old movie lover, or is he into more recent stuff (content released after 2010)?*"
   ]
  },
  {
   "cell_type": "code",
   "execution_count": 13,
   "id": "9f21d21c",
   "metadata": {},
   "outputs": [
    {
     "data": {
      "text/html": [
       "<div>\n",
       "<style scoped>\n",
       "    .dataframe tbody tr th:only-of-type {\n",
       "        vertical-align: middle;\n",
       "    }\n",
       "\n",
       "    .dataframe tbody tr th {\n",
       "        vertical-align: top;\n",
       "    }\n",
       "\n",
       "    .dataframe thead th {\n",
       "        text-align: right;\n",
       "    }\n",
       "</style>\n",
       "<table border=\"1\" class=\"dataframe\">\n",
       "  <thead>\n",
       "    <tr style=\"text-align: right;\">\n",
       "      <th></th>\n",
       "      <th>user_id</th>\n",
       "      <th>fav_filmera</th>\n",
       "    </tr>\n",
       "  </thead>\n",
       "  <tbody>\n",
       "    <tr>\n",
       "      <th>0</th>\n",
       "      <td>b1f25b1ce2</td>\n",
       "      <td>New</td>\n",
       "    </tr>\n",
       "    <tr>\n",
       "      <th>0</th>\n",
       "      <td>84c72045a0</td>\n",
       "      <td>New</td>\n",
       "    </tr>\n",
       "    <tr>\n",
       "      <th>0</th>\n",
       "      <td>55a2bfbef1</td>\n",
       "      <td>Old</td>\n",
       "    </tr>\n",
       "    <tr>\n",
       "      <th>0</th>\n",
       "      <td>c637004963</td>\n",
       "      <td>New</td>\n",
       "    </tr>\n",
       "    <tr>\n",
       "      <th>0</th>\n",
       "      <td>2dfbb4a1c4</td>\n",
       "      <td>Old</td>\n",
       "    </tr>\n",
       "  </tbody>\n",
       "</table>\n",
       "</div>"
      ],
      "text/plain": [
       "      user_id fav_filmera\n",
       "0  b1f25b1ce2         New\n",
       "0  84c72045a0         New\n",
       "0  55a2bfbef1         Old\n",
       "0  c637004963         New\n",
       "0  2dfbb4a1c4         Old"
      ]
     },
     "execution_count": 13,
     "metadata": {},
     "output_type": "execute_result"
    }
   ],
   "source": [
    "#Function to create the 'time_of_day' decision\n",
    "def era_film(year):\n",
    "    if year < 2010:\n",
    "        return 'Old'\n",
    "    else:\n",
    "        return 'New'\n",
    "\n",
    "#Create a subset of original dataframe for create column 'User Movie Lover' (old or new film) for each 'user_id'\n",
    "selected_movies4 = movies2[['user_id', 'release_date']]\n",
    "\n",
    "#Date format\n",
    "date_format = '%Y-%m-%d'\n",
    "\n",
    "#This line fix the warning of pandas package\n",
    "selected_movies4 = selected_movies4.copy()\n",
    "selected_movies4 = selected_movies4[selected_movies4['release_date']!='NOT AVAILABLE']\n",
    "selected_movies4['release_date'] = pd.to_datetime(selected_movies4['release_date'], format=date_format)\n",
    "#Create 'TimeOfDay' column and insert the right value for each row\n",
    "selected_movies4['fav_filmera'] = selected_movies4['release_date'].apply(lambda x: era_film(x.year))\n",
    "selected_movies4['Frequency'] = selected_movies4.groupby(['user_id', 'fav_filmera'])['release_date'].transform('count')\n",
    "\n",
    "\n",
    "fav_filmera = pd.DataFrame()\n",
    "users = list(set(selected_movies4['user_id']))\n",
    "\n",
    "for i in users:\n",
    "    # Find the maximum value in the 'count' column\n",
    "    mini = selected_movies4[selected_movies4['user_id']==i]\n",
    "\n",
    "    # Select rows with the maximum value in the 'count' column\n",
    "    max_valuecount = mini['Frequency'].max()\n",
    "\n",
    "    result_df = mini[mini['Frequency'] == max_valuecount].nlargest(2, 'Frequency')\n",
    "    result_df = result_df.drop_duplicates(subset=['fav_filmera'])\n",
    "    result = result_df.groupby('user_id').agg({'fav_filmera': ','.join}).reset_index()\n",
    "    fav_filmera = pd.concat([fav_filmera, result])\n",
    "\n",
    "fav_filmera.head()"
   ]
  },
  {
   "cell_type": "markdown",
   "id": "1118b548",
   "metadata": {},
   "source": [
    "##### *e) Average time spent a day by the user (considering only the days he logs in)*"
   ]
  },
  {
   "cell_type": "code",
   "execution_count": 14,
   "id": "92262243",
   "metadata": {},
   "outputs": [
    {
     "data": {
      "text/html": [
       "<div>\n",
       "<style scoped>\n",
       "    .dataframe tbody tr th:only-of-type {\n",
       "        vertical-align: middle;\n",
       "    }\n",
       "\n",
       "    .dataframe tbody tr th {\n",
       "        vertical-align: top;\n",
       "    }\n",
       "\n",
       "    .dataframe thead th {\n",
       "        text-align: right;\n",
       "    }\n",
       "</style>\n",
       "<table border=\"1\" class=\"dataframe\">\n",
       "  <thead>\n",
       "    <tr style=\"text-align: right;\">\n",
       "      <th></th>\n",
       "      <th>user_id</th>\n",
       "      <th>duration_perday_avg</th>\n",
       "    </tr>\n",
       "  </thead>\n",
       "  <tbody>\n",
       "    <tr>\n",
       "      <th>0</th>\n",
       "      <td>000052a0a0</td>\n",
       "      <td>3989.395833</td>\n",
       "    </tr>\n",
       "    <tr>\n",
       "      <th>1</th>\n",
       "      <td>000296842d</td>\n",
       "      <td>17198.333333</td>\n",
       "    </tr>\n",
       "    <tr>\n",
       "      <th>2</th>\n",
       "      <td>0002aab109</td>\n",
       "      <td>83625.000000</td>\n",
       "    </tr>\n",
       "    <tr>\n",
       "      <th>3</th>\n",
       "      <td>0005c8fbac</td>\n",
       "      <td>473682.500000</td>\n",
       "    </tr>\n",
       "    <tr>\n",
       "      <th>4</th>\n",
       "      <td>0005d9a8f4</td>\n",
       "      <td>14394.000000</td>\n",
       "    </tr>\n",
       "  </tbody>\n",
       "</table>\n",
       "</div>"
      ],
      "text/plain": [
       "      user_id  duration_perday_avg\n",
       "0  000052a0a0          3989.395833\n",
       "1  000296842d         17198.333333\n",
       "2  0002aab109         83625.000000\n",
       "3  0005c8fbac        473682.500000\n",
       "4  0005d9a8f4         14394.000000"
      ]
     },
     "execution_count": 14,
     "metadata": {},
     "output_type": "execute_result"
    }
   ],
   "source": [
    "#Create a subset of original dataframe for create column 'Duration Average per day' for each 'user_id'\n",
    "selected_movies5 = movies2[['user_id', 'duration', 'datetime']]\n",
    "\n",
    "#Date format\n",
    "date_format = '%Y-%m-%d'\n",
    "\n",
    "#This line fix the warning of pandas package\n",
    "selected_movies5 = selected_movies5.copy()\n",
    "selected_movies5 = selected_movies5[selected_movies5['datetime']!='NOT AVAILABLE']\n",
    "selected_movies5['datetime'] = pd.to_datetime(selected_movies5['datetime'], format=datetime_format)\n",
    "selected_movies5['datetime'] = selected_movies5['datetime'].apply(lambda x: x.date())\n",
    "#Create 'TimeOfDay' column and insert the right value for each row\n",
    "duration_perday_df = selected_movies5.groupby(['user_id', 'datetime'])['duration'].mean().reset_index()\n",
    "duration_perday_df = duration_perday_df.groupby(['user_id'])['duration'].mean().reset_index()\n",
    "duration_perday_df.rename(columns={\"duration\": \"duration_perday_avg\"}, inplace=True)\n",
    "duration_perday_df.head()"
   ]
  },
  {
   "cell_type": "markdown",
   "id": "ab8bc639",
   "metadata": {},
   "source": [
    "#### 2.1.3. Consider at least 10 additional features that can be generated for each user_id (you can use chatGPT or other LLM tools for suggesting features to create). Describe each of them and add them to the previous dataset you made (the one with five features). In the end, you should have for each user at least 15 features (5 recommended + 10 suggested by you)."
   ]
  },
  {
   "cell_type": "markdown",
   "id": "856921af",
   "metadata": {},
   "source": [
    "##### *1. Sum click duration per user*"
   ]
  },
  {
   "cell_type": "code",
   "execution_count": 15,
   "id": "d8c32900",
   "metadata": {},
   "outputs": [
    {
     "data": {
      "text/html": [
       "<div>\n",
       "<style scoped>\n",
       "    .dataframe tbody tr th:only-of-type {\n",
       "        vertical-align: middle;\n",
       "    }\n",
       "\n",
       "    .dataframe tbody tr th {\n",
       "        vertical-align: top;\n",
       "    }\n",
       "\n",
       "    .dataframe thead th {\n",
       "        text-align: right;\n",
       "    }\n",
       "</style>\n",
       "<table border=\"1\" class=\"dataframe\">\n",
       "  <thead>\n",
       "    <tr style=\"text-align: right;\">\n",
       "      <th></th>\n",
       "      <th>user_id</th>\n",
       "      <th>duration_sum</th>\n",
       "    </tr>\n",
       "  </thead>\n",
       "  <tbody>\n",
       "    <tr>\n",
       "      <th>0</th>\n",
       "      <td>000052a0a0</td>\n",
       "      <td>48580.0</td>\n",
       "    </tr>\n",
       "    <tr>\n",
       "      <th>1</th>\n",
       "      <td>000296842d</td>\n",
       "      <td>77308.0</td>\n",
       "    </tr>\n",
       "    <tr>\n",
       "      <th>2</th>\n",
       "      <td>0002aab109</td>\n",
       "      <td>83625.0</td>\n",
       "    </tr>\n",
       "    <tr>\n",
       "      <th>3</th>\n",
       "      <td>0005c8fbac</td>\n",
       "      <td>947365.0</td>\n",
       "    </tr>\n",
       "    <tr>\n",
       "      <th>4</th>\n",
       "      <td>0005d9a8f4</td>\n",
       "      <td>14394.0</td>\n",
       "    </tr>\n",
       "  </tbody>\n",
       "</table>\n",
       "</div>"
      ],
      "text/plain": [
       "      user_id  duration_sum\n",
       "0  000052a0a0       48580.0\n",
       "1  000296842d       77308.0\n",
       "2  0002aab109       83625.0\n",
       "3  0005c8fbac      947365.0\n",
       "4  0005d9a8f4       14394.0"
      ]
     },
     "execution_count": 15,
     "metadata": {},
     "output_type": "execute_result"
    }
   ],
   "source": [
    "#Create a subset of original dataframe for create column 'Duration Sum' for each 'user_id'\n",
    "selected_movies6 = movies2[['user_id', 'duration']]\n",
    "duration_sum_df = selected_movies6.groupby(['user_id']).sum()\n",
    "duration_sum_df.rename(columns={\"duration\": \"duration_sum\"}, inplace=True)\n",
    "duration_sum_df = duration_sum_df.reset_index()\n",
    "duration_sum_df.head()"
   ]
  },
  {
   "cell_type": "markdown",
   "id": "78e2a9b2",
   "metadata": {},
   "source": [
    "##### *2. Number of Times Movies Watched*"
   ]
  },
  {
   "cell_type": "code",
   "execution_count": 16,
   "id": "a4a9cc5b",
   "metadata": {},
   "outputs": [
    {
     "data": {
      "text/html": [
       "<div>\n",
       "<style scoped>\n",
       "    .dataframe tbody tr th:only-of-type {\n",
       "        vertical-align: middle;\n",
       "    }\n",
       "\n",
       "    .dataframe tbody tr th {\n",
       "        vertical-align: top;\n",
       "    }\n",
       "\n",
       "    .dataframe thead th {\n",
       "        text-align: right;\n",
       "    }\n",
       "</style>\n",
       "<table border=\"1\" class=\"dataframe\">\n",
       "  <thead>\n",
       "    <tr style=\"text-align: right;\">\n",
       "      <th></th>\n",
       "      <th>user_id</th>\n",
       "      <th>n_times_movies</th>\n",
       "    </tr>\n",
       "  </thead>\n",
       "  <tbody>\n",
       "    <tr>\n",
       "      <th>0</th>\n",
       "      <td>000052a0a0</td>\n",
       "      <td>14</td>\n",
       "    </tr>\n",
       "    <tr>\n",
       "      <th>1</th>\n",
       "      <td>000296842d</td>\n",
       "      <td>4</td>\n",
       "    </tr>\n",
       "    <tr>\n",
       "      <th>2</th>\n",
       "      <td>0002aab109</td>\n",
       "      <td>1</td>\n",
       "    </tr>\n",
       "    <tr>\n",
       "      <th>3</th>\n",
       "      <td>0005c8fbac</td>\n",
       "      <td>2</td>\n",
       "    </tr>\n",
       "    <tr>\n",
       "      <th>4</th>\n",
       "      <td>0005d9a8f4</td>\n",
       "      <td>1</td>\n",
       "    </tr>\n",
       "  </tbody>\n",
       "</table>\n",
       "</div>"
      ],
      "text/plain": [
       "      user_id  n_times_movies\n",
       "0  000052a0a0              14\n",
       "1  000296842d               4\n",
       "2  0002aab109               1\n",
       "3  0005c8fbac               2\n",
       "4  0005d9a8f4               1"
      ]
     },
     "execution_count": 16,
     "metadata": {},
     "output_type": "execute_result"
    }
   ],
   "source": [
    "#Create a subset of original dataframe for create column 'Number of Times Movies Watched' for each 'user_id'\n",
    "selected_movies7 = movies2[['user_id', 'movie_id']]\n",
    "ntimes_movies_watched_df = selected_movies7.groupby(['user_id']).count()\n",
    "ntimes_movies_watched_df.rename(columns={\"movie_id\": \"n_times_movies\"}, inplace=True)\n",
    "ntimes_movies_watched_df = ntimes_movies_watched_df.reset_index()\n",
    "ntimes_movies_watched_df.head()"
   ]
  },
  {
   "cell_type": "markdown",
   "id": "5967c5d0",
   "metadata": {},
   "source": [
    "##### *3. Number of Movies Watched*"
   ]
  },
  {
   "cell_type": "code",
   "execution_count": 17,
   "id": "a492b710",
   "metadata": {},
   "outputs": [
    {
     "data": {
      "text/html": [
       "<div>\n",
       "<style scoped>\n",
       "    .dataframe tbody tr th:only-of-type {\n",
       "        vertical-align: middle;\n",
       "    }\n",
       "\n",
       "    .dataframe tbody tr th {\n",
       "        vertical-align: top;\n",
       "    }\n",
       "\n",
       "    .dataframe thead th {\n",
       "        text-align: right;\n",
       "    }\n",
       "</style>\n",
       "<table border=\"1\" class=\"dataframe\">\n",
       "  <thead>\n",
       "    <tr style=\"text-align: right;\">\n",
       "      <th></th>\n",
       "      <th>user_id</th>\n",
       "      <th>n_movies</th>\n",
       "    </tr>\n",
       "  </thead>\n",
       "  <tbody>\n",
       "    <tr>\n",
       "      <th>0</th>\n",
       "      <td>000052a0a0</td>\n",
       "      <td>9</td>\n",
       "    </tr>\n",
       "    <tr>\n",
       "      <th>1</th>\n",
       "      <td>000296842d</td>\n",
       "      <td>1</td>\n",
       "    </tr>\n",
       "    <tr>\n",
       "      <th>2</th>\n",
       "      <td>0002aab109</td>\n",
       "      <td>1</td>\n",
       "    </tr>\n",
       "    <tr>\n",
       "      <th>3</th>\n",
       "      <td>0005c8fbac</td>\n",
       "      <td>2</td>\n",
       "    </tr>\n",
       "    <tr>\n",
       "      <th>4</th>\n",
       "      <td>0005d9a8f4</td>\n",
       "      <td>1</td>\n",
       "    </tr>\n",
       "  </tbody>\n",
       "</table>\n",
       "</div>"
      ],
      "text/plain": [
       "      user_id  n_movies\n",
       "0  000052a0a0         9\n",
       "1  000296842d         1\n",
       "2  0002aab109         1\n",
       "3  0005c8fbac         2\n",
       "4  0005d9a8f4         1"
      ]
     },
     "execution_count": 17,
     "metadata": {},
     "output_type": "execute_result"
    }
   ],
   "source": [
    "#Create a subset of original dataframe for create column 'Number of Movies Watched' for each 'user_id'\n",
    "selected_movies8 = movies2[['user_id', 'movie_id']]\n",
    "selected_movies8 = selected_movies8.drop_duplicates(subset=['user_id', 'movie_id'])\n",
    "nmovies_watched_df = selected_movies8.groupby(['user_id']).count()\n",
    "nmovies_watched_df.rename(columns={\"movie_id\": \"n_movies\"}, inplace=True)\n",
    "nmovies_watched_df = nmovies_watched_df.reset_index()\n",
    "nmovies_watched_df.head()"
   ]
  },
  {
   "cell_type": "markdown",
   "id": "8bc36665",
   "metadata": {},
   "source": [
    "##### *4. Number of Movies Re-Watched*"
   ]
  },
  {
   "cell_type": "code",
   "execution_count": 18,
   "id": "98dc6a14",
   "metadata": {},
   "outputs": [
    {
     "data": {
      "text/html": [
       "<div>\n",
       "<style scoped>\n",
       "    .dataframe tbody tr th:only-of-type {\n",
       "        vertical-align: middle;\n",
       "    }\n",
       "\n",
       "    .dataframe tbody tr th {\n",
       "        vertical-align: top;\n",
       "    }\n",
       "\n",
       "    .dataframe thead th {\n",
       "        text-align: right;\n",
       "    }\n",
       "</style>\n",
       "<table border=\"1\" class=\"dataframe\">\n",
       "  <thead>\n",
       "    <tr style=\"text-align: right;\">\n",
       "      <th></th>\n",
       "      <th>user_id</th>\n",
       "      <th>n_times_movies</th>\n",
       "      <th>n_movies</th>\n",
       "      <th>n_rewatched</th>\n",
       "    </tr>\n",
       "  </thead>\n",
       "  <tbody>\n",
       "    <tr>\n",
       "      <th>0</th>\n",
       "      <td>000052a0a0</td>\n",
       "      <td>14</td>\n",
       "      <td>9</td>\n",
       "      <td>5</td>\n",
       "    </tr>\n",
       "    <tr>\n",
       "      <th>1</th>\n",
       "      <td>000296842d</td>\n",
       "      <td>4</td>\n",
       "      <td>1</td>\n",
       "      <td>3</td>\n",
       "    </tr>\n",
       "    <tr>\n",
       "      <th>2</th>\n",
       "      <td>0002aab109</td>\n",
       "      <td>1</td>\n",
       "      <td>1</td>\n",
       "      <td>0</td>\n",
       "    </tr>\n",
       "    <tr>\n",
       "      <th>3</th>\n",
       "      <td>0005c8fbac</td>\n",
       "      <td>2</td>\n",
       "      <td>2</td>\n",
       "      <td>0</td>\n",
       "    </tr>\n",
       "    <tr>\n",
       "      <th>4</th>\n",
       "      <td>0005d9a8f4</td>\n",
       "      <td>1</td>\n",
       "      <td>1</td>\n",
       "      <td>0</td>\n",
       "    </tr>\n",
       "  </tbody>\n",
       "</table>\n",
       "</div>"
      ],
      "text/plain": [
       "      user_id  n_times_movies  n_movies  n_rewatched\n",
       "0  000052a0a0              14         9            5\n",
       "1  000296842d               4         1            3\n",
       "2  0002aab109               1         1            0\n",
       "3  0005c8fbac               2         2            0\n",
       "4  0005d9a8f4               1         1            0"
      ]
     },
     "execution_count": 18,
     "metadata": {},
     "output_type": "execute_result"
    }
   ],
   "source": [
    "#Create a subset of original dataframe for create column 'Number of Movies Re-Watched' for each 'user_id'\n",
    "ntimes_rewatched_movies = pd.merge(ntimes_movies_watched_df,nmovies_watched_df)\n",
    "ntimes_rewatched_movies['n_rewatched'] = ntimes_rewatched_movies['n_times_movies'] - ntimes_rewatched_movies['n_movies']\n",
    "ntimes_rewatched_movies.head()"
   ]
  },
  {
   "cell_type": "markdown",
   "id": "c54ab6d5",
   "metadata": {},
   "source": [
    "##### *5. First Watched Movie Date*"
   ]
  },
  {
   "cell_type": "code",
   "execution_count": 19,
   "id": "beaf0bc4",
   "metadata": {},
   "outputs": [
    {
     "data": {
      "text/html": [
       "<div>\n",
       "<style scoped>\n",
       "    .dataframe tbody tr th:only-of-type {\n",
       "        vertical-align: middle;\n",
       "    }\n",
       "\n",
       "    .dataframe tbody tr th {\n",
       "        vertical-align: top;\n",
       "    }\n",
       "\n",
       "    .dataframe thead th {\n",
       "        text-align: right;\n",
       "    }\n",
       "</style>\n",
       "<table border=\"1\" class=\"dataframe\">\n",
       "  <thead>\n",
       "    <tr style=\"text-align: right;\">\n",
       "      <th></th>\n",
       "      <th>user_id</th>\n",
       "      <th>datetime_first_movie</th>\n",
       "    </tr>\n",
       "  </thead>\n",
       "  <tbody>\n",
       "    <tr>\n",
       "      <th>0</th>\n",
       "      <td>000052a0a0</td>\n",
       "      <td>2017-05-23 18:41:44</td>\n",
       "    </tr>\n",
       "    <tr>\n",
       "      <th>1</th>\n",
       "      <td>000296842d</td>\n",
       "      <td>2018-12-30 22:05:13</td>\n",
       "    </tr>\n",
       "    <tr>\n",
       "      <th>2</th>\n",
       "      <td>0002aab109</td>\n",
       "      <td>2017-05-06 19:23:06</td>\n",
       "    </tr>\n",
       "    <tr>\n",
       "      <th>3</th>\n",
       "      <td>0005c8fbac</td>\n",
       "      <td>2018-03-23 21:59:46</td>\n",
       "    </tr>\n",
       "    <tr>\n",
       "      <th>4</th>\n",
       "      <td>0005d9a8f4</td>\n",
       "      <td>2017-01-23 15:03:37</td>\n",
       "    </tr>\n",
       "  </tbody>\n",
       "</table>\n",
       "</div>"
      ],
      "text/plain": [
       "      user_id datetime_first_movie\n",
       "0  000052a0a0  2017-05-23 18:41:44\n",
       "1  000296842d  2018-12-30 22:05:13\n",
       "2  0002aab109  2017-05-06 19:23:06\n",
       "3  0005c8fbac  2018-03-23 21:59:46\n",
       "4  0005d9a8f4  2017-01-23 15:03:37"
      ]
     },
     "execution_count": 19,
     "metadata": {},
     "output_type": "execute_result"
    }
   ],
   "source": [
    "#Create a subset of original dataframe for create column 'First Watched Movie Date' for each 'user_id'\n",
    "selected_movies9 = movies2[['user_id', 'datetime']]\n",
    "#This line fix the warning of pandas package\n",
    "selected_movies9 = selected_movies9.copy()\n",
    "\n",
    "#Datetime format\n",
    "datetime_format = '%Y-%m-%d %H:%M:%S'\n",
    "selected_movies9['datetime'] = pd.to_datetime(selected_movies9['datetime'], format=datetime_format)\n",
    "selected_movies9 = selected_movies9.reset_index()\n",
    "\n",
    "first_watched_df = selected_movies9.iloc[selected_movies9.groupby(['user_id'])['datetime'].idxmin()].reset_index()\n",
    "first_watched_df = first_watched_df[['user_id','datetime']]\n",
    "first_watched_df.rename(columns={\"datetime\": \"datetime_first_movie\"}, inplace=True)\n",
    "first_watched_df.head()"
   ]
  },
  {
   "cell_type": "markdown",
   "id": "f4ecfc95",
   "metadata": {},
   "source": [
    "##### *6. Last Watched Movie Date*"
   ]
  },
  {
   "cell_type": "code",
   "execution_count": 20,
   "id": "26f08777",
   "metadata": {},
   "outputs": [
    {
     "data": {
      "text/html": [
       "<div>\n",
       "<style scoped>\n",
       "    .dataframe tbody tr th:only-of-type {\n",
       "        vertical-align: middle;\n",
       "    }\n",
       "\n",
       "    .dataframe tbody tr th {\n",
       "        vertical-align: top;\n",
       "    }\n",
       "\n",
       "    .dataframe thead th {\n",
       "        text-align: right;\n",
       "    }\n",
       "</style>\n",
       "<table border=\"1\" class=\"dataframe\">\n",
       "  <thead>\n",
       "    <tr style=\"text-align: right;\">\n",
       "      <th></th>\n",
       "      <th>user_id</th>\n",
       "      <th>datetime_last_movie</th>\n",
       "    </tr>\n",
       "  </thead>\n",
       "  <tbody>\n",
       "    <tr>\n",
       "      <th>0</th>\n",
       "      <td>000052a0a0</td>\n",
       "      <td>2017-06-26 18:25:42</td>\n",
       "    </tr>\n",
       "    <tr>\n",
       "      <th>1</th>\n",
       "      <td>000296842d</td>\n",
       "      <td>2018-12-31 20:06:23</td>\n",
       "    </tr>\n",
       "    <tr>\n",
       "      <th>2</th>\n",
       "      <td>0002aab109</td>\n",
       "      <td>2017-05-06 19:23:06</td>\n",
       "    </tr>\n",
       "    <tr>\n",
       "      <th>3</th>\n",
       "      <td>0005c8fbac</td>\n",
       "      <td>2018-04-13 19:08:10</td>\n",
       "    </tr>\n",
       "    <tr>\n",
       "      <th>4</th>\n",
       "      <td>0005d9a8f4</td>\n",
       "      <td>2017-01-23 15:03:37</td>\n",
       "    </tr>\n",
       "  </tbody>\n",
       "</table>\n",
       "</div>"
      ],
      "text/plain": [
       "      user_id datetime_last_movie\n",
       "0  000052a0a0 2017-06-26 18:25:42\n",
       "1  000296842d 2018-12-31 20:06:23\n",
       "2  0002aab109 2017-05-06 19:23:06\n",
       "3  0005c8fbac 2018-04-13 19:08:10\n",
       "4  0005d9a8f4 2017-01-23 15:03:37"
      ]
     },
     "execution_count": 20,
     "metadata": {},
     "output_type": "execute_result"
    }
   ],
   "source": [
    "#Create a subset of original dataframe for create column 'Last Watched Movie Date' for each 'user_id'\n",
    "selected_movies10 = movies2[['user_id', 'datetime']]\n",
    "#This line fix the warning of pandas package\n",
    "selected_movies10 = selected_movies10.copy()\n",
    "\n",
    "#Datetime format\n",
    "datetime_format = '%Y-%m-%d %H:%M:%S'\n",
    "selected_movies10['datetime'] = pd.to_datetime(selected_movies10['datetime'], format=datetime_format)\n",
    "selected_movies10 = selected_movies10.reset_index()\n",
    "\n",
    "last_watched_df = selected_movies10.iloc[selected_movies10.groupby(['user_id'])['datetime'].idxmax()].reset_index()\n",
    "last_watched_df = last_watched_df[['user_id','datetime']]\n",
    "last_watched_df.rename(columns={\"datetime\": \"datetime_last_movie\"}, inplace=True)\n",
    "last_watched_df.head()"
   ]
  },
  {
   "cell_type": "markdown",
   "id": "5788700d",
   "metadata": {},
   "source": [
    "##### *7. Days Since Last Watched (Inactivity)*"
   ]
  },
  {
   "cell_type": "code",
   "execution_count": 21,
   "id": "f46b7f8f",
   "metadata": {},
   "outputs": [
    {
     "data": {
      "text/html": [
       "<div>\n",
       "<style scoped>\n",
       "    .dataframe tbody tr th:only-of-type {\n",
       "        vertical-align: middle;\n",
       "    }\n",
       "\n",
       "    .dataframe tbody tr th {\n",
       "        vertical-align: top;\n",
       "    }\n",
       "\n",
       "    .dataframe thead th {\n",
       "        text-align: right;\n",
       "    }\n",
       "</style>\n",
       "<table border=\"1\" class=\"dataframe\">\n",
       "  <thead>\n",
       "    <tr style=\"text-align: right;\">\n",
       "      <th></th>\n",
       "      <th>user_id</th>\n",
       "      <th>inactivity</th>\n",
       "    </tr>\n",
       "  </thead>\n",
       "  <tbody>\n",
       "    <tr>\n",
       "      <th>0</th>\n",
       "      <td>000052a0a0</td>\n",
       "      <td>2364</td>\n",
       "    </tr>\n",
       "    <tr>\n",
       "      <th>1</th>\n",
       "      <td>000296842d</td>\n",
       "      <td>1811</td>\n",
       "    </tr>\n",
       "    <tr>\n",
       "      <th>2</th>\n",
       "      <td>0002aab109</td>\n",
       "      <td>2415</td>\n",
       "    </tr>\n",
       "    <tr>\n",
       "      <th>3</th>\n",
       "      <td>0005c8fbac</td>\n",
       "      <td>2073</td>\n",
       "    </tr>\n",
       "    <tr>\n",
       "      <th>4</th>\n",
       "      <td>0005d9a8f4</td>\n",
       "      <td>2519</td>\n",
       "    </tr>\n",
       "  </tbody>\n",
       "</table>\n",
       "</div>"
      ],
      "text/plain": [
       "      user_id  inactivity\n",
       "0  000052a0a0        2364\n",
       "1  000296842d        1811\n",
       "2  0002aab109        2415\n",
       "3  0005c8fbac        2073\n",
       "4  0005d9a8f4        2519"
      ]
     },
     "execution_count": 21,
     "metadata": {},
     "output_type": "execute_result"
    }
   ],
   "source": [
    "from datetime import datetime\n",
    "\n",
    "# Calculate the difference between today and the time the user watched his last movie.\n",
    "today = datetime.now()\n",
    "inactivity_df = last_watched_df.copy()\n",
    "inactivity_df['inactivity'] = (today - inactivity_df['datetime_last_movie']).dt.days\n",
    "inactivity_df = inactivity_df[['user_id','inactivity']]\n",
    "inactivity_df.head()"
   ]
  },
  {
   "cell_type": "markdown",
   "id": "184728b8",
   "metadata": {},
   "source": [
    "##### *8. Favourite Month to Watch Movies*"
   ]
  },
  {
   "cell_type": "code",
   "execution_count": 22,
   "id": "d5c584ff",
   "metadata": {},
   "outputs": [
    {
     "data": {
      "text/html": [
       "<div>\n",
       "<style scoped>\n",
       "    .dataframe tbody tr th:only-of-type {\n",
       "        vertical-align: middle;\n",
       "    }\n",
       "\n",
       "    .dataframe tbody tr th {\n",
       "        vertical-align: top;\n",
       "    }\n",
       "\n",
       "    .dataframe thead th {\n",
       "        text-align: right;\n",
       "    }\n",
       "</style>\n",
       "<table border=\"1\" class=\"dataframe\">\n",
       "  <thead>\n",
       "    <tr style=\"text-align: right;\">\n",
       "      <th></th>\n",
       "      <th>user_id</th>\n",
       "      <th>fav_month</th>\n",
       "    </tr>\n",
       "  </thead>\n",
       "  <tbody>\n",
       "    <tr>\n",
       "      <th>0</th>\n",
       "      <td>000052a0a0</td>\n",
       "      <td>June</td>\n",
       "    </tr>\n",
       "    <tr>\n",
       "      <th>1</th>\n",
       "      <td>000296842d</td>\n",
       "      <td>December</td>\n",
       "    </tr>\n",
       "    <tr>\n",
       "      <th>2</th>\n",
       "      <td>0002aab109</td>\n",
       "      <td>May</td>\n",
       "    </tr>\n",
       "    <tr>\n",
       "      <th>3</th>\n",
       "      <td>0005c8fbac</td>\n",
       "      <td>March</td>\n",
       "    </tr>\n",
       "    <tr>\n",
       "      <th>4</th>\n",
       "      <td>0005d9a8f4</td>\n",
       "      <td>January</td>\n",
       "    </tr>\n",
       "  </tbody>\n",
       "</table>\n",
       "</div>"
      ],
      "text/plain": [
       "      user_id fav_month\n",
       "0  000052a0a0      June\n",
       "1  000296842d  December\n",
       "2  0002aab109       May\n",
       "3  0005c8fbac     March\n",
       "4  0005d9a8f4   January"
      ]
     },
     "execution_count": 22,
     "metadata": {},
     "output_type": "execute_result"
    }
   ],
   "source": [
    "#Function to create the 'choose_month' decision\n",
    "def choose_month(month):\n",
    "    if month == 1:\n",
    "        return 'January'\n",
    "    if month == 2:\n",
    "        return 'February'\n",
    "    if month == 3:\n",
    "        return 'March'\n",
    "    if month == 4:\n",
    "        return 'April'\n",
    "    if month == 5:\n",
    "        return 'May'\n",
    "    if month == 6:\n",
    "        return 'June'\n",
    "    if month == 7:\n",
    "        return 'July'\n",
    "    if month == 8:\n",
    "        return 'August'\n",
    "    if month == 9:\n",
    "        return 'September'\n",
    "    if month == 10:\n",
    "        return 'October'\n",
    "    if month == 11:\n",
    "        return 'November'\n",
    "    elif month == 12:\n",
    "        return 'December'\n",
    "    \n",
    "\n",
    "#Create a subset of original dataframe for create column 'First Watched Movie Date' for each 'user_id'\n",
    "selected_movies11 = movies2[['user_id', 'datetime']]\n",
    "#This line fix the warning of pandas package\n",
    "selected_movies11 = selected_movies11.copy()\n",
    "\n",
    "#Datetime format\n",
    "datetime_format = '%Y-%m-%d %H:%M:%S'\n",
    "selected_movies11['datetime'] = pd.to_datetime(selected_movies11['datetime'], format=datetime_format)\n",
    "selected_movies11 = selected_movies11.reset_index()\n",
    "\n",
    "selected_movies11['fav_month'] = selected_movies11['datetime'].apply(lambda x: choose_month(x.month))\n",
    "selected_movies11['Frequency'] = selected_movies11.groupby(['user_id','fav_month'])['index'].transform('count')\n",
    "fav_month_df = selected_movies11.iloc[selected_movies11.groupby(['user_id'])['Frequency'].idxmax()].reset_index()\n",
    "fav_month_df = fav_month_df[['user_id','fav_month']]\n",
    "\n",
    "fav_month_df.head()"
   ]
  },
  {
   "cell_type": "markdown",
   "id": "35a4566e",
   "metadata": {},
   "source": [
    "##### *9. Favourite Year to Watch Movies*"
   ]
  },
  {
   "cell_type": "code",
   "execution_count": 23,
   "id": "9a2778a3",
   "metadata": {},
   "outputs": [
    {
     "data": {
      "text/html": [
       "<div>\n",
       "<style scoped>\n",
       "    .dataframe tbody tr th:only-of-type {\n",
       "        vertical-align: middle;\n",
       "    }\n",
       "\n",
       "    .dataframe tbody tr th {\n",
       "        vertical-align: top;\n",
       "    }\n",
       "\n",
       "    .dataframe thead th {\n",
       "        text-align: right;\n",
       "    }\n",
       "</style>\n",
       "<table border=\"1\" class=\"dataframe\">\n",
       "  <thead>\n",
       "    <tr style=\"text-align: right;\">\n",
       "      <th></th>\n",
       "      <th>user_id</th>\n",
       "      <th>fav_year</th>\n",
       "    </tr>\n",
       "  </thead>\n",
       "  <tbody>\n",
       "    <tr>\n",
       "      <th>0</th>\n",
       "      <td>000052a0a0</td>\n",
       "      <td>2017</td>\n",
       "    </tr>\n",
       "    <tr>\n",
       "      <th>1</th>\n",
       "      <td>000296842d</td>\n",
       "      <td>2018</td>\n",
       "    </tr>\n",
       "    <tr>\n",
       "      <th>2</th>\n",
       "      <td>0002aab109</td>\n",
       "      <td>2017</td>\n",
       "    </tr>\n",
       "    <tr>\n",
       "      <th>3</th>\n",
       "      <td>0005c8fbac</td>\n",
       "      <td>2018</td>\n",
       "    </tr>\n",
       "    <tr>\n",
       "      <th>4</th>\n",
       "      <td>0005d9a8f4</td>\n",
       "      <td>2017</td>\n",
       "    </tr>\n",
       "  </tbody>\n",
       "</table>\n",
       "</div>"
      ],
      "text/plain": [
       "      user_id  fav_year\n",
       "0  000052a0a0      2017\n",
       "1  000296842d      2018\n",
       "2  0002aab109      2017\n",
       "3  0005c8fbac      2018\n",
       "4  0005d9a8f4      2017"
      ]
     },
     "execution_count": 23,
     "metadata": {},
     "output_type": "execute_result"
    }
   ],
   "source": [
    "#Create a subset of original dataframe for create column 'First Watched Movie Date' for each 'user_id'\n",
    "selected_movies13 = movies2[['user_id', 'datetime']]\n",
    "#This line fix the warning of pandas package\n",
    "selected_movies13 = selected_movies13.copy()\n",
    "\n",
    "#Datetime format\n",
    "datetime_format = '%Y-%m-%d %H:%M:%S'\n",
    "selected_movies13['datetime'] = pd.to_datetime(selected_movies13['datetime'], format=datetime_format)\n",
    "selected_movies13 = selected_movies13.reset_index()\n",
    "\n",
    "selected_movies13['fav_year'] = selected_movies13['datetime'].apply(lambda x: x.year)\n",
    "selected_movies13['Frequency'] = selected_movies13.groupby(['user_id','fav_year'])['index'].transform('count')\n",
    "fav_year_df = selected_movies13.iloc[selected_movies13.groupby(['user_id'])['Frequency'].idxmax()].reset_index()\n",
    "fav_year_df = fav_year_df[['user_id','fav_year']]\n",
    "fav_year_df.head()"
   ]
  },
  {
   "cell_type": "markdown",
   "id": "c3b8e562",
   "metadata": {},
   "source": [
    "##### *10. Average time elapsed from film release and user watched (per user_id)*"
   ]
  },
  {
   "cell_type": "code",
   "execution_count": 24,
   "id": "6ee68240",
   "metadata": {},
   "outputs": [
    {
     "data": {
      "text/html": [
       "<div>\n",
       "<style scoped>\n",
       "    .dataframe tbody tr th:only-of-type {\n",
       "        vertical-align: middle;\n",
       "    }\n",
       "\n",
       "    .dataframe tbody tr th {\n",
       "        vertical-align: top;\n",
       "    }\n",
       "\n",
       "    .dataframe thead th {\n",
       "        text-align: right;\n",
       "    }\n",
       "</style>\n",
       "<table border=\"1\" class=\"dataframe\">\n",
       "  <thead>\n",
       "    <tr style=\"text-align: right;\">\n",
       "      <th></th>\n",
       "      <th>user_id</th>\n",
       "      <th>time_elapsed</th>\n",
       "    </tr>\n",
       "  </thead>\n",
       "  <tbody>\n",
       "    <tr>\n",
       "      <th>0</th>\n",
       "      <td>000052a0a0</td>\n",
       "      <td>4276.285714</td>\n",
       "    </tr>\n",
       "    <tr>\n",
       "      <th>1</th>\n",
       "      <td>000296842d</td>\n",
       "      <td>2.750000</td>\n",
       "    </tr>\n",
       "    <tr>\n",
       "      <th>2</th>\n",
       "      <td>0002aab109</td>\n",
       "      <td>1940.000000</td>\n",
       "    </tr>\n",
       "    <tr>\n",
       "      <th>3</th>\n",
       "      <td>0005c8fbac</td>\n",
       "      <td>3962.000000</td>\n",
       "    </tr>\n",
       "    <tr>\n",
       "      <th>4</th>\n",
       "      <td>0005d9a8f4</td>\n",
       "      <td>427.000000</td>\n",
       "    </tr>\n",
       "  </tbody>\n",
       "</table>\n",
       "</div>"
      ],
      "text/plain": [
       "      user_id  time_elapsed\n",
       "0  000052a0a0   4276.285714\n",
       "1  000296842d      2.750000\n",
       "2  0002aab109   1940.000000\n",
       "3  0005c8fbac   3962.000000\n",
       "4  0005d9a8f4    427.000000"
      ]
     },
     "execution_count": 24,
     "metadata": {},
     "output_type": "execute_result"
    }
   ],
   "source": [
    "#Create a subset of original dataframe for create column 'Average time elapsed from film release and user watched' for each 'user_id'\n",
    "selected_movies12 = movies2[['user_id', 'datetime', 'release_date']]\n",
    "selected_movies12 = selected_movies12[selected_movies12['release_date']!='NOT AVAILABLE']\n",
    "#This line fix the warning of pandas package\n",
    "selected_movies12 = selected_movies12.copy()\n",
    "\n",
    "#Datetime format\n",
    "datetime_format = '%Y-%m-%d %H:%M:%S'\n",
    "#Date format\n",
    "date_format = '%Y-%m-%d'\n",
    "\n",
    "selected_movies12['datetime'] = pd.to_datetime(selected_movies12['datetime'], format=datetime_format)\n",
    "selected_movies12['release_date'] = pd.to_datetime(selected_movies12['release_date'], format=date_format)\n",
    "selected_movies12['time_elapsed'] = (selected_movies12['datetime'] - selected_movies12['release_date']).dt.days\n",
    "\n",
    "avg_time_elapsed_df = selected_movies12.groupby(['user_id'])['time_elapsed'].mean()\n",
    "#avg_time_elapsed_df.rename(columns={\"time_elapsed\": \"avg_time_elapsed\"}, inplace=True)\n",
    "avg_time_elapsed_df = avg_time_elapsed_df.reset_index()\n",
    "avg_time_elapsed_df.head()"
   ]
  },
  {
   "cell_type": "markdown",
   "id": "7fdc69ff",
   "metadata": {},
   "source": [
    "##### *Merge all feature for one dataset*"
   ]
  },
  {
   "cell_type": "code",
   "execution_count": 52,
   "id": "9f1ebcb6",
   "metadata": {},
   "outputs": [
    {
     "data": {
      "text/html": [
       "<div>\n",
       "<style scoped>\n",
       "    .dataframe tbody tr th:only-of-type {\n",
       "        vertical-align: middle;\n",
       "    }\n",
       "\n",
       "    .dataframe tbody tr th {\n",
       "        vertical-align: top;\n",
       "    }\n",
       "\n",
       "    .dataframe thead th {\n",
       "        text-align: right;\n",
       "    }\n",
       "</style>\n",
       "<table border=\"1\" class=\"dataframe\">\n",
       "  <thead>\n",
       "    <tr style=\"text-align: right;\">\n",
       "      <th></th>\n",
       "      <th>user_id</th>\n",
       "      <th>duration_avg</th>\n",
       "      <th>fav_genres</th>\n",
       "      <th>fav_timeofday</th>\n",
       "      <th>fav_filmera</th>\n",
       "      <th>duration_perday_avg</th>\n",
       "      <th>duration_sum</th>\n",
       "      <th>n_times_movies</th>\n",
       "      <th>n_movies</th>\n",
       "      <th>n_rewatched</th>\n",
       "      <th>datetime_first_movie</th>\n",
       "      <th>datetime_last_movie</th>\n",
       "      <th>inactivity</th>\n",
       "      <th>fav_month</th>\n",
       "      <th>fav_year</th>\n",
       "      <th>time_elapsed</th>\n",
       "    </tr>\n",
       "  </thead>\n",
       "  <tbody>\n",
       "    <tr>\n",
       "      <th>0</th>\n",
       "      <td>000052a0a0</td>\n",
       "      <td>3470.0</td>\n",
       "      <td>Action,Comedy,Thriller</td>\n",
       "      <td>Afternoon</td>\n",
       "      <td>Old</td>\n",
       "      <td>3989.395833</td>\n",
       "      <td>48580.0</td>\n",
       "      <td>14</td>\n",
       "      <td>9</td>\n",
       "      <td>5</td>\n",
       "      <td>2017-05-23 18:41:44</td>\n",
       "      <td>2017-06-26 18:25:42</td>\n",
       "      <td>2364</td>\n",
       "      <td>June</td>\n",
       "      <td>2017</td>\n",
       "      <td>4276.285714</td>\n",
       "    </tr>\n",
       "    <tr>\n",
       "      <th>1</th>\n",
       "      <td>000296842d</td>\n",
       "      <td>19327.0</td>\n",
       "      <td>Thriller,Sci-Fi,Mystery,Drama</td>\n",
       "      <td>Night</td>\n",
       "      <td>New</td>\n",
       "      <td>17198.333333</td>\n",
       "      <td>77308.0</td>\n",
       "      <td>4</td>\n",
       "      <td>1</td>\n",
       "      <td>3</td>\n",
       "      <td>2018-12-30 22:05:13</td>\n",
       "      <td>2018-12-31 20:06:23</td>\n",
       "      <td>1811</td>\n",
       "      <td>December</td>\n",
       "      <td>2018</td>\n",
       "      <td>2.750000</td>\n",
       "    </tr>\n",
       "    <tr>\n",
       "      <th>2</th>\n",
       "      <td>0002aab109</td>\n",
       "      <td>83625.0</td>\n",
       "      <td>Drama,Biography</td>\n",
       "      <td>Afternoon</td>\n",
       "      <td>New</td>\n",
       "      <td>83625.000000</td>\n",
       "      <td>83625.0</td>\n",
       "      <td>1</td>\n",
       "      <td>1</td>\n",
       "      <td>0</td>\n",
       "      <td>2017-05-06 19:23:06</td>\n",
       "      <td>2017-05-06 19:23:06</td>\n",
       "      <td>2415</td>\n",
       "      <td>May</td>\n",
       "      <td>2017</td>\n",
       "      <td>1940.000000</td>\n",
       "    </tr>\n",
       "    <tr>\n",
       "      <th>3</th>\n",
       "      <td>0005c8fbac</td>\n",
       "      <td>473682.5</td>\n",
       "      <td>Animation,Comedy,Family,Fantasy,Horror,Thrille...</td>\n",
       "      <td>Night,Afternoon</td>\n",
       "      <td>Old,New</td>\n",
       "      <td>473682.500000</td>\n",
       "      <td>947365.0</td>\n",
       "      <td>2</td>\n",
       "      <td>2</td>\n",
       "      <td>0</td>\n",
       "      <td>2018-03-23 21:59:46</td>\n",
       "      <td>2018-04-13 19:08:10</td>\n",
       "      <td>2073</td>\n",
       "      <td>March</td>\n",
       "      <td>2018</td>\n",
       "      <td>3962.000000</td>\n",
       "    </tr>\n",
       "    <tr>\n",
       "      <th>4</th>\n",
       "      <td>0005d9a8f4</td>\n",
       "      <td>14394.0</td>\n",
       "      <td>Adventure,Comedy,Documentary</td>\n",
       "      <td>Afternoon</td>\n",
       "      <td>New</td>\n",
       "      <td>14394.000000</td>\n",
       "      <td>14394.0</td>\n",
       "      <td>1</td>\n",
       "      <td>1</td>\n",
       "      <td>0</td>\n",
       "      <td>2017-01-23 15:03:37</td>\n",
       "      <td>2017-01-23 15:03:37</td>\n",
       "      <td>2519</td>\n",
       "      <td>January</td>\n",
       "      <td>2017</td>\n",
       "      <td>427.000000</td>\n",
       "    </tr>\n",
       "  </tbody>\n",
       "</table>\n",
       "</div>"
      ],
      "text/plain": [
       "      user_id  duration_avg  \\\n",
       "0  000052a0a0        3470.0   \n",
       "1  000296842d       19327.0   \n",
       "2  0002aab109       83625.0   \n",
       "3  0005c8fbac      473682.5   \n",
       "4  0005d9a8f4       14394.0   \n",
       "\n",
       "                                          fav_genres    fav_timeofday  \\\n",
       "0                             Action,Comedy,Thriller        Afternoon   \n",
       "1                      Thriller,Sci-Fi,Mystery,Drama            Night   \n",
       "2                                    Drama,Biography        Afternoon   \n",
       "3  Animation,Comedy,Family,Fantasy,Horror,Thrille...  Night,Afternoon   \n",
       "4                       Adventure,Comedy,Documentary        Afternoon   \n",
       "\n",
       "  fav_filmera  duration_perday_avg  duration_sum  n_times_movies  n_movies  \\\n",
       "0         Old          3989.395833       48580.0              14         9   \n",
       "1         New         17198.333333       77308.0               4         1   \n",
       "2         New         83625.000000       83625.0               1         1   \n",
       "3     Old,New        473682.500000      947365.0               2         2   \n",
       "4         New         14394.000000       14394.0               1         1   \n",
       "\n",
       "   n_rewatched datetime_first_movie datetime_last_movie  inactivity fav_month  \\\n",
       "0            5  2017-05-23 18:41:44 2017-06-26 18:25:42        2364      June   \n",
       "1            3  2018-12-30 22:05:13 2018-12-31 20:06:23        1811  December   \n",
       "2            0  2017-05-06 19:23:06 2017-05-06 19:23:06        2415       May   \n",
       "3            0  2018-03-23 21:59:46 2018-04-13 19:08:10        2073     March   \n",
       "4            0  2017-01-23 15:03:37 2017-01-23 15:03:37        2519   January   \n",
       "\n",
       "   fav_year  time_elapsed  \n",
       "0      2017   4276.285714  \n",
       "1      2018      2.750000  \n",
       "2      2017   1940.000000  \n",
       "3      2018   3962.000000  \n",
       "4      2017    427.000000  "
      ]
     },
     "execution_count": 52,
     "metadata": {},
     "output_type": "execute_result"
    }
   ],
   "source": [
    "df1 = pd.merge(duration_df, fav_genres, on='user_id', how='outer')\n",
    "df2 = pd.merge(fav_timeofday, fav_filmera, on='user_id', how='outer')\n",
    "df3 = pd.merge(duration_perday_df, duration_sum_df, on='user_id', how='outer')\n",
    "df4 = pd.merge(ntimes_rewatched_movies, first_watched_df, on='user_id', how='outer')\n",
    "df5 = pd.merge(last_watched_df, inactivity_df, on='user_id', how='outer')\n",
    "df6 = pd.merge(fav_month_df, fav_year_df, on='user_id', how='outer')\n",
    "\n",
    "df7 = pd.merge(df1, df2, on='user_id', how='outer')\n",
    "df8 = pd.merge(df3, df4, on='user_id', how='outer')\n",
    "df9 = pd.merge(df5, df6, on='user_id', how='outer')\n",
    "\n",
    "df10 = pd.merge(df7, df8, on='user_id', how='outer')\n",
    "df11 = pd.merge(df9, avg_time_elapsed_df, on='user_id', how='outer')\n",
    "\n",
    "df = pd.merge(df10, df11, on='user_id', how='outer')\n",
    "\n",
    "df.to_csv('/Users/pasquale/Downloads/user_ADM-HW4.csv')\n",
    "df.head()"
   ]
  },
  {
   "cell_type": "markdown",
   "id": "9c85dd43",
   "metadata": {},
   "source": [
    "### 2.2 Choose your features (variables)!\n"
   ]
  },
  {
   "cell_type": "markdown",
   "id": "2f68956b",
   "metadata": {},
   "source": [
    "#### You may notice that you have plenty of features to work with now. So, it would be best to find a way to reduce the dimensionality (reduce the number of variables to work with). You can follow the subsequent directions to achieve it:"
   ]
  },
  {
   "cell_type": "markdown",
   "id": "486ae439",
   "metadata": {},
   "source": [
    "#### 1. To normalise or not to normalise? That's the question. Sometimes, it is worth normalizing (scaling) the features. Explain if it is a good idea to perform any normalization method. If you think the normalization should be used, apply it to your data (look at the available normalization functions in the scikit-learn library)."
   ]
  },
  {
   "cell_type": "markdown",
   "id": "be83731a",
   "metadata": {},
   "source": [
    "Normalizing data before applying principal component analysis (PCA) is a good practice for this reasons:\n",
    "\n",
    "1. **Scale Invariance:**\n",
    "   - PCA is sensitive to the scale of the variables. Normalizing data ensures that all variables contribute equally to the analysis, making PCA more scale-invariant.\n",
    "\n",
    "2. **Model Stability:**\n",
    "   - The stability of PCA solution can be compromised if variables are on different scales. Normalization leads to a more stable and reliable PCA solution.\n",
    "\n",
    "\n",
    "3. **Outlier Sensitivity:**\n",
    "   - Outliers have a disproportionate impact on PCA without normalization. Normalization reduces the influence of outliers on principal components.\n",
    "\n",
    "\n",
    "4. **Avoiding Bias:**\n",
    "   - Normalizing data prevents bias towards variables with larger scales (beacuse of the unit of measure), ensuring that the analysis is not skewed towards specific features.\n",
    "\n"
   ]
  },
  {
   "cell_type": "code",
   "execution_count": 53,
   "id": "87b28d1d",
   "metadata": {},
   "outputs": [
    {
     "data": {
      "text/html": [
       "<div>\n",
       "<style scoped>\n",
       "    .dataframe tbody tr th:only-of-type {\n",
       "        vertical-align: middle;\n",
       "    }\n",
       "\n",
       "    .dataframe tbody tr th {\n",
       "        vertical-align: top;\n",
       "    }\n",
       "\n",
       "    .dataframe thead th {\n",
       "        text-align: right;\n",
       "    }\n",
       "</style>\n",
       "<table border=\"1\" class=\"dataframe\">\n",
       "  <thead>\n",
       "    <tr style=\"text-align: right;\">\n",
       "      <th></th>\n",
       "      <th>Unnamed: 0</th>\n",
       "      <th>user_id</th>\n",
       "      <th>duration_avg</th>\n",
       "      <th>fav_genres</th>\n",
       "      <th>fav_timeofday</th>\n",
       "      <th>fav_filmera</th>\n",
       "      <th>duration_perday_avg</th>\n",
       "      <th>duration_sum</th>\n",
       "      <th>n_times_movies</th>\n",
       "      <th>n_movies</th>\n",
       "      <th>n_rewatched</th>\n",
       "      <th>datetime_first_movie</th>\n",
       "      <th>datetime_last_movie</th>\n",
       "      <th>inactivity</th>\n",
       "      <th>fav_month</th>\n",
       "      <th>fav_year</th>\n",
       "      <th>time_elapsed</th>\n",
       "    </tr>\n",
       "  </thead>\n",
       "  <tbody>\n",
       "    <tr>\n",
       "      <th>0</th>\n",
       "      <td>0</td>\n",
       "      <td>000052a0a0</td>\n",
       "      <td>3470.0</td>\n",
       "      <td>Action,Comedy,Thriller</td>\n",
       "      <td>2.0</td>\n",
       "      <td>0.0</td>\n",
       "      <td>3989.395833</td>\n",
       "      <td>48580.0</td>\n",
       "      <td>14</td>\n",
       "      <td>9</td>\n",
       "      <td>5</td>\n",
       "      <td>2017-05-23 18:41:44</td>\n",
       "      <td>2017-06-26 18:25:42</td>\n",
       "      <td>2364</td>\n",
       "      <td>6</td>\n",
       "      <td>2017</td>\n",
       "      <td>4276.285714</td>\n",
       "    </tr>\n",
       "    <tr>\n",
       "      <th>1</th>\n",
       "      <td>1</td>\n",
       "      <td>000296842d</td>\n",
       "      <td>19327.0</td>\n",
       "      <td>Thriller,Sci-Fi,Mystery,Drama</td>\n",
       "      <td>3.0</td>\n",
       "      <td>1.0</td>\n",
       "      <td>17198.333333</td>\n",
       "      <td>77308.0</td>\n",
       "      <td>4</td>\n",
       "      <td>1</td>\n",
       "      <td>3</td>\n",
       "      <td>2018-12-30 22:05:13</td>\n",
       "      <td>2018-12-31 20:06:23</td>\n",
       "      <td>1811</td>\n",
       "      <td>12</td>\n",
       "      <td>2018</td>\n",
       "      <td>2.750000</td>\n",
       "    </tr>\n",
       "    <tr>\n",
       "      <th>2</th>\n",
       "      <td>2</td>\n",
       "      <td>0002aab109</td>\n",
       "      <td>83625.0</td>\n",
       "      <td>Drama,Biography</td>\n",
       "      <td>2.0</td>\n",
       "      <td>1.0</td>\n",
       "      <td>83625.000000</td>\n",
       "      <td>83625.0</td>\n",
       "      <td>1</td>\n",
       "      <td>1</td>\n",
       "      <td>0</td>\n",
       "      <td>2017-05-06 19:23:06</td>\n",
       "      <td>2017-05-06 19:23:06</td>\n",
       "      <td>2415</td>\n",
       "      <td>5</td>\n",
       "      <td>2017</td>\n",
       "      <td>1940.000000</td>\n",
       "    </tr>\n",
       "    <tr>\n",
       "      <th>3</th>\n",
       "      <td>3</td>\n",
       "      <td>0005c8fbac</td>\n",
       "      <td>473682.5</td>\n",
       "      <td>Animation,Comedy,Family,Fantasy,Horror,Thrille...</td>\n",
       "      <td>2.5</td>\n",
       "      <td>0.5</td>\n",
       "      <td>473682.500000</td>\n",
       "      <td>947365.0</td>\n",
       "      <td>2</td>\n",
       "      <td>2</td>\n",
       "      <td>0</td>\n",
       "      <td>2018-03-23 21:59:46</td>\n",
       "      <td>2018-04-13 19:08:10</td>\n",
       "      <td>2073</td>\n",
       "      <td>3</td>\n",
       "      <td>2018</td>\n",
       "      <td>3962.000000</td>\n",
       "    </tr>\n",
       "    <tr>\n",
       "      <th>4</th>\n",
       "      <td>4</td>\n",
       "      <td>0005d9a8f4</td>\n",
       "      <td>14394.0</td>\n",
       "      <td>Adventure,Comedy,Documentary</td>\n",
       "      <td>2.0</td>\n",
       "      <td>1.0</td>\n",
       "      <td>14394.000000</td>\n",
       "      <td>14394.0</td>\n",
       "      <td>1</td>\n",
       "      <td>1</td>\n",
       "      <td>0</td>\n",
       "      <td>2017-01-23 15:03:37</td>\n",
       "      <td>2017-01-23 15:03:37</td>\n",
       "      <td>2519</td>\n",
       "      <td>1</td>\n",
       "      <td>2017</td>\n",
       "      <td>427.000000</td>\n",
       "    </tr>\n",
       "  </tbody>\n",
       "</table>\n",
       "</div>"
      ],
      "text/plain": [
       "   Unnamed: 0     user_id  duration_avg  \\\n",
       "0           0  000052a0a0        3470.0   \n",
       "1           1  000296842d       19327.0   \n",
       "2           2  0002aab109       83625.0   \n",
       "3           3  0005c8fbac      473682.5   \n",
       "4           4  0005d9a8f4       14394.0   \n",
       "\n",
       "                                          fav_genres  fav_timeofday  \\\n",
       "0                             Action,Comedy,Thriller            2.0   \n",
       "1                      Thriller,Sci-Fi,Mystery,Drama            3.0   \n",
       "2                                    Drama,Biography            2.0   \n",
       "3  Animation,Comedy,Family,Fantasy,Horror,Thrille...            2.5   \n",
       "4                       Adventure,Comedy,Documentary            2.0   \n",
       "\n",
       "   fav_filmera  duration_perday_avg  duration_sum  n_times_movies  n_movies  \\\n",
       "0          0.0          3989.395833       48580.0              14         9   \n",
       "1          1.0         17198.333333       77308.0               4         1   \n",
       "2          1.0         83625.000000       83625.0               1         1   \n",
       "3          0.5        473682.500000      947365.0               2         2   \n",
       "4          1.0         14394.000000       14394.0               1         1   \n",
       "\n",
       "   n_rewatched datetime_first_movie  datetime_last_movie  inactivity  \\\n",
       "0            5  2017-05-23 18:41:44  2017-06-26 18:25:42        2364   \n",
       "1            3  2018-12-30 22:05:13  2018-12-31 20:06:23        1811   \n",
       "2            0  2017-05-06 19:23:06  2017-05-06 19:23:06        2415   \n",
       "3            0  2018-03-23 21:59:46  2018-04-13 19:08:10        2073   \n",
       "4            0  2017-01-23 15:03:37  2017-01-23 15:03:37        2519   \n",
       "\n",
       "   fav_month  fav_year  time_elapsed  \n",
       "0          6      2017   4276.285714  \n",
       "1         12      2018      2.750000  \n",
       "2          5      2017   1940.000000  \n",
       "3          3      2018   3962.000000  \n",
       "4          1      2017    427.000000  "
      ]
     },
     "execution_count": 53,
     "metadata": {},
     "output_type": "execute_result"
    }
   ],
   "source": [
    "import pandas as pd\n",
    "from sklearn.preprocessing import StandardScaler\n",
    "from sklearn.decomposition import PCA\n",
    "import sklearn\n",
    "import numpy as np\n",
    "import plotly.express as px\n",
    "import matplotlib.pyplot as plt\n",
    "from sklearn.impute import SimpleImputer\n",
    "df = pd.read_csv('user_ADM-HW4.csv', sep=',')\n",
    "# we convert the qualitative variables in a proper way in quantitative variables so that we can perform the normalization and later pca\n",
    "mapping_era = {'New': 1, 'Old': 0,'Old,New': 0.5, 'New,Old': 0.5}\n",
    "df['fav_filmera']=df['fav_filmera'].map(mapping_era)\n",
    "\n",
    "\n",
    "mapping_timeofday = {'Morning': 1, 'Afternoon': 2,'Night': 3, 'Night,Afternoon': 2.5,'Afternoon,Night': 2.5,'Morning,Afternoon': 1.5,'Afternoon,Morning': 1.5,'Morning,Night': 2,'Night,Morning': 2}\n",
    "df['fav_timeofday']=df['fav_timeofday'].map(mapping_timeofday)\n",
    "\n",
    "mapping_month = {\n",
    "    'January': 1, 'February': 2, 'March': 3, 'April': 4,\n",
    "    'May': 5, 'June': 6, 'July': 7, 'August': 8,\n",
    "    'September': 9, 'October': 10, 'November': 11, 'December': 12\n",
    "}\n",
    "df['fav_month']=df['fav_month'].map(mapping_month)\n",
    "df.head()"
   ]
  },
  {
   "cell_type": "code",
   "execution_count": 54,
   "id": "4ed5420b",
   "metadata": {},
   "outputs": [
    {
     "data": {
      "text/html": [
       "<div>\n",
       "<style scoped>\n",
       "    .dataframe tbody tr th:only-of-type {\n",
       "        vertical-align: middle;\n",
       "    }\n",
       "\n",
       "    .dataframe tbody tr th {\n",
       "        vertical-align: top;\n",
       "    }\n",
       "\n",
       "    .dataframe thead th {\n",
       "        text-align: right;\n",
       "    }\n",
       "</style>\n",
       "<table border=\"1\" class=\"dataframe\">\n",
       "  <thead>\n",
       "    <tr style=\"text-align: right;\">\n",
       "      <th></th>\n",
       "      <th>duration_avg</th>\n",
       "      <th>fav_timeofday</th>\n",
       "      <th>fav_filmera</th>\n",
       "      <th>duration_perday_avg</th>\n",
       "      <th>duration_sum</th>\n",
       "      <th>n_times_movies</th>\n",
       "      <th>n_movies</th>\n",
       "      <th>n_rewatched</th>\n",
       "      <th>inactivity</th>\n",
       "      <th>fav_month</th>\n",
       "      <th>fav_year</th>\n",
       "      <th>time_elapsed</th>\n",
       "    </tr>\n",
       "  </thead>\n",
       "  <tbody>\n",
       "    <tr>\n",
       "      <th>0</th>\n",
       "      <td>3470.0</td>\n",
       "      <td>2.0</td>\n",
       "      <td>0.0</td>\n",
       "      <td>3989.395833</td>\n",
       "      <td>48580.0</td>\n",
       "      <td>14</td>\n",
       "      <td>9</td>\n",
       "      <td>5</td>\n",
       "      <td>2364</td>\n",
       "      <td>6</td>\n",
       "      <td>2017</td>\n",
       "      <td>4276.285714</td>\n",
       "    </tr>\n",
       "    <tr>\n",
       "      <th>1</th>\n",
       "      <td>19327.0</td>\n",
       "      <td>3.0</td>\n",
       "      <td>1.0</td>\n",
       "      <td>17198.333333</td>\n",
       "      <td>77308.0</td>\n",
       "      <td>4</td>\n",
       "      <td>1</td>\n",
       "      <td>3</td>\n",
       "      <td>1811</td>\n",
       "      <td>12</td>\n",
       "      <td>2018</td>\n",
       "      <td>2.750000</td>\n",
       "    </tr>\n",
       "    <tr>\n",
       "      <th>2</th>\n",
       "      <td>83625.0</td>\n",
       "      <td>2.0</td>\n",
       "      <td>1.0</td>\n",
       "      <td>83625.000000</td>\n",
       "      <td>83625.0</td>\n",
       "      <td>1</td>\n",
       "      <td>1</td>\n",
       "      <td>0</td>\n",
       "      <td>2415</td>\n",
       "      <td>5</td>\n",
       "      <td>2017</td>\n",
       "      <td>1940.000000</td>\n",
       "    </tr>\n",
       "    <tr>\n",
       "      <th>3</th>\n",
       "      <td>473682.5</td>\n",
       "      <td>2.5</td>\n",
       "      <td>0.5</td>\n",
       "      <td>473682.500000</td>\n",
       "      <td>947365.0</td>\n",
       "      <td>2</td>\n",
       "      <td>2</td>\n",
       "      <td>0</td>\n",
       "      <td>2073</td>\n",
       "      <td>3</td>\n",
       "      <td>2018</td>\n",
       "      <td>3962.000000</td>\n",
       "    </tr>\n",
       "    <tr>\n",
       "      <th>4</th>\n",
       "      <td>14394.0</td>\n",
       "      <td>2.0</td>\n",
       "      <td>1.0</td>\n",
       "      <td>14394.000000</td>\n",
       "      <td>14394.0</td>\n",
       "      <td>1</td>\n",
       "      <td>1</td>\n",
       "      <td>0</td>\n",
       "      <td>2519</td>\n",
       "      <td>1</td>\n",
       "      <td>2017</td>\n",
       "      <td>427.000000</td>\n",
       "    </tr>\n",
       "    <tr>\n",
       "      <th>...</th>\n",
       "      <td>...</td>\n",
       "      <td>...</td>\n",
       "      <td>...</td>\n",
       "      <td>...</td>\n",
       "      <td>...</td>\n",
       "      <td>...</td>\n",
       "      <td>...</td>\n",
       "      <td>...</td>\n",
       "      <td>...</td>\n",
       "      <td>...</td>\n",
       "      <td>...</td>\n",
       "      <td>...</td>\n",
       "    </tr>\n",
       "    <tr>\n",
       "      <th>109756</th>\n",
       "      <td>3892.0</td>\n",
       "      <td>1.0</td>\n",
       "      <td>0.0</td>\n",
       "      <td>3892.000000</td>\n",
       "      <td>3892.0</td>\n",
       "      <td>1</td>\n",
       "      <td>1</td>\n",
       "      <td>0</td>\n",
       "      <td>1984</td>\n",
       "      <td>7</td>\n",
       "      <td>2018</td>\n",
       "      <td>4458.000000</td>\n",
       "    </tr>\n",
       "    <tr>\n",
       "      <th>109757</th>\n",
       "      <td>6714.0</td>\n",
       "      <td>2.0</td>\n",
       "      <td>1.0</td>\n",
       "      <td>6714.000000</td>\n",
       "      <td>6714.0</td>\n",
       "      <td>1</td>\n",
       "      <td>1</td>\n",
       "      <td>0</td>\n",
       "      <td>2171</td>\n",
       "      <td>1</td>\n",
       "      <td>2018</td>\n",
       "      <td>14.000000</td>\n",
       "    </tr>\n",
       "    <tr>\n",
       "      <th>109758</th>\n",
       "      <td>8495.0</td>\n",
       "      <td>2.0</td>\n",
       "      <td>1.0</td>\n",
       "      <td>8495.000000</td>\n",
       "      <td>8495.0</td>\n",
       "      <td>1</td>\n",
       "      <td>1</td>\n",
       "      <td>0</td>\n",
       "      <td>2369</td>\n",
       "      <td>6</td>\n",
       "      <td>2017</td>\n",
       "      <td>584.000000</td>\n",
       "    </tr>\n",
       "    <tr>\n",
       "      <th>109759</th>\n",
       "      <td>1785.0</td>\n",
       "      <td>2.0</td>\n",
       "      <td>1.0</td>\n",
       "      <td>1785.000000</td>\n",
       "      <td>1785.0</td>\n",
       "      <td>1</td>\n",
       "      <td>1</td>\n",
       "      <td>0</td>\n",
       "      <td>2311</td>\n",
       "      <td>8</td>\n",
       "      <td>2017</td>\n",
       "      <td>113.000000</td>\n",
       "    </tr>\n",
       "    <tr>\n",
       "      <th>109760</th>\n",
       "      <td>44666.9</td>\n",
       "      <td>3.0</td>\n",
       "      <td>1.0</td>\n",
       "      <td>47157.062500</td>\n",
       "      <td>446669.0</td>\n",
       "      <td>10</td>\n",
       "      <td>9</td>\n",
       "      <td>1</td>\n",
       "      <td>2278</td>\n",
       "      <td>8</td>\n",
       "      <td>2017</td>\n",
       "      <td>1888.500000</td>\n",
       "    </tr>\n",
       "  </tbody>\n",
       "</table>\n",
       "<p>109761 rows × 12 columns</p>\n",
       "</div>"
      ],
      "text/plain": [
       "        duration_avg  fav_timeofday  fav_filmera  duration_perday_avg  \\\n",
       "0             3470.0            2.0          0.0          3989.395833   \n",
       "1            19327.0            3.0          1.0         17198.333333   \n",
       "2            83625.0            2.0          1.0         83625.000000   \n",
       "3           473682.5            2.5          0.5        473682.500000   \n",
       "4            14394.0            2.0          1.0         14394.000000   \n",
       "...              ...            ...          ...                  ...   \n",
       "109756        3892.0            1.0          0.0          3892.000000   \n",
       "109757        6714.0            2.0          1.0          6714.000000   \n",
       "109758        8495.0            2.0          1.0          8495.000000   \n",
       "109759        1785.0            2.0          1.0          1785.000000   \n",
       "109760       44666.9            3.0          1.0         47157.062500   \n",
       "\n",
       "        duration_sum  n_times_movies  n_movies  n_rewatched  inactivity  \\\n",
       "0            48580.0              14         9            5        2364   \n",
       "1            77308.0               4         1            3        1811   \n",
       "2            83625.0               1         1            0        2415   \n",
       "3           947365.0               2         2            0        2073   \n",
       "4            14394.0               1         1            0        2519   \n",
       "...              ...             ...       ...          ...         ...   \n",
       "109756        3892.0               1         1            0        1984   \n",
       "109757        6714.0               1         1            0        2171   \n",
       "109758        8495.0               1         1            0        2369   \n",
       "109759        1785.0               1         1            0        2311   \n",
       "109760      446669.0              10         9            1        2278   \n",
       "\n",
       "        fav_month  fav_year  time_elapsed  \n",
       "0               6      2017   4276.285714  \n",
       "1              12      2018      2.750000  \n",
       "2               5      2017   1940.000000  \n",
       "3               3      2018   3962.000000  \n",
       "4               1      2017    427.000000  \n",
       "...           ...       ...           ...  \n",
       "109756          7      2018   4458.000000  \n",
       "109757          1      2018     14.000000  \n",
       "109758          6      2017    584.000000  \n",
       "109759          8      2017    113.000000  \n",
       "109760          8      2017   1888.500000  \n",
       "\n",
       "[109761 rows x 12 columns]"
      ]
     },
     "execution_count": 54,
     "metadata": {},
     "output_type": "execute_result"
    }
   ],
   "source": [
    "columns_to_remove = [0,1,3,11,12]\n",
    "# we create a new dataset we 12 columns on which we will apply pca\n",
    "df2= df.drop(df.columns[columns_to_remove], axis=1)\n",
    "df2\n",
    "#df2.to_csv(r\"C:\\Users\\HP_User\\Desktop\\hw4adm\\df2.csv\", index=False)"
   ]
  },
  {
   "cell_type": "code",
   "execution_count": 55,
   "id": "6de7fdb8",
   "metadata": {},
   "outputs": [
    {
     "data": {
      "text/html": [
       "<div>\n",
       "<style scoped>\n",
       "    .dataframe tbody tr th:only-of-type {\n",
       "        vertical-align: middle;\n",
       "    }\n",
       "\n",
       "    .dataframe tbody tr th {\n",
       "        vertical-align: top;\n",
       "    }\n",
       "\n",
       "    .dataframe thead th {\n",
       "        text-align: right;\n",
       "    }\n",
       "</style>\n",
       "<table border=\"1\" class=\"dataframe\">\n",
       "  <thead>\n",
       "    <tr style=\"text-align: right;\">\n",
       "      <th></th>\n",
       "      <th>duration_avg</th>\n",
       "      <th>fav_timeofday</th>\n",
       "      <th>fav_filmera</th>\n",
       "      <th>duration_perday_avg</th>\n",
       "      <th>duration_sum</th>\n",
       "      <th>n_times_movies</th>\n",
       "      <th>n_movies</th>\n",
       "      <th>n_rewatched</th>\n",
       "      <th>inactivity</th>\n",
       "      <th>fav_month</th>\n",
       "      <th>fav_year</th>\n",
       "      <th>time_elapsed</th>\n",
       "    </tr>\n",
       "  </thead>\n",
       "  <tbody>\n",
       "    <tr>\n",
       "      <th>0</th>\n",
       "      <td>-0.357421</td>\n",
       "      <td>-0.551045</td>\n",
       "      <td>-1.994158</td>\n",
       "      <td>-0.361123</td>\n",
       "      <td>-0.358354</td>\n",
       "      <td>1.903278</td>\n",
       "      <td>1.738114</td>\n",
       "      <td>1.603334</td>\n",
       "      <td>1.213296</td>\n",
       "      <td>0.012242</td>\n",
       "      <td>-1.153643</td>\n",
       "      <td>0.856193</td>\n",
       "    </tr>\n",
       "    <tr>\n",
       "      <th>1</th>\n",
       "      <td>-0.293376</td>\n",
       "      <td>1.032704</td>\n",
       "      <td>0.546851</td>\n",
       "      <td>-0.308136</td>\n",
       "      <td>-0.292485</td>\n",
       "      <td>0.142251</td>\n",
       "      <td>-0.428552</td>\n",
       "      <td>0.872906</td>\n",
       "      <td>-0.964451</td>\n",
       "      <td>1.776403</td>\n",
       "      <td>0.178943</td>\n",
       "      <td>-0.830455</td>\n",
       "    </tr>\n",
       "    <tr>\n",
       "      <th>2</th>\n",
       "      <td>-0.033684</td>\n",
       "      <td>-0.551045</td>\n",
       "      <td>0.546851</td>\n",
       "      <td>-0.041669</td>\n",
       "      <td>-0.278001</td>\n",
       "      <td>-0.386057</td>\n",
       "      <td>-0.428552</td>\n",
       "      <td>-0.222737</td>\n",
       "      <td>1.414137</td>\n",
       "      <td>-0.281785</td>\n",
       "      <td>-1.153643</td>\n",
       "      <td>-0.065876</td>\n",
       "    </tr>\n",
       "    <tr>\n",
       "      <th>3</th>\n",
       "      <td>1.541714</td>\n",
       "      <td>0.240829</td>\n",
       "      <td>-0.723653</td>\n",
       "      <td>1.523025</td>\n",
       "      <td>1.702408</td>\n",
       "      <td>-0.209954</td>\n",
       "      <td>-0.157719</td>\n",
       "      <td>-0.222737</td>\n",
       "      <td>0.067321</td>\n",
       "      <td>-0.869838</td>\n",
       "      <td>0.178943</td>\n",
       "      <td>0.732153</td>\n",
       "    </tr>\n",
       "    <tr>\n",
       "      <th>4</th>\n",
       "      <td>-0.313300</td>\n",
       "      <td>-0.551045</td>\n",
       "      <td>0.546851</td>\n",
       "      <td>-0.319385</td>\n",
       "      <td>-0.436736</td>\n",
       "      <td>-0.386057</td>\n",
       "      <td>-0.428552</td>\n",
       "      <td>-0.222737</td>\n",
       "      <td>1.823695</td>\n",
       "      <td>-1.457892</td>\n",
       "      <td>-1.153643</td>\n",
       "      <td>-0.663015</td>\n",
       "    </tr>\n",
       "  </tbody>\n",
       "</table>\n",
       "</div>"
      ],
      "text/plain": [
       "   duration_avg  fav_timeofday  fav_filmera  duration_perday_avg  \\\n",
       "0     -0.357421      -0.551045    -1.994158            -0.361123   \n",
       "1     -0.293376       1.032704     0.546851            -0.308136   \n",
       "2     -0.033684      -0.551045     0.546851            -0.041669   \n",
       "3      1.541714       0.240829    -0.723653             1.523025   \n",
       "4     -0.313300      -0.551045     0.546851            -0.319385   \n",
       "\n",
       "   duration_sum  n_times_movies  n_movies  n_rewatched  inactivity  fav_month  \\\n",
       "0     -0.358354        1.903278  1.738114     1.603334    1.213296   0.012242   \n",
       "1     -0.292485        0.142251 -0.428552     0.872906   -0.964451   1.776403   \n",
       "2     -0.278001       -0.386057 -0.428552    -0.222737    1.414137  -0.281785   \n",
       "3      1.702408       -0.209954 -0.157719    -0.222737    0.067321  -0.869838   \n",
       "4     -0.436736       -0.386057 -0.428552    -0.222737    1.823695  -1.457892   \n",
       "\n",
       "   fav_year  time_elapsed  \n",
       "0 -1.153643      0.856193  \n",
       "1  0.178943     -0.830455  \n",
       "2 -1.153643     -0.065876  \n",
       "3  0.178943      0.732153  \n",
       "4 -1.153643     -0.663015  "
      ]
     },
     "execution_count": 55,
     "metadata": {},
     "output_type": "execute_result"
    }
   ],
   "source": [
    "scaler = StandardScaler()\n",
    "#we normalize the data so that the principal component analysis will be made in a better way and won't be affected by unit of measure\n",
    "df_normalized = pd.DataFrame(scaler.fit_transform(df2), columns=df2.columns)\n",
    "df_normalized.head()"
   ]
  },
  {
   "cell_type": "markdown",
   "id": "08153eaa",
   "metadata": {},
   "source": [
    "#### 2. Select **one** method for dimensionality reduction and apply it to your data. Some suggestions are Principal Component Analysis, Multiple Correspondence Analysis, Singular Value Decomposition, Factor Analysis for Mixed Data, Two-Steps clustering. Make sure that the method you choose applies to the features you have or modify your data to be able to use it. Explain why you chose that method and the limitations it may have."
   ]
  },
  {
   "cell_type": "markdown",
   "id": "41d05c72",
   "metadata": {},
   "source": [
    "We choose the method of Principal Component Analysis to reduce the dimensionality of our data and we have already modified our data to apply PCA.We choose Principal Component Analysis (PCA) as dimensionality reduction technique because is helfpul for:\n",
    "\n",
    "1. **Dimensionality Reduction:**\n",
    "\n",
    "   - PCA reduces the number of features (variables) in a dataset while retaining as much of the original information as possible.\n",
    "   - It achieves this by transforming the data into a new set of uncorrelated variables called principal components making it easier to analyze and visualize complex datasets.\n",
    "\n",
    "\n",
    "2. **Decorrelation:**\n",
    "\n",
    "   - Principal components are orthogonal (uncorrelated), meaning they capture different aspects of the variation in the data. This simplifies the interpretation of the relationships among variables.\n",
    "\n",
    "3. **Variance Maximization:**\n",
    "\n",
    "   - The first few principal components capture the maximum variance in the data. By focusing on these components, one can retain the most significant information in the dataset.\n",
    "\n",
    "\n",
    "4. **Data Visualization:**\n",
    "\n",
    "   - PCA facilitates the visualization of high-dimensional data by representing it in a lower-dimensional space. This aids in identifying patterns and structures that may not be apparent in the original data."
   ]
  },
  {
   "cell_type": "markdown",
   "id": "eb93ff1b",
   "metadata": {},
   "source": [
    "##### **Limitations of PCA**"
   ]
  },
  {
   "cell_type": "markdown",
   "id": "d1e5d38b",
   "metadata": {},
   "source": [
    "While PCA is a powerful method, it has certain limitations that should be considered:\n",
    "\n",
    "\n",
    "1. **Sensitive to Outliers:**\n",
    "\n",
    "   - PCA is sensitive to outliers, as they can disproportionately influence the principal components. Outliers can lead to skewed results and may not accurately represent the true structure of the data.\n",
    "\n",
    "2. **Difficulty Handling Categorical Data:**\n",
    "\n",
    "   - PCA is designed for continuous numerical data and may not be directly applicable to categorical variables. \n",
    "\n",
    "3. **Data Scaling Sensitivity:**\n",
    "\n",
    "   - PCA is sensitive to the scale of the variables. It's essential to normalize or standardize the data before applying PCA to ensure that variables with larger scales do not dominate the analysis.\n",
    "\n",
    "But to prevent this 3 problems we have standardized the data so we don't have outliers and we don't have a problem of scale and we also converted the categorical variables in  a proper way.\n",
    "\n",
    "4. **Linearity Assumption:**\n",
    "\n",
    "   - PCA assumes that the relationships among variables are linear. If the underlying relationships are nonlinear, PCA may not effectively capture the data's structure.\n",
    "   \n",
    "5. **Loss of Interpretability:**\n",
    "\n",
    "   - While PCA provides a compact representation of the data, the resulting principal components may lack clear interpretability in terms of the original variables. This can make it challenging to relate the components back to the real-world meaning of the features"
   ]
  },
  {
   "cell_type": "code",
   "execution_count": 56,
   "id": "d5566c83",
   "metadata": {},
   "outputs": [],
   "source": [
    "#Since we can't use the function PCA if we have Nan we replace them with the mean\n",
    "imputer = SimpleImputer(strategy='mean')  \n",
    "df_no_missing = pd.DataFrame(imputer.fit_transform(df_normalized), columns=df_normalized.columns)\n",
    "\n",
    "# we compute the pca with the maximum of the component equals to the number of the variables\n",
    "pca12 = PCA(n_components=12)\n",
    "principalComponents12 = pca12.fit_transform(df_no_missing)\n",
    "principalDf12 = pd.DataFrame(data=principalComponents12, columns=['PC1', 'PC2', 'PC3', 'PC4', 'PC5','PC6','PC7','PC8','PC9','PC10','PC11','PC12'])"
   ]
  },
  {
   "cell_type": "code",
   "execution_count": 57,
   "id": "4839791a",
   "metadata": {},
   "outputs": [
    {
     "data": {
      "image/png": "[encoded data removed]",
      "text/plain": [
       "<Figure size 640x480 with 1 Axes>"
      ]
     },
     "metadata": {},
     "output_type": "display_data"
    }
   ],
   "source": [
    "exp_var_pca = pca12.explained_variance_ratio_\n",
    "cum_sum_eigenvalues = np.cumsum(exp_var_pca)\n",
    "plt.bar(range(0,len(exp_var_pca)), exp_var_pca, alpha=0.5, align='center', label='Individual explained variance')\n",
    "plt.step(range(0,len(cum_sum_eigenvalues)), cum_sum_eigenvalues, where='mid',label='Cumulative explained variance')\n",
    "plt.ylabel('Explained variance ratio')\n",
    "plt.xlabel('Principal component index')\n",
    "plt.axhline(y=0.70, color='grey', linestyle='--')\n",
    "plt.legend(loc='best')\n",
    "plt.tight_layout()\n",
    "plt.show()"
   ]
  },
  {
   "cell_type": "code",
   "execution_count": 58,
   "id": "ecc6f51f",
   "metadata": {},
   "outputs": [
    {
     "data": {
      "text/html": [
       "<div>\n",
       "<style scoped>\n",
       "    .dataframe tbody tr th:only-of-type {\n",
       "        vertical-align: middle;\n",
       "    }\n",
       "\n",
       "    .dataframe tbody tr th {\n",
       "        vertical-align: top;\n",
       "    }\n",
       "\n",
       "    .dataframe thead th {\n",
       "        text-align: right;\n",
       "    }\n",
       "</style>\n",
       "<table border=\"1\" class=\"dataframe\">\n",
       "  <thead>\n",
       "    <tr style=\"text-align: right;\">\n",
       "      <th></th>\n",
       "      <th>0</th>\n",
       "      <th>1</th>\n",
       "      <th>2</th>\n",
       "      <th>3</th>\n",
       "      <th>4</th>\n",
       "      <th>5</th>\n",
       "      <th>6</th>\n",
       "      <th>7</th>\n",
       "      <th>8</th>\n",
       "      <th>9</th>\n",
       "      <th>10</th>\n",
       "      <th>11</th>\n",
       "    </tr>\n",
       "  </thead>\n",
       "  <tbody>\n",
       "    <tr>\n",
       "      <th>0</th>\n",
       "      <td>0.230872</td>\n",
       "      <td>0.441343</td>\n",
       "      <td>0.610782</td>\n",
       "      <td>0.751176</td>\n",
       "      <td>0.836822</td>\n",
       "      <td>0.918182</td>\n",
       "      <td>0.958817</td>\n",
       "      <td>0.980318</td>\n",
       "      <td>0.999639</td>\n",
       "      <td>0.999873</td>\n",
       "      <td>1.0</td>\n",
       "      <td>1.0</td>\n",
       "    </tr>\n",
       "  </tbody>\n",
       "</table>\n",
       "</div>"
      ],
      "text/plain": [
       "         0         1         2         3         4         5         6   \\\n",
       "0  0.230872  0.441343  0.610782  0.751176  0.836822  0.918182  0.958817   \n",
       "\n",
       "         7         8         9    10   11  \n",
       "0  0.980318  0.999639  0.999873  1.0  1.0  "
      ]
     },
     "execution_count": 58,
     "metadata": {},
     "output_type": "execute_result"
    }
   ],
   "source": [
    "np.set_printoptions(formatter={'float_kind': '{:f}'.format})\n",
    "\n",
    "# Create DataFrame with cumulative sum of explained variance ratios\n",
    "cumulative_explained_variance = np.cumsum(pca12.explained_variance_ratio_)\n",
    "cumulative_explained_variance_df = pd.DataFrame(cumulative_explained_variance).T\n",
    "cumulative_explained_variance_df"
   ]
  },
  {
   "cell_type": "markdown",
   "id": "3e8003ed",
   "metadata": {},
   "source": [
    "The total explained variance with 4 components is 75.1176%, an high level of information, that allows us to reduce the dimensionality from 12 to 4;\n",
    "Choosing 5 or more principal components is not appropriate since 4 components are enough to tell the information well, and choosing 5 principal components brings an increase in information of 8.5647% (and by increasing the number of components the increase is vanishingly small) while moving away from our goal of dimensionality reduction; so for these reason we choose to use 4 as number of components."
   ]
  },
  {
   "cell_type": "code",
   "execution_count": 59,
   "id": "4408f03a",
   "metadata": {},
   "outputs": [
    {
     "data": {
      "text/html": [
       "<div>\n",
       "<style scoped>\n",
       "    .dataframe tbody tr th:only-of-type {\n",
       "        vertical-align: middle;\n",
       "    }\n",
       "\n",
       "    .dataframe tbody tr th {\n",
       "        vertical-align: top;\n",
       "    }\n",
       "\n",
       "    .dataframe thead th {\n",
       "        text-align: right;\n",
       "    }\n",
       "</style>\n",
       "<table border=\"1\" class=\"dataframe\">\n",
       "  <thead>\n",
       "    <tr style=\"text-align: right;\">\n",
       "      <th></th>\n",
       "      <th>PC1</th>\n",
       "      <th>PC2</th>\n",
       "      <th>PC3</th>\n",
       "      <th>PC4</th>\n",
       "    </tr>\n",
       "  </thead>\n",
       "  <tbody>\n",
       "    <tr>\n",
       "      <th>0</th>\n",
       "      <td>1.734473</td>\n",
       "      <td>2.424992</td>\n",
       "      <td>-2.051077</td>\n",
       "      <td>1.583022</td>\n",
       "    </tr>\n",
       "    <tr>\n",
       "      <th>1</th>\n",
       "      <td>-0.137552</td>\n",
       "      <td>0.636120</td>\n",
       "      <td>0.567204</td>\n",
       "      <td>-0.700009</td>\n",
       "    </tr>\n",
       "    <tr>\n",
       "      <th>2</th>\n",
       "      <td>-0.506598</td>\n",
       "      <td>-0.216392</td>\n",
       "      <td>-1.473276</td>\n",
       "      <td>-0.982193</td>\n",
       "    </tr>\n",
       "    <tr>\n",
       "      <th>3</th>\n",
       "      <td>1.663120</td>\n",
       "      <td>-2.252214</td>\n",
       "      <td>0.004477</td>\n",
       "      <td>0.987111</td>\n",
       "    </tr>\n",
       "    <tr>\n",
       "      <th>4</th>\n",
       "      <td>-0.763070</td>\n",
       "      <td>0.083894</td>\n",
       "      <td>-1.315145</td>\n",
       "      <td>-1.412428</td>\n",
       "    </tr>\n",
       "  </tbody>\n",
       "</table>\n",
       "</div>"
      ],
      "text/plain": [
       "        PC1       PC2       PC3       PC4\n",
       "0  1.734473  2.424992 -2.051077  1.583022\n",
       "1 -0.137552  0.636120  0.567204 -0.700009\n",
       "2 -0.506598 -0.216392 -1.473276 -0.982193\n",
       "3  1.663120 -2.252214  0.004477  0.987111\n",
       "4 -0.763070  0.083894 -1.315145 -1.412428"
      ]
     },
     "execution_count": 59,
     "metadata": {},
     "output_type": "execute_result"
    }
   ],
   "source": [
    "pca4 = PCA(n_components=4)\n",
    "principalComponents = pca4.fit_transform(df_no_missing)\n",
    "principalDf = pd.DataFrame(data = principalComponents\n",
    "             , columns = ['PC1', 'PC2', 'PC3', 'PC4'])\n",
    "principalDf.head()"
   ]
  },
  {
   "cell_type": "markdown",
   "id": "fe0ab779",
   "metadata": {},
   "source": [
    "### 2.3 Clustering!"
   ]
  },
  {
   "cell_type": "markdown",
   "id": "5ae518af",
   "metadata": {},
   "source": [
    "#### 2.3.1. Implement the K-means clustering algorithm (not ++: random initialization) using MapReduce. We ask you to write the algorithm from scratch following what you learned in class."
   ]
  },
  {
   "cell_type": "code",
   "execution_count": 26,
   "id": "649b186e",
   "metadata": {},
   "outputs": [],
   "source": [
    "from pyspark.sql import SparkSession\n",
    "from pyspark import SparkContext\n",
    "from random import sample\n",
    "import numpy as np\n",
    "from sklearn import metrics\n",
    "from sklearn.cluster import KMeans\n",
    "from sklearn.metrics import silhouette_score, calinski_harabasz_score\n",
    "from kneed import KneeLocator\n",
    "import matplotlib.pyplot as plt\n",
    "import pandas as pd\n",
    "import warnings\n",
    "warnings.filterwarnings('ignore')"
   ]
  },
  {
   "cell_type": "code",
   "execution_count": 27,
   "id": "80dbe864",
   "metadata": {},
   "outputs": [
    {
     "data": {
      "text/html": [
       "<div>\n",
       "<style scoped>\n",
       "    .dataframe tbody tr th:only-of-type {\n",
       "        vertical-align: middle;\n",
       "    }\n",
       "\n",
       "    .dataframe tbody tr th {\n",
       "        vertical-align: top;\n",
       "    }\n",
       "\n",
       "    .dataframe thead th {\n",
       "        text-align: right;\n",
       "    }\n",
       "</style>\n",
       "<table border=\"1\" class=\"dataframe\">\n",
       "  <thead>\n",
       "    <tr style=\"text-align: right;\">\n",
       "      <th></th>\n",
       "      <th>PC1</th>\n",
       "      <th>PC2</th>\n",
       "      <th>PC3</th>\n",
       "      <th>PC4</th>\n",
       "    </tr>\n",
       "  </thead>\n",
       "  <tbody>\n",
       "    <tr>\n",
       "      <th>0</th>\n",
       "      <td>1.734507</td>\n",
       "      <td>2.424997</td>\n",
       "      <td>-2.052931</td>\n",
       "      <td>1.582426</td>\n",
       "    </tr>\n",
       "    <tr>\n",
       "      <th>1</th>\n",
       "      <td>-0.137441</td>\n",
       "      <td>0.636176</td>\n",
       "      <td>0.565408</td>\n",
       "      <td>-0.700611</td>\n",
       "    </tr>\n",
       "    <tr>\n",
       "      <th>2</th>\n",
       "      <td>-0.506555</td>\n",
       "      <td>-0.216396</td>\n",
       "      <td>-1.475043</td>\n",
       "      <td>-0.982773</td>\n",
       "    </tr>\n",
       "    <tr>\n",
       "      <th>3</th>\n",
       "      <td>1.663221</td>\n",
       "      <td>-2.252168</td>\n",
       "      <td>0.002717</td>\n",
       "      <td>0.986513</td>\n",
       "    </tr>\n",
       "    <tr>\n",
       "      <th>4</th>\n",
       "      <td>-0.763159</td>\n",
       "      <td>0.083833</td>\n",
       "      <td>-1.314464</td>\n",
       "      <td>-1.412189</td>\n",
       "    </tr>\n",
       "  </tbody>\n",
       "</table>\n",
       "</div>"
      ],
      "text/plain": [
       "        PC1       PC2       PC3       PC4\n",
       "0  1.734507  2.424997 -2.052931  1.582426\n",
       "1 -0.137441  0.636176  0.565408 -0.700611\n",
       "2 -0.506555 -0.216396 -1.475043 -0.982773\n",
       "3  1.663221 -2.252168  0.002717  0.986513\n",
       "4 -0.763159  0.083833 -1.314464 -1.412189"
      ]
     },
     "execution_count": 27,
     "metadata": {},
     "output_type": "execute_result"
    }
   ],
   "source": [
    "#Load dataset\n",
    "df_reduced = pd.read_csv('acp.csv')\n",
    "df_reduced.head()"
   ]
  },
  {
   "cell_type": "code",
   "execution_count": null,
   "id": "68e84bfb",
   "metadata": {},
   "outputs": [
    {
     "name": "stderr",
     "output_type": "stream",
     "text": [
      "Setting default log level to \"WARN\".\n",
      "To adjust logging level use sc.setLogLevel(newLevel). For SparkR, use setLogLevel(newLevel).\n",
      "23/12/17 17:53:42 WARN NativeCodeLoader: Unable to load native-hadoop library for your platform... using builtin-java classes where applicable\n"
     ]
    }
   ],
   "source": [
    "#Build point of dataset\n",
    "df_points = [tuple([round(x,2) for x in r]) for r in df_reduced.to_numpy()]\n",
    "\n",
    "#Start and set Spark session\n",
    "spark = SparkSession.builder.master(\"local\").appName('Kmeans').getOrCreate()\n",
    "sparkcontext = SparkContext.getOrCreate()\n",
    "rdd = sparkcontext.parallelize(df_points)\n",
    "#Repartition of data (100)\n",
    "rdd = rdd.repartition(100)\n",
    "\n",
    "# Reduce function\n",
    "def reduce_f(x): \n",
    "    return (np.mean(list(x), axis=0).tolist(), x)\n",
    "\n",
    "def kmeans_pyspark(rdd, reduce_f, k, points, max_iters=50):\n",
    "\n",
    "    # Initialize centroids: randomly select k points\n",
    "    centroids = sample(points, k)\n",
    "\n",
    "    # Run MapReduce\n",
    "    for i in range(max_iters):\n",
    "\n",
    "        # Map: associate each point to the closest centroid\n",
    "        map = rdd.map(lambda x: (centroids[np.argmin([np.sum((np.array(x)-np.array(c))**2) for c in centroids])], x))\n",
    "\n",
    "        # Reduce: find new centroid for each cluster\n",
    "        reduce = map.groupByKey().mapValues(reduce_f).values().collect()\n",
    "\n",
    "        centroids = [tuple(x[0]) for x in reduce]\n",
    "        clusters = [list(x[1]) for x in reduce]\n",
    "\n",
    "    return centroids, clusters"
   ]
  },
  {
   "cell_type": "markdown",
   "id": "1135c753",
   "metadata": {},
   "source": [
    "#### 2.3.2. Find an optimal number of clusters. Use at least two different methods. If your algorithms provide diverse optimal K's, select one of them and explain why you chose it."
   ]
  },
  {
   "cell_type": "markdown",
   "id": "4978d478",
   "metadata": {},
   "source": [
    "In order to use K-means, it is necessary to find the natural number  of clusters of the data being examined. To do this there are several methods, some of the commonly used are:\n",
    "- The Elbow Method, \n",
    "- The Silhouette Method\n",
    "- The Calinski-Harabasz Index."
   ]
  },
  {
   "cell_type": "markdown",
   "id": "55de4ee4",
   "metadata": {},
   "source": [
    "##### 1. Elbow Method"
   ]
  },
  {
   "cell_type": "code",
   "execution_count": 29,
   "id": "594efd87",
   "metadata": {},
   "outputs": [],
   "source": [
    "#Initialize Sum of Squared Error 'SSE' list\n",
    "SSE = []\n",
    "\n",
    "for k in range(1, 9):\n",
    "    #We use KMeans function from 'sklearn' library\n",
    "    kmeans = KMeans(n_clusters=k, init='random', max_iter=300, random_state=42)\n",
    "    kmeans.fit(df_reduced)\n",
    "    #We store SSE in its list\n",
    "    SSE.append(kmeans.inertia_)"
   ]
  },
  {
   "cell_type": "code",
   "execution_count": 30,
   "id": "e172eb30",
   "metadata": {},
   "outputs": [
    {
     "data": {
      "image/png": "[encoded data removed]",
      "text/plain": [
       "<Figure size 640x480 with 1 Axes>"
      ]
     },
     "metadata": {},
     "output_type": "display_data"
    }
   ],
   "source": [
    "#Plot Elbow Method for different 'k'\n",
    "plt.plot(range(1, 9), SSE)\n",
    "plt.scatter(5,SSE[4], marker='o', facecolors='none', edgecolors='r',s=1000, linewidth=5)\n",
    "plt.title(\"Elbow Method\")\n",
    "plt.xlabel(\"Number of Clusters\")\n",
    "plt.ylabel(\"SSE\")\n",
    "plt.show()"
   ]
  },
  {
   "cell_type": "code",
   "execution_count": 31,
   "id": "718ad1b5",
   "metadata": {},
   "outputs": [
    {
     "name": "stdout",
     "output_type": "stream",
     "text": [
      "The perfect 'k' (number of cluster) for Elbow Method is: 5\n"
     ]
    }
   ],
   "source": [
    "#Made another test for the calculation of 'k'\n",
    "kl = KneeLocator(range(1,9), SSE, curve='convex', direction='decreasing')\n",
    "print(\"The perfect 'k' (number of cluster) for Elbow Method is: %i\" %kl.elbow)"
   ]
  },
  {
   "cell_type": "markdown",
   "id": "424d0436",
   "metadata": {},
   "source": [
    "##### 2. Silhouette Method"
   ]
  },
  {
   "cell_type": "code",
   "execution_count": 32,
   "id": "118dd4a8",
   "metadata": {},
   "outputs": [],
   "source": [
    "#Initialize Silhouette Score 'sil_score' list\n",
    "sil_score = []\n",
    "\n",
    "for k in range(2, 9):\n",
    "    #We use KMeans function from 'sklearn' library\n",
    "    kmeans = KMeans(n_clusters=k, init='random', max_iter=300, random_state=42)\n",
    "    kmeans.fit(df_reduced)\n",
    "    #We store Sil. Score in its list\n",
    "    sil_avg = silhouette_score(df_reduced, kmeans.labels_)\n",
    "    sil_score.append(sil_avg)"
   ]
  },
  {
   "cell_type": "code",
   "execution_count": 33,
   "id": "f534c3d0",
   "metadata": {},
   "outputs": [
    {
     "data": {
      "image/png": "[encoded data removed]",
      "text/plain": [
       "<Figure size 640x480 with 1 Axes>"
      ]
     },
     "metadata": {},
     "output_type": "display_data"
    }
   ],
   "source": [
    "#Plot Silhouette Method for different 'k'\n",
    "plt.plot(range(2, 9), sil_score)\n",
    "plt.scatter(8,sil_score[6], marker='o', facecolors='none', edgecolors='r',s=1000, linewidth=5)\n",
    "plt.title(\"Silhouette Method\")\n",
    "plt.xlabel(\"Number of Clusters\")\n",
    "plt.ylabel(\"Silhouette Coefficient\")\n",
    "plt.show()"
   ]
  },
  {
   "cell_type": "markdown",
   "id": "41832886",
   "metadata": {},
   "source": [
    "##### 3. Calinski-Harabasz Index"
   ]
  },
  {
   "cell_type": "code",
   "execution_count": 34,
   "id": "5ea0f333",
   "metadata": {},
   "outputs": [],
   "source": [
    "#Initialize Calinski-Harabasz 'CH' Index list\n",
    "CH = []\n",
    "\n",
    "for k in range(2, 9):\n",
    "    #We use KMeans function from 'sklearn' library\n",
    "    kmeans = KMeans(n_clusters=k, init='random', max_iter=300, random_state=42)\n",
    "    labels = kmeans.fit_predict(df_reduced)  \n",
    "    #We store Calinski-Harabasz score in its list\n",
    "    CH.append(metrics.calinski_harabasz_score(df_reduced, np.array(labels)))"
   ]
  },
  {
   "cell_type": "code",
   "execution_count": 35,
   "id": "5017f483",
   "metadata": {},
   "outputs": [
    {
     "data": {
      "image/png": "[encoded data removed]",
      "text/plain": [
       "<Figure size 640x480 with 1 Axes>"
      ]
     },
     "metadata": {},
     "output_type": "display_data"
    }
   ],
   "source": [
    "#Plot Calinski-Harabasz Index for different 'k'\n",
    "plt.plot(range(2, 9), CH)\n",
    "plt.scatter(5,CH[3], marker='o', facecolors='none', edgecolors='r',s=1000, linewidth=5)\n",
    "plt.title(\"Calinski-Harabasz Method\")\n",
    "plt.xlabel(\"Number of Clusters\")\n",
    "plt.ylabel(\"Calinski-Harabasz Coefficient\")\n",
    "plt.show()"
   ]
  },
  {
   "cell_type": "markdown",
   "id": "fee75b7a",
   "metadata": {},
   "source": [
    "##### **Explained Choice**"
   ]
  },
  {
   "cell_type": "markdown",
   "id": "88a870ef",
   "metadata": {},
   "source": [
    "We decided to use the ***Calinski-Harabasz Index*** (in addition to ***Elbow*** and ***Silhouette Method***), because the two initial method were very discordant with each other. \n",
    "</br>\n",
    "\n",
    "In fact, while *Elbow Method* tells us that the optimal number of clusters is equal to *5*, Silhouette Method tells us that the greater the number of clusters, the greater its effectiveness.\n",
    "</br>\n",
    "\n",
    "That is why we brought up the previously mentioned index (*Calinski-Harabasz*), which confirms what the *Elbow Method* said, that the optimal number of clusters within our data is 5, consequently we chose ***k = 5***"
   ]
  },
  {
   "cell_type": "markdown",
   "id": "c088b5aa",
   "metadata": {},
   "source": [
    "#### 2.3.3. Run the algorithm on the data obtained from the dimensionality reduction."
   ]
  },
  {
   "cell_type": "code",
   "execution_count": 37,
   "id": "a89eac58",
   "metadata": {},
   "outputs": [
    {
     "name": "stderr",
     "output_type": "stream",
     "text": [
      "                                                                                \r"
     ]
    }
   ],
   "source": [
    "kmeans_results = {}\n",
    "\n",
    "# Run K-means for different values of k\n",
    "for k in range(3, 6+1):\n",
    "\n",
    "    centroids, clusters = kmeans_pyspark(rdd, reduce_f, k, df_points, 50)\n",
    "\n",
    "    clust_id = {}\n",
    "    for i in range(k):\n",
    "        for point in clusters[i]:\n",
    "            clust_id[point] = i\n",
    "\n",
    "    kmeans_results[k] = {\"centroids\": centroids, \"clusters\": [clust_id[point] for point in df_points]}"
   ]
  },
  {
   "cell_type": "markdown",
   "id": "aabf7361",
   "metadata": {},
   "source": [
    "#### 2.3.4. Implement K-means++ from scratch and explain the differences with the results you got earlier."
   ]
  },
  {
   "cell_type": "code",
   "execution_count": 38,
   "id": "749eb5b2",
   "metadata": {},
   "outputs": [
    {
     "name": "stderr",
     "output_type": "stream",
     "text": [
      "23/12/17 19:05:03 WARN SparkSession: Using an existing Spark session; only runtime SQL configurations will take effect.\n"
     ]
    }
   ],
   "source": [
    "df_points = [tuple([round(x, 2) for x in r]) for r in df_reduced.to_numpy()]\n",
    "\n",
    "spark = SparkSession.builder.master(\"local\").appName('Kmeans++').getOrCreate()\n",
    "sparkcontext = SparkContext.getOrCreate()\n",
    "rdd = sparkcontext.parallelize(df_points)\n",
    "rdd = rdd.repartition(100)\n",
    "\n",
    "def initialize_kmeans_plusplus(points, k):\n",
    "    # Inizializza il primo centroide casualmente\n",
    "    centroids = [points[np.random.randint(len(points))]]\n",
    "\n",
    "    # Seleziona gli altri centroidi utilizzando K-means++\n",
    "    for _ in range(1, k):\n",
    "        distances = np.array([min([np.linalg.norm(np.array(point) - np.array(centroid))**2 for centroid in centroids]) for point in points])\n",
    "        probabilities = distances / sum(distances)\n",
    "        next_centroid_index = np.random.choice(len(points), p=probabilities)\n",
    "        centroids.append(points[next_centroid_index])\n",
    "\n",
    "    return centroids\n",
    "\n",
    "# Reduce function\n",
    "def reduce_f(x): \n",
    "    return (np.mean(list(x), axis=0).tolist(), x)\n",
    "\n",
    "def kmeans_plusplus_pyspark(rdd, reduce_f, k, points, max_iters=50):\n",
    "    # Inizializza i centroidi utilizzando K-means++\n",
    "    centroids = initialize_kmeans_plusplus(points, k)\n",
    "\n",
    "    # Run MapReduce\n",
    "    for i in range(max_iters):\n",
    "        # Map: associate each point to the closest centroid\n",
    "        map_result = rdd.map(lambda x: (centroids[np.argmin([np.sum((np.array(x)-np.array(c))**2) for c in centroids])], x))\n",
    "\n",
    "        # Reduce: find new centroid for each cluster\n",
    "        reduce_result = map_result.groupByKey().mapValues(reduce_f).values().collect()\n",
    "\n",
    "        centroids = [tuple(x[0]) for x in reduce_result]\n",
    "        clusters = [list(x[1]) for x in reduce_result]\n",
    "\n",
    "    return centroids, clusters"
   ]
  },
  {
   "cell_type": "code",
   "execution_count": 36,
   "id": "b1cbf485",
   "metadata": {},
   "outputs": [
    {
     "name": "stderr",
     "output_type": "stream",
     "text": [
      "23/12/17 18:02:47 WARN TaskSetManager: Stage 0 contains a task of very large size (8488 KiB). The maximum recommended task size is 1000 KiB.\n",
      "                                                                                \r"
     ]
    }
   ],
   "source": [
    "#Use our 'K-means' algorithm\n",
    "result_centroids, result_clusters = kmeans_pyspark(rdd, reduce_f, k=5, points=df_points, max_iters=50)"
   ]
  },
  {
   "cell_type": "code",
   "execution_count": 39,
   "id": "5f823561",
   "metadata": {},
   "outputs": [
    {
     "name": "stderr",
     "output_type": "stream",
     "text": [
      "23/12/17 19:05:07 WARN TaskSetManager: Stage 750 contains a task of very large size (8488 KiB). The maximum recommended task size is 1000 KiB.\n",
      "                                                                                \r"
     ]
    }
   ],
   "source": [
    "#Use our 'K-means++' algorithm\n",
    "result_centroids_pp, result_clusters_pp = kmeans_plusplus_pyspark(rdd, reduce_f, k=5, points=df_points, max_iters=50)"
   ]
  },
  {
   "cell_type": "code",
   "execution_count": 40,
   "id": "911fe65b",
   "metadata": {},
   "outputs": [
    {
     "data": {
      "image/png": "[encoded data removed]",
      "text/plain": [
       "<Figure size 1200x500 with 2 Axes>"
      ]
     },
     "metadata": {},
     "output_type": "display_data"
    }
   ],
   "source": [
    "import matplotlib.pyplot as plt\n",
    "\n",
    "def plot_clusters(ax, centroids, clusters, title):\n",
    "    ax.set_title(title)\n",
    "    for i, cluster in enumerate(clusters):\n",
    "        cluster_points = np.array(cluster)\n",
    "        ax.scatter(cluster_points[:, 0], cluster_points[:, 1], label=f'Cluster {i + 1}')\n",
    "    centroid_points = np.array(centroids)\n",
    "    ax.scatter(centroid_points[:, 0], centroid_points[:, 1], marker='X', s=200, c='red', label='Centroids')\n",
    "    ax.legend()\n",
    "\n",
    "# Esegui K-means\n",
    "fig, (ax1, ax2) = plt.subplots(1, 2, figsize=(12, 5))\n",
    "\n",
    "plot_clusters(ax1, result_centroids, result_clusters, 'K-means Clustering: our algorithm')\n",
    "\n",
    "# Esegui K-means++\n",
    "plot_clusters(ax2, result_centroids_pp, result_clusters_pp, 'K-means++ Clustering: our algorithm')\n",
    "\n",
    "plt.show()"
   ]
  },
  {
   "cell_type": "markdown",
   "id": "41aa5302",
   "metadata": {},
   "source": [
    "As we can see, having an initialization of the contraids created differently in our two algorithms, the centroids are slightly different from each other. \n",
    "\n",
    "We then compared the fit of the data on our models, with those of sklearn. They are shown below:"
   ]
  },
  {
   "cell_type": "code",
   "execution_count": 41,
   "id": "26fc39a0",
   "metadata": {},
   "outputs": [
    {
     "data": {
      "image/png": "[encoded data removed]",
      "text/plain": [
       "<Figure size 1200x500 with 2 Axes>"
      ]
     },
     "metadata": {},
     "output_type": "display_data"
    }
   ],
   "source": [
    "import matplotlib.pyplot as plt\n",
    "from sklearn.cluster import KMeans\n",
    "import numpy as np\n",
    "\n",
    "def plot_clusters(ax, centroids, labels, title):\n",
    "    ax.set_title(title)\n",
    "    for i in range(len(centroids)):\n",
    "        cluster_points = df_reduced.iloc[labels == i]\n",
    "        ax.scatter(cluster_points.iloc[:, 0], cluster_points.iloc[:, 1], label=f'Cluster {i + 1}')\n",
    "    ax.scatter(centroids[:, 0], centroids[:, 1], marker='X', s=200, c='red', label='Centroids')\n",
    "    ax.legend()\n",
    "\n",
    "# Esegui K-means\n",
    "kmeans_model = KMeans(n_clusters=5, random_state=42)\n",
    "kmeans_labels = kmeans_model.fit_predict(df_reduced)\n",
    "kmeans_centroids = kmeans_model.cluster_centers_\n",
    "\n",
    "# Esegui K-means++\n",
    "kmeans_pp_model = KMeans(n_clusters=5, init='k-means++', random_state=42)\n",
    "kmeans_pp_labels = kmeans_pp_model.fit_predict(df_reduced)\n",
    "kmeans_pp_centroids = kmeans_pp_model.cluster_centers_\n",
    "\n",
    "# Plot dei risultati\n",
    "fig, (ax1, ax2) = plt.subplots(1, 2, figsize=(12, 5))\n",
    "\n",
    "plot_clusters(ax1, kmeans_centroids, kmeans_labels, \"K-means Clustering: 'sklearn' algorithm\")\n",
    "\n",
    "plot_clusters(ax2, kmeans_pp_centroids, kmeans_pp_labels, \"K-means++ Clustering: 'sklearn' algorithm\")\n",
    "\n",
    "plt.show()"
   ]
  },
  {
   "cell_type": "markdown",
   "id": "b1cf7bfa",
   "metadata": {},
   "source": [
    "Clusters in our algorithms change shape and centroids, unlike these algorithms in *sklearn*"
   ]
  },
  {
   "cell_type": "markdown",
   "id": "b05597fc",
   "metadata": {},
   "source": [
    "#### 2.3.5. Ask ChatGPT to recommend other clustering algorithms and choose one. Explain your choice, then ask ChatGPT to implement it or use already implemented versions (e.g., the one provided in the scikit-learn library) and run it on your data. Explain the differences (if there are any) in the results. Which one is the best, in your opinion, and why?"
   ]
  },
  {
   "cell_type": "code",
   "execution_count": 132,
   "id": "9c7e294f",
   "metadata": {},
   "outputs": [],
   "source": [
    "from sklearn.mixture import GaussianMixture\n",
    "\n",
    "#Gaussian Mixture Algorithm\n",
    "gmm = GaussianMixture(n_components=5)\n",
    "#Fit with our data\n",
    "fitted = gmm.fit(df_reduced)\n",
    "\n",
    "#Labels predict\n",
    "labels = gmm.predict(df_reduced)\n",
    "\n",
    "#Predict Probability\n",
    "probs= gmm.predict_proba(df_reduced)\n",
    "\n",
    "#Means\n",
    "means = gmm.means_"
   ]
  },
  {
   "cell_type": "code",
   "execution_count": 139,
   "id": "d6245f7d",
   "metadata": {},
   "outputs": [
    {
     "data": {
      "image/png": "[encoded data removed]",
      "text/plain": [
       "<Figure size 640x480 with 1 Axes>"
      ]
     },
     "metadata": {},
     "output_type": "display_data"
    }
   ],
   "source": [
    "import matplotlib.pyplot as plt\n",
    "import numpy as np\n",
    "\n",
    "# Assuming df_reduced has 2 features for easy visualization\n",
    "# Replace 'feature1' and 'feature2' with the actual feature names in your DataFrame\n",
    "feature1 = df_reduced.iloc[:, 0]\n",
    "feature2 = df_reduced.iloc[:, 1]\n",
    "\n",
    "# Plot the points\n",
    "plt.scatter(feature1, feature2, c=labels, cmap='viridis', alpha=0.5, label='Data Points')\n",
    "\n",
    "# Plot the centroids\n",
    "plt.scatter(means[:, 0], means[:, 1], c='red', marker='X', s=200, label='Centroids')\n",
    "\n",
    "# Customize the plot\n",
    "plt.title('GMM Clustering')\n",
    "plt.xlabel('Feature 1')\n",
    "plt.ylabel('Feature 2')\n",
    "plt.legend()\n",
    "plt.show()\n"
   ]
  },
  {
   "cell_type": "markdown",
   "id": "59047f08",
   "metadata": {},
   "source": [
    "As we note from the plot, this form of visualization is very close to our implementation of 'K-Means++'. It can be seen from the fact that the centroid in the upper right leads to having a cluster in the upper right. In this case we can notice it by the yellow color, in our implementation of 'K-means++' by the red color\n",
    "</br>\n",
    "\n",
    "Therefore we think that, the 'K-Means' of our implementation, and 'K-Means' and 'K-Means++' of the sklearn library are better than this."
   ]
  },
  {
   "cell_type": "markdown",
   "id": "e9213763",
   "metadata": {},
   "source": [
    "### 2.4 Analysing your results! --\n"
   ]
  },
  {
   "cell_type": "markdown",
   "id": "ffd189e5",
   "metadata": {},
   "source": [
    "#### 2.4.1. Select 2-3 variables you think are relevant to identify the cluster of the customer. For example, Time_Day, Average Click Duration, etc."
   ]
  },
  {
   "cell_type": "markdown",
   "id": "15fc2ccc",
   "metadata": {},
   "source": [
    "We chose 3 variables in our dataset, which in our opinion, may be the most relevant, because represent 3 different aspects of each user's behavior on the platform:\n",
    "\n",
    "- '*fav_filmera*' (Favourite Film Era by each user), \n",
    "- '*duration_avg*' (Average Duration of all watched film by each user), \n",
    "- '*duration_perday_avg*' (Average Duration of all watched film per day by each user)"
   ]
  },
  {
   "cell_type": "code",
   "execution_count": 115,
   "id": "3be20228",
   "metadata": {},
   "outputs": [
    {
     "data": {
      "text/html": [
       "<div>\n",
       "<style scoped>\n",
       "    .dataframe tbody tr th:only-of-type {\n",
       "        vertical-align: middle;\n",
       "    }\n",
       "\n",
       "    .dataframe tbody tr th {\n",
       "        vertical-align: top;\n",
       "    }\n",
       "\n",
       "    .dataframe thead th {\n",
       "        text-align: right;\n",
       "    }\n",
       "</style>\n",
       "<table border=\"1\" class=\"dataframe\">\n",
       "  <thead>\n",
       "    <tr style=\"text-align: right;\">\n",
       "      <th></th>\n",
       "      <th>fav_filmera</th>\n",
       "      <th>duration_avg</th>\n",
       "      <th>duration_sum</th>\n",
       "      <th>fav_timeofday</th>\n",
       "    </tr>\n",
       "  </thead>\n",
       "  <tbody>\n",
       "    <tr>\n",
       "      <th>0</th>\n",
       "      <td>0.0</td>\n",
       "      <td>3470.0</td>\n",
       "      <td>48580.0</td>\n",
       "      <td>2.0</td>\n",
       "    </tr>\n",
       "    <tr>\n",
       "      <th>1</th>\n",
       "      <td>1.0</td>\n",
       "      <td>19327.0</td>\n",
       "      <td>77308.0</td>\n",
       "      <td>3.0</td>\n",
       "    </tr>\n",
       "    <tr>\n",
       "      <th>2</th>\n",
       "      <td>1.0</td>\n",
       "      <td>83625.0</td>\n",
       "      <td>83625.0</td>\n",
       "      <td>2.0</td>\n",
       "    </tr>\n",
       "    <tr>\n",
       "      <th>3</th>\n",
       "      <td>0.0</td>\n",
       "      <td>473682.5</td>\n",
       "      <td>947365.0</td>\n",
       "      <td>2.0</td>\n",
       "    </tr>\n",
       "    <tr>\n",
       "      <th>4</th>\n",
       "      <td>1.0</td>\n",
       "      <td>14394.0</td>\n",
       "      <td>14394.0</td>\n",
       "      <td>2.0</td>\n",
       "    </tr>\n",
       "  </tbody>\n",
       "</table>\n",
       "</div>"
      ],
      "text/plain": [
       "   fav_filmera  duration_avg  duration_sum  fav_timeofday\n",
       "0          0.0        3470.0       48580.0            2.0\n",
       "1          1.0       19327.0       77308.0            3.0\n",
       "2          1.0       83625.0       83625.0            2.0\n",
       "3          0.0      473682.5      947365.0            2.0\n",
       "4          1.0       14394.0       14394.0            2.0"
      ]
     },
     "execution_count": 115,
     "metadata": {},
     "output_type": "execute_result"
    }
   ],
   "source": [
    "df2 = pd.read_csv('df2.csv')\n",
    "sel_df = df2[['fav_filmera','duration_avg','duration_sum','fav_timeofday']]\n",
    "\n",
    "sel_df['fav_filmera'] = sel_df['fav_filmera'].astype(str).apply(lambda x: x[:-2] if x.endswith('.5') else x).astype(float)\n",
    "sel_df['fav_timeofday'] = sel_df['fav_timeofday'].astype(str).apply(lambda x: x[:-2] if x.endswith('.5') else x).astype(float)\n",
    "\n",
    "sel_df.head()"
   ]
  },
  {
   "cell_type": "markdown",
   "id": "13bcc45a",
   "metadata": {},
   "source": [
    "#### 2.4.2/2.4.3/2.4.4/2.4.5. Most of your selected variables will be numerical (continuous or discrete), then categorize them into four categories / With the selected variables, perform pivot tables. On the horizontal axis, you will have the clusters, and on the vertical axis, you will have the categories of each variable. Notice that you have to do one pivot table per variable / Calculate the percentage by column for each pivot table. The sum of each row (cluster) must be 100 [...]. / Interpret the results for each pivot table."
   ]
  },
  {
   "cell_type": "code",
   "execution_count": 116,
   "id": "4e02baad",
   "metadata": {},
   "outputs": [
    {
     "data": {
      "text/html": [
       "<div>\n",
       "<style scoped>\n",
       "    .dataframe tbody tr th:only-of-type {\n",
       "        vertical-align: middle;\n",
       "    }\n",
       "\n",
       "    .dataframe tbody tr th {\n",
       "        vertical-align: top;\n",
       "    }\n",
       "\n",
       "    .dataframe thead th {\n",
       "        text-align: right;\n",
       "    }\n",
       "</style>\n",
       "<table border=\"1\" class=\"dataframe\">\n",
       "  <thead>\n",
       "    <tr style=\"text-align: right;\">\n",
       "      <th></th>\n",
       "      <th>fav_filmera</th>\n",
       "      <th>duration_avg</th>\n",
       "      <th>duration_sum</th>\n",
       "      <th>fav_timeofday</th>\n",
       "      <th>Cluster</th>\n",
       "    </tr>\n",
       "  </thead>\n",
       "  <tbody>\n",
       "    <tr>\n",
       "      <th>0</th>\n",
       "      <td>0.0</td>\n",
       "      <td>3470.0</td>\n",
       "      <td>48580.0</td>\n",
       "      <td>2.0</td>\n",
       "      <td>0</td>\n",
       "    </tr>\n",
       "    <tr>\n",
       "      <th>1</th>\n",
       "      <td>1.0</td>\n",
       "      <td>19327.0</td>\n",
       "      <td>77308.0</td>\n",
       "      <td>3.0</td>\n",
       "      <td>1</td>\n",
       "    </tr>\n",
       "    <tr>\n",
       "      <th>2</th>\n",
       "      <td>1.0</td>\n",
       "      <td>83625.0</td>\n",
       "      <td>83625.0</td>\n",
       "      <td>2.0</td>\n",
       "      <td>2</td>\n",
       "    </tr>\n",
       "    <tr>\n",
       "      <th>3</th>\n",
       "      <td>0.0</td>\n",
       "      <td>473682.5</td>\n",
       "      <td>947365.0</td>\n",
       "      <td>2.0</td>\n",
       "      <td>0</td>\n",
       "    </tr>\n",
       "    <tr>\n",
       "      <th>4</th>\n",
       "      <td>1.0</td>\n",
       "      <td>14394.0</td>\n",
       "      <td>14394.0</td>\n",
       "      <td>2.0</td>\n",
       "      <td>2</td>\n",
       "    </tr>\n",
       "  </tbody>\n",
       "</table>\n",
       "</div>"
      ],
      "text/plain": [
       "   fav_filmera  duration_avg  duration_sum  fav_timeofday  Cluster\n",
       "0          0.0        3470.0       48580.0            2.0        0\n",
       "1          1.0       19327.0       77308.0            3.0        1\n",
       "2          1.0       83625.0       83625.0            2.0        2\n",
       "3          0.0      473682.5      947365.0            2.0        0\n",
       "4          1.0       14394.0       14394.0            2.0        2"
      ]
     },
     "execution_count": 116,
     "metadata": {},
     "output_type": "execute_result"
    }
   ],
   "source": [
    "#add  new column to the data that includes the cluster to which belongs a customer.\n",
    "sel_df[\"Cluster\"] = kmeans_results[5][\"clusters\"]\n",
    "sel_df.head()"
   ]
  },
  {
   "cell_type": "code",
   "execution_count": 117,
   "id": "43e8a1e5",
   "metadata": {},
   "outputs": [],
   "source": [
    "customers = sel_df\n",
    "customers['q_duration_avg'] = pd.qcut(customers['duration_avg'], q=[0, 0.25, 0.5, 0.75, 1.0], labels=['Q1', 'Q2', 'Q3', 'Q4'])\n",
    "customers['q_duration_sum'] = pd.qcut(customers['duration_sum'], q=[0, 0.25, 0.5, 0.75, 1.0], labels=['Q1', 'Q2', 'Q3', 'Q4'])"
   ]
  },
  {
   "cell_type": "code",
   "execution_count": 118,
   "id": "49327371",
   "metadata": {},
   "outputs": [],
   "source": [
    "personalized = sel_df\n",
    "personalized['fav_filmera'] = personalized['fav_filmera'].replace(0.0, 'Old')\n",
    "personalized['fav_filmera'] = personalized['fav_filmera'].replace(1.0, 'New')\n",
    "\n",
    "personalized['fav_timeofday'] = personalized['fav_timeofday'].replace(1.0, 'Morning')\n",
    "personalized['fav_timeofday'] = personalized['fav_timeofday'].replace(2.0, 'Afternoon')\n",
    "personalized['fav_timeofday'] = personalized['fav_timeofday'].replace(3.0, 'Night')"
   ]
  },
  {
   "cell_type": "code",
   "execution_count": 120,
   "id": "46f2ed3d",
   "metadata": {},
   "outputs": [],
   "source": [
    "#plotting the tables\n",
    "df1 = round(100*personalized.groupby('Cluster')[\"fav_filmera\"].value_counts(normalize = True).unstack().fillna(0),2)\n",
    "df2 = round(100*customers.groupby('Cluster')[\"q_duration_avg\"].value_counts(normalize = True).unstack().fillna(0),2)\n",
    "df3 = round(100*customers.groupby('Cluster')[\"q_duration_sum\"].value_counts(normalize = True).unstack().fillna(0),2)\n",
    "df4 = round(100*personalized.groupby('Cluster')[\"fav_timeofday\"].value_counts(normalize = True).unstack().fillna(0),2)"
   ]
  },
  {
   "cell_type": "code",
   "execution_count": 126,
   "id": "671ce77a",
   "metadata": {},
   "outputs": [],
   "source": [
    "d5 = customers.Cluster.value_counts().sort_index().to_frame().rename({\"Cluster\": \"Nº people\"}, axis = 1)"
   ]
  },
  {
   "cell_type": "markdown",
   "id": "228b101e",
   "metadata": {},
   "source": [
    "##### Favourite Film Era"
   ]
  },
  {
   "cell_type": "code",
   "execution_count": 121,
   "id": "a645066d",
   "metadata": {},
   "outputs": [
    {
     "data": {
      "text/html": [
       "<div>\n",
       "<style scoped>\n",
       "    .dataframe tbody tr th:only-of-type {\n",
       "        vertical-align: middle;\n",
       "    }\n",
       "\n",
       "    .dataframe tbody tr th {\n",
       "        vertical-align: top;\n",
       "    }\n",
       "\n",
       "    .dataframe thead th {\n",
       "        text-align: right;\n",
       "    }\n",
       "</style>\n",
       "<table border=\"1\" class=\"dataframe\">\n",
       "  <thead>\n",
       "    <tr style=\"text-align: right;\">\n",
       "      <th>fav_filmera</th>\n",
       "      <th>New</th>\n",
       "      <th>Old</th>\n",
       "    </tr>\n",
       "    <tr>\n",
       "      <th>Cluster</th>\n",
       "      <th></th>\n",
       "      <th></th>\n",
       "    </tr>\n",
       "  </thead>\n",
       "  <tbody>\n",
       "    <tr>\n",
       "      <th>0</th>\n",
       "      <td>0.24</td>\n",
       "      <td>99.76</td>\n",
       "    </tr>\n",
       "    <tr>\n",
       "      <th>1</th>\n",
       "      <td>95.47</td>\n",
       "      <td>4.53</td>\n",
       "    </tr>\n",
       "    <tr>\n",
       "      <th>2</th>\n",
       "      <td>92.97</td>\n",
       "      <td>7.03</td>\n",
       "    </tr>\n",
       "    <tr>\n",
       "      <th>3</th>\n",
       "      <td>89.76</td>\n",
       "      <td>10.24</td>\n",
       "    </tr>\n",
       "    <tr>\n",
       "      <th>4</th>\n",
       "      <td>75.67</td>\n",
       "      <td>24.33</td>\n",
       "    </tr>\n",
       "  </tbody>\n",
       "</table>\n",
       "</div>"
      ],
      "text/plain": [
       "fav_filmera    New    Old\n",
       "Cluster                  \n",
       "0             0.24  99.76\n",
       "1            95.47   4.53\n",
       "2            92.97   7.03\n",
       "3            89.76  10.24\n",
       "4            75.67  24.33"
      ]
     },
     "execution_count": 121,
     "metadata": {},
     "output_type": "execute_result"
    }
   ],
   "source": [
    "df1"
   ]
  },
  {
   "cell_type": "markdown",
   "id": "895ce6e3",
   "metadata": {},
   "source": [
    "- In **Cluster 0**, we have almost 100% lovers of 'Old' movies.\n",
    "- In **Cluster 1**, on the contrary, we have lovers of 'New' movies with a small appreciation of 'Old' as well (almost 5%).\n",
    "- In **Cluster 2**, like the previous cluster, but the percentage of appreciation of 'Old' increases to 7%.\n",
    "- In **Cluster 3**, same as the previous two clusters, but the percentage appreciation of 'Old' grows even more to 10.24%.\n",
    "- In **Cluster 4**, like the previous three clusters, this cluster has as 'User' users who appreciate 'New' movies the most, but the percentage of almost 25% of 'Old' movies viewed is certainly not insignificant"
   ]
  },
  {
   "cell_type": "markdown",
   "id": "bc9fff59",
   "metadata": {},
   "source": [
    "##### Click Duration Average"
   ]
  },
  {
   "cell_type": "code",
   "execution_count": 122,
   "id": "66da7261",
   "metadata": {},
   "outputs": [
    {
     "data": {
      "text/html": [
       "<div>\n",
       "<style scoped>\n",
       "    .dataframe tbody tr th:only-of-type {\n",
       "        vertical-align: middle;\n",
       "    }\n",
       "\n",
       "    .dataframe tbody tr th {\n",
       "        vertical-align: top;\n",
       "    }\n",
       "\n",
       "    .dataframe thead th {\n",
       "        text-align: right;\n",
       "    }\n",
       "</style>\n",
       "<table border=\"1\" class=\"dataframe\">\n",
       "  <thead>\n",
       "    <tr style=\"text-align: right;\">\n",
       "      <th>q_duration_avg</th>\n",
       "      <th>Q1</th>\n",
       "      <th>Q2</th>\n",
       "      <th>Q3</th>\n",
       "      <th>Q4</th>\n",
       "    </tr>\n",
       "    <tr>\n",
       "      <th>Cluster</th>\n",
       "      <th></th>\n",
       "      <th></th>\n",
       "      <th></th>\n",
       "      <th></th>\n",
       "    </tr>\n",
       "  </thead>\n",
       "  <tbody>\n",
       "    <tr>\n",
       "      <th>0</th>\n",
       "      <td>24.98</td>\n",
       "      <td>25.39</td>\n",
       "      <td>25.46</td>\n",
       "      <td>24.18</td>\n",
       "    </tr>\n",
       "    <tr>\n",
       "      <th>1</th>\n",
       "      <td>26.36</td>\n",
       "      <td>25.96</td>\n",
       "      <td>25.01</td>\n",
       "      <td>22.67</td>\n",
       "    </tr>\n",
       "    <tr>\n",
       "      <th>2</th>\n",
       "      <td>26.56</td>\n",
       "      <td>24.42</td>\n",
       "      <td>25.06</td>\n",
       "      <td>23.96</td>\n",
       "    </tr>\n",
       "    <tr>\n",
       "      <th>3</th>\n",
       "      <td>4.58</td>\n",
       "      <td>35.64</td>\n",
       "      <td>48.53</td>\n",
       "      <td>11.25</td>\n",
       "    </tr>\n",
       "    <tr>\n",
       "      <th>4</th>\n",
       "      <td>0.00</td>\n",
       "      <td>0.00</td>\n",
       "      <td>0.00</td>\n",
       "      <td>100.00</td>\n",
       "    </tr>\n",
       "  </tbody>\n",
       "</table>\n",
       "</div>"
      ],
      "text/plain": [
       "q_duration_avg     Q1     Q2     Q3      Q4\n",
       "Cluster                                    \n",
       "0               24.98  25.39  25.46   24.18\n",
       "1               26.36  25.96  25.01   22.67\n",
       "2               26.56  24.42  25.06   23.96\n",
       "3                4.58  35.64  48.53   11.25\n",
       "4                0.00   0.00   0.00  100.00"
      ]
     },
     "execution_count": 122,
     "metadata": {},
     "output_type": "execute_result"
    }
   ],
   "source": [
    "df2"
   ]
  },
  {
   "cell_type": "markdown",
   "id": "4daa3048",
   "metadata": {},
   "source": [
    "- ***The first three Clusters*** are evenly distributed, unlike *Cluster 3* and *Cluster 4*. \n",
    "- In **Cluster 3** we see a strong presence of users between the second quartile and the third quartile (with a pronounced prevalence in the third quartile). This explains that a high percentage of users, on average watch movies for as long as the average of all users.\n",
    "- In **Cluster 4** on the other hand, there is a total belonging of the users to the fourth quartile (100%). Users belonging to this Cluster watch the movie on average longer than the others."
   ]
  },
  {
   "cell_type": "markdown",
   "id": "b9399e81",
   "metadata": {},
   "source": [
    "##### Duration Sum"
   ]
  },
  {
   "cell_type": "code",
   "execution_count": 123,
   "id": "dde83742",
   "metadata": {},
   "outputs": [
    {
     "data": {
      "text/html": [
       "<div>\n",
       "<style scoped>\n",
       "    .dataframe tbody tr th:only-of-type {\n",
       "        vertical-align: middle;\n",
       "    }\n",
       "\n",
       "    .dataframe tbody tr th {\n",
       "        vertical-align: top;\n",
       "    }\n",
       "\n",
       "    .dataframe thead th {\n",
       "        text-align: right;\n",
       "    }\n",
       "</style>\n",
       "<table border=\"1\" class=\"dataframe\">\n",
       "  <thead>\n",
       "    <tr style=\"text-align: right;\">\n",
       "      <th>q_duration_sum</th>\n",
       "      <th>Q1</th>\n",
       "      <th>Q2</th>\n",
       "      <th>Q3</th>\n",
       "      <th>Q4</th>\n",
       "    </tr>\n",
       "    <tr>\n",
       "      <th>Cluster</th>\n",
       "      <th></th>\n",
       "      <th></th>\n",
       "      <th></th>\n",
       "      <th></th>\n",
       "    </tr>\n",
       "  </thead>\n",
       "  <tbody>\n",
       "    <tr>\n",
       "      <th>0</th>\n",
       "      <td>26.04</td>\n",
       "      <td>26.63</td>\n",
       "      <td>26.38</td>\n",
       "      <td>20.95</td>\n",
       "    </tr>\n",
       "    <tr>\n",
       "      <th>1</th>\n",
       "      <td>26.51</td>\n",
       "      <td>26.58</td>\n",
       "      <td>26.04</td>\n",
       "      <td>20.87</td>\n",
       "    </tr>\n",
       "    <tr>\n",
       "      <th>2</th>\n",
       "      <td>25.89</td>\n",
       "      <td>25.22</td>\n",
       "      <td>25.60</td>\n",
       "      <td>23.29</td>\n",
       "    </tr>\n",
       "    <tr>\n",
       "      <th>3</th>\n",
       "      <td>0.25</td>\n",
       "      <td>1.64</td>\n",
       "      <td>11.17</td>\n",
       "      <td>86.95</td>\n",
       "    </tr>\n",
       "    <tr>\n",
       "      <th>4</th>\n",
       "      <td>0.00</td>\n",
       "      <td>0.00</td>\n",
       "      <td>0.00</td>\n",
       "      <td>100.00</td>\n",
       "    </tr>\n",
       "  </tbody>\n",
       "</table>\n",
       "</div>"
      ],
      "text/plain": [
       "q_duration_sum     Q1     Q2     Q3      Q4\n",
       "Cluster                                    \n",
       "0               26.04  26.63  26.38   20.95\n",
       "1               26.51  26.58  26.04   20.87\n",
       "2               25.89  25.22  25.60   23.29\n",
       "3                0.25   1.64  11.17   86.95\n",
       "4                0.00   0.00   0.00  100.00"
      ]
     },
     "execution_count": 123,
     "metadata": {},
     "output_type": "execute_result"
    }
   ],
   "source": [
    "df3"
   ]
  },
  {
   "cell_type": "markdown",
   "id": "b1c961e4",
   "metadata": {},
   "source": [
    "- ***The first three clusters*** are evenly distributed, unlike *Cluster 3* and *Cluster 4*. \n",
    "- In **Cluster 3**, we see a strong presence of users in the fourth quartile, almost 87% of users. This can certainly explain that, users belonging to this cluster spend much more time on the platform than the others.\n",
    "- In **Cluster 4**, on the other hand, there is a total presence of users in the fourth quartile (100%)"
   ]
  },
  {
   "cell_type": "markdown",
   "id": "91a8f6c9",
   "metadata": {},
   "source": [
    "##### Favourite Time of Day"
   ]
  },
  {
   "cell_type": "code",
   "execution_count": 106,
   "id": "f53228f6",
   "metadata": {},
   "outputs": [
    {
     "data": {
      "text/html": [
       "<div>\n",
       "<style scoped>\n",
       "    .dataframe tbody tr th:only-of-type {\n",
       "        vertical-align: middle;\n",
       "    }\n",
       "\n",
       "    .dataframe tbody tr th {\n",
       "        vertical-align: top;\n",
       "    }\n",
       "\n",
       "    .dataframe thead th {\n",
       "        text-align: right;\n",
       "    }\n",
       "</style>\n",
       "<table border=\"1\" class=\"dataframe\">\n",
       "  <thead>\n",
       "    <tr style=\"text-align: right;\">\n",
       "      <th>fav_timeofday</th>\n",
       "      <th>Afternoon</th>\n",
       "      <th>Morning</th>\n",
       "      <th>Night</th>\n",
       "    </tr>\n",
       "    <tr>\n",
       "      <th>Cluster</th>\n",
       "      <th></th>\n",
       "      <th></th>\n",
       "      <th></th>\n",
       "    </tr>\n",
       "  </thead>\n",
       "  <tbody>\n",
       "    <tr>\n",
       "      <th>0</th>\n",
       "      <td>46.83</td>\n",
       "      <td>10.58</td>\n",
       "      <td>42.59</td>\n",
       "    </tr>\n",
       "    <tr>\n",
       "      <th>1</th>\n",
       "      <td>48.37</td>\n",
       "      <td>11.21</td>\n",
       "      <td>40.42</td>\n",
       "    </tr>\n",
       "    <tr>\n",
       "      <th>2</th>\n",
       "      <td>49.03</td>\n",
       "      <td>10.89</td>\n",
       "      <td>40.09</td>\n",
       "    </tr>\n",
       "    <tr>\n",
       "      <th>3</th>\n",
       "      <td>48.47</td>\n",
       "      <td>6.96</td>\n",
       "      <td>44.58</td>\n",
       "    </tr>\n",
       "    <tr>\n",
       "      <th>4</th>\n",
       "      <td>44.14</td>\n",
       "      <td>10.38</td>\n",
       "      <td>45.48</td>\n",
       "    </tr>\n",
       "  </tbody>\n",
       "</table>\n",
       "</div>"
      ],
      "text/plain": [
       "fav_timeofday  Afternoon  Morning  Night\n",
       "Cluster                                 \n",
       "0                  46.83    10.58  42.59\n",
       "1                  48.37    11.21  40.42\n",
       "2                  49.03    10.89  40.09\n",
       "3                  48.47     6.96  44.58\n",
       "4                  44.14    10.38  45.48"
      ]
     },
     "execution_count": 106,
     "metadata": {},
     "output_type": "execute_result"
    }
   ],
   "source": [
    "df4"
   ]
  },
  {
   "cell_type": "markdown",
   "id": "a23af78f",
   "metadata": {},
   "source": [
    "From these clusters, we cannot show any difference except for some minimal percentage among users. In fact, all users watch significantly more movies in 'Afternoon' - 'Night'"
   ]
  },
  {
   "cell_type": "markdown",
   "id": "bee02a0e",
   "metadata": {},
   "source": [
    "##### **Users in Clusters**"
   ]
  },
  {
   "cell_type": "code",
   "execution_count": 128,
   "id": "e823fee4",
   "metadata": {},
   "outputs": [
    {
     "data": {
      "text/html": [
       "<div>\n",
       "<style scoped>\n",
       "    .dataframe tbody tr th:only-of-type {\n",
       "        vertical-align: middle;\n",
       "    }\n",
       "\n",
       "    .dataframe tbody tr th {\n",
       "        vertical-align: top;\n",
       "    }\n",
       "\n",
       "    .dataframe thead th {\n",
       "        text-align: right;\n",
       "    }\n",
       "</style>\n",
       "<table border=\"1\" class=\"dataframe\">\n",
       "  <thead>\n",
       "    <tr style=\"text-align: right;\">\n",
       "      <th></th>\n",
       "      <th>count</th>\n",
       "    </tr>\n",
       "    <tr>\n",
       "      <th>Cluster</th>\n",
       "      <th></th>\n",
       "    </tr>\n",
       "  </thead>\n",
       "  <tbody>\n",
       "    <tr>\n",
       "      <th>0</th>\n",
       "      <td>20759</td>\n",
       "    </tr>\n",
       "    <tr>\n",
       "      <th>1</th>\n",
       "      <td>54484</td>\n",
       "    </tr>\n",
       "    <tr>\n",
       "      <th>2</th>\n",
       "      <td>29301</td>\n",
       "    </tr>\n",
       "    <tr>\n",
       "      <th>3</th>\n",
       "      <td>2444</td>\n",
       "    </tr>\n",
       "    <tr>\n",
       "      <th>4</th>\n",
       "      <td>2773</td>\n",
       "    </tr>\n",
       "  </tbody>\n",
       "</table>\n",
       "</div>"
      ],
      "text/plain": [
       "         count\n",
       "Cluster       \n",
       "0        20759\n",
       "1        54484\n",
       "2        29301\n",
       "3         2444\n",
       "4         2773"
      ]
     },
     "execution_count": 128,
     "metadata": {},
     "output_type": "execute_result"
    }
   ],
   "source": [
    "d5"
   ]
  },
  {
   "cell_type": "markdown",
   "id": "9b0954a7",
   "metadata": {},
   "source": [
    "Users in the clusters seem to be more evenly distributed for the first three clusters"
   ]
  },
  {
   "cell_type": "markdown",
   "id": "8db8e48f",
   "metadata": {},
   "source": [
    "#### 2.4.6. Use any known metrics to estimate clustering algorithm performance (how good are the clusters you found?). Comment on the results obtained."
   ]
  },
  {
   "cell_type": "markdown",
   "id": "0bd6dd21",
   "metadata": {},
   "source": [
    "As explained earlier in Section 2.3.2, in searching for an optimal value for the number of clusters, we used the two methods Elbow and Silhouette.\n",
    "Having conflicting opinions, we used Calinski-Harabasz Index for more confirmation of the value.\n",
    "</br>\n",
    "\n",
    "For further verification of the obtained cluster value, we use another index: **Davies-Bouldin Index**."
   ]
  },
  {
   "cell_type": "code",
   "execution_count": 129,
   "id": "d6b0a68f",
   "metadata": {},
   "outputs": [],
   "source": [
    "#Initialize Davies-Bouldin 'DB' Index list\n",
    "DB = []\n",
    "\n",
    "for k in range(2, 9):\n",
    "    #We use KMeans function from 'sklearn' library\n",
    "    kmeans = KMeans(n_clusters=k, init='random', max_iter=300, random_state=42)\n",
    "    labels = kmeans.fit_predict(df_reduced)  \n",
    "    #We store Davies-Bouldin score in its list\n",
    "    DB.append(metrics.davies_bouldin_score(df_reduced, np.array(labels)))"
   ]
  },
  {
   "cell_type": "code",
   "execution_count": 131,
   "id": "b3e37a2e",
   "metadata": {},
   "outputs": [
    {
     "data": {
      "image/png": "[encoded data removed]",
      "text/plain": [
       "<Figure size 640x480 with 1 Axes>"
      ]
     },
     "metadata": {},
     "output_type": "display_data"
    }
   ],
   "source": [
    "#Plot Davies-Bouldin Index for different 'k'\n",
    "plt.plot(range(2, 9), DB)\n",
    "plt.scatter(5,DB[3], marker='o', facecolors='none', edgecolors='r',s=1000, linewidth=5)\n",
    "plt.title(\"Davies-Bouldin Index\")\n",
    "plt.xlabel(\"Number of Clusters\")\n",
    "plt.ylabel(\"Davies-Bouldin Coefficient\")\n",
    "plt.show()"
   ]
  },
  {
   "cell_type": "markdown",
   "id": "840d80df",
   "metadata": {},
   "source": [
    "The optimal value for the cluster number, also recommended by this index is **k = 5**. Our analysis is correct."
   ]
  },
  {
   "cell_type": "markdown",
   "id": "162046cd",
   "metadata": {},
   "source": [
    "## 4. Command Line Question (CLQ)\n"
   ]
  },
  {
   "cell_type": "markdown",
   "id": "2c7338df",
   "metadata": {},
   "source": [
    "Here is another command line question to enjoy. We previously stated that using the command line tools is a skill that Data Scientists must master.\n",
    "\n",
    "In this question, you should use any command line tool that you know to answer the following questions using the same dataset that you have been using so far:\n",
    "\n",
    "- What is the most-watched Netflix title?\n",
    "- Report the average time between subsequent clicks on Netflix.com\n",
    "- Provide the ID of the user that has spent the most time on Netflix\n",
    "\n",
    "Important note: You may work on this question in any environment (AWS, your PC command line, Jupyter notebook, etc.), but the final script must be placed in CommandLine.sh, which must be executable. Please run the script and include a screenshot of the output in the notebook for evaluation.\n",
    "\n",
    "**If the picture does not load on Github, we have attached a CLQ.png file with the caputra of the outputs in the repository.**"
   ]
  },
  {
   "cell_type": "markdown",
   "id": "865962bd",
   "metadata": {},
   "source": [
    "![foto](CLQ.png)"
   ]
  },
  {
   "cell_type": "markdown",
   "id": "af0b626a",
   "metadata": {},
   "source": [
    "## 5. Algorithmic Question (AQ)"
   ]
  },
  {
   "cell_type": "markdown",
   "id": "e525e7c6",
   "metadata": {},
   "source": [
    "Federico studies in a demanding university where he has to take a certain number N of exams to graduate, but he is free to choose in which order he will take these exams. Federico is panicking since this university is not only one of the toughest in the world but also one of the weirdest. His final grade won't depend at all on the mark he gets in these courses: there's a precise evaluation system.\n",
    "\n",
    "He was given an initial personal score of S when he enrolled, which changes every time he takes an exam: now comes the crazy part. He soon discovered that every of the N exams he has to take is assigned a mark p. Once he has chosen an exam, his score becomes equal to the mark p, and at the same time, the scoring system changes:\n",
    "\n",
    "- If he takes an \"easy\" exam (the score of the exam being less than his score), every other exam's mark is increased by the quantity S - p\n",
    "\n",
    "- If he takes a \"hard\" exam (the score of the exam is greater than his score), every other exam's mark is decreased by the quantity p - S\n",
    "\n",
    "So, for example, consider S = 8 as the initial personal score. Federico must decide which exam he wants to take, being [5, 7, 1] the marks list. If he takes the first one, being 5 < 8 and 8 - 5 = 3, the remaining list now becomes [10, 4], and his score is updated as S = .\n",
    "\n",
    "In this chaotic university where the only real exam seems to be choosing the best way to take exams, you are the poor student advisor who is facing a long queue of confused people who need some help. Federico is next in line, and he comes up in turn with an inescapable question: he wants to know which is the highest score possible he could get.\n",
    "\n",
    "a) Fortunately, you have a computer app designed by a brilliant student. Federico wants you to show him the code which this app is based on because he wants to do paid counseling for other desperate students: in a recursive fashion, the helped helps the helpable."
   ]
  },
  {
   "cell_type": "code",
   "execution_count": 1,
   "id": "128392f2",
   "metadata": {},
   "outputs": [
    {
     "name": "stdout",
     "output_type": "stream",
     "text": [
      "30\n",
      "13 27 41 59 28 33 39 19 52 48 55 79\n",
      "205\n"
     ]
    }
   ],
   "source": [
    "from itertools import zip_longest\n",
    "#initial personal score\n",
    "S=int(input())\n",
    "# marks\n",
    "exams_grades=list(map(int,input().split()))\n",
    "exams_grades.sort()\n",
    "#we create 2 list where we put the greatest and smallest numbers\n",
    "l1=exams_grades[:len(exams_grades)//2]\n",
    "l2=exams_grades[len(exams_grades)//2:]\n",
    "#we create a new list with an element from the list of the greatest numbers and an element from the list of the smallest numbers\n",
    "if len(l2)==len(l1):\n",
    "  new_list = [elemento for val in zip_longest(l1, l2) for elemento in val]\n",
    "else:\n",
    "  new_list = [elemento for val in zip_longest(l2, l1) for elemento in val if elemento is not None]\n",
    "\n",
    "# we update the marks according to the rule given by the university\n",
    "for x in range(len(new_list)):\n",
    "  grade=new_list[x]\n",
    "  diff=S-grade\n",
    "  for y in range(x+1,len(new_list)):\n",
    "      new_list[y]+=diff\n",
    "  S=grade\n",
    "print(S)"
   ]
  },
  {
   "cell_type": "markdown",
   "id": "8fde478c",
   "metadata": {},
   "source": [
    "b) Federico is getting angry because he claims that your code is slow! Show him formally with a big-O notation that he is as crazy as this university!"
   ]
  },
  {
   "cell_type": "markdown",
   "id": "594b5f2f",
   "metadata": {},
   "source": [
    "### Time Complexity Analysis\n",
    "\n",
    "\n",
    "**Input Reading**:\n",
    "Reading\n",
    "S and\n",
    "exams_grades\n",
    "exams_grades takes constant time, so the complexity is O(1).\n",
    "\n",
    "**List Sorting**: Sorting the list\n",
    "exams_grades has a time complexity of\n",
    "O(nlogn), where\n",
    "n is the length of exams_grades.\n",
    "\n",
    "**Creating new_list** : The creation of new_list is performed once and has a linear time complexity relative to the length of the list. Therefore, it is\n",
    "O(n).\n",
    "\n",
    "**Updating Marks**: The time complexity analysis for the updating marks part is as follows:\n",
    "\n",
    "- The outer loop runs N times.\n",
    "- The inner loop also runs, on average, N/2 times across all iterations of the outer loop.\n",
    "- Inside the inner loop, updating the elements of `new_list` takes constant time, O(1).\n",
    "- Therefore, the total time complexity for this part is O(N^2).\n",
    "\n",
    "**In conclusion** : Considering both factors, the overall time complexity of the provided code is dominated by the quadratic term, resulting in a final time complexity of O(N^2) due to the updating marks part.\n"
   ]
  },
  {
   "cell_type": "markdown",
   "id": "ebdb4e14",
   "metadata": {},
   "source": [
    "c) If, unfortunately, Federico is right in the grip of madness, he will threaten you to optimize the code through a different approach. You should end this theater of the absurd by any means! (And again, formally prove that you improved time complexity)"
   ]
  },
  {
   "cell_type": "code",
   "execution_count": 2,
   "id": "c1c42657",
   "metadata": {},
   "outputs": [
    {
     "name": "stdout",
     "output_type": "stream",
     "text": [
      "30\n",
      "13 27 41 59 28 33 39 19 52 48 55 79\n",
      "205\n"
     ]
    }
   ],
   "source": [
    "def best_grade_improved(S=int(input()),exams_grades=list(map(int, input().split()))):\n",
    "    exams_grades.sort()\n",
    "    n = len(exams_grades)\n",
    "    l1 = exams_grades[:n//2]\n",
    "    l2 = exams_grades[n//2:]\n",
    "# if the number of the exams is even or odd we have to create the list in a different way\n",
    "    if n % 2 == 0:\n",
    "        new_list = [elemento for val in zip_longest(l1, l2) for elemento in val]\n",
    "    else:\n",
    "        new_list = [elemento for val in zip_longest(l2, l1) for elemento in val if elemento is not None]\n",
    "    # after have put the marks in a proper way we call the recursive function to find the best final grade\n",
    "    adjust_grades_recursive(S, new_list)\n",
    "\n",
    "\n",
    "def adjust_grades_recursive(S, exams_grades_systemed):\n",
    "    if not exams_grades_systemed:\n",
    "        print(S)\n",
    "        return\n",
    "    grade = exams_grades_systemed[0]\n",
    "    diff=S-grade\n",
    "    # we update the marks according to the rule given by the university\n",
    "    for y in range(1, len(exams_grades_systemed)):\n",
    "      exams_grades_systemed[y] += diff\n",
    "    S = grade\n",
    "    adjust_grades_recursive(S, exams_grades_systemed[1:])\n",
    "\n",
    "\n",
    "best_grade_improved()"
   ]
  },
  {
   "cell_type": "markdown",
   "id": "a26e84ba",
   "metadata": {},
   "source": [
    "### Time Complexity Analysis\n",
    "\n",
    "1. **Input Reading and List Sorting:**\n",
    "   - Reading the personal score `S` and creating the `exams_grades` list take O(N) time.\n",
    "   - Sorting the `exams_grades` list takes O(N log N) time.\n",
    "\n",
    "2. **Creating Lists `l1` and `l2`:**\n",
    "   - Creating `l1` and `l2` by slicing the sorted list takes O(N) time.\n",
    "\n",
    "3. **Creating `new_list`:**\n",
    "   - Creating `new_list` using `zip_longest` and list comprehensions takes O(N) time.\n",
    "\n",
    "4. **Recursive Grade Adjustment:**\n",
    "   - The recursive function `adjust_grades_recursive` processes each element of `exams_grades_systemed` once.\n",
    "   - In each iteration, the function performs constant-time operations (O(1)).\n",
    "   - In the worst case, the recursion depth is N.\n",
    "   - Therefore, the total time complexity for this part is O(N).\n",
    "\n",
    "Considering the sorting operation, the overall time complexity of the improved code is O(N log N) due to the dominant sorting step.\n",
    "\n",
    "So this is more efficient because to update marks has a complexity of O(N) and not O(N^2) as in the former version."
   ]
  },
  {
   "cell_type": "markdown",
   "id": "6f1f5956",
   "metadata": {},
   "source": [
    "d) Ask chatGPT for a third (optimized) implementation and analyze again its time complexity. Be careful (and crafty) in defining the prompt, and challenge the machine in this coding question!"
   ]
  },
  {
   "cell_type": "code",
   "execution_count": 4,
   "id": "60787995",
   "metadata": {},
   "outputs": [
    {
     "name": "stdout",
     "output_type": "stream",
     "text": [
      "30\n",
      "13 27 41 59 28 33 39 19 52 48 55 79\n",
      "205\n"
     ]
    }
   ],
   "source": [
    "from statistics import median\n",
    "def best_grade_improved_chatgpt(S=int(input()), exams_grades=list(map(int, input().split()))):\n",
    "  # we use the median to split the exams_grades in two list one with the largest numbers and the other one with the smallest number\n",
    "    median_value = median(exams_grades)\n",
    "\n",
    "    l1 = [element for element in exams_grades if element < median_value]\n",
    "\n",
    "    l2 = [element for element in exams_grades if element >= median_value]\n",
    "\n",
    "    if len(l2)==len(l1):\n",
    "        new_list = [elemento for val in zip_longest(l1, l2) for elemento in val]\n",
    "    else:\n",
    "        new_list = [elemento for val in zip_longest(l2, l1) for elemento in val if elemento is not None]\n",
    "\n",
    "    adjust_grades_recursive(S, new_list)\n",
    "\n",
    "def adjust_grades_recursive(S, exams_grades_systemed):\n",
    "    if not exams_grades_systemed:\n",
    "        print(S)\n",
    "        return\n",
    "    grade = exams_grades_systemed[0]\n",
    "    diff = S - grade\n",
    "    for y in range(1, len(exams_grades_systemed)):\n",
    "        exams_grades_systemed[y] += diff\n",
    "    S = grade\n",
    "    adjust_grades_recursive(S, exams_grades_systemed[1:])\n",
    "\n",
    "best_grade_improved_chatgpt()"
   ]
  },
  {
   "cell_type": "markdown",
   "id": "921c906e",
   "metadata": {},
   "source": [
    "Here are some input/output examples (the first value is the initial personal score, and the second line contains the list of marks):"
   ]
  },
  {
   "cell_type": "markdown",
   "id": "564df874",
   "metadata": {},
   "source": [
    "#### Input 1"
   ]
  },
  {
   "cell_type": "markdown",
   "id": "03b511c6",
   "metadata": {},
   "source": [
    "8\n",
    "\n",
    "5 7 1 "
   ]
  },
  {
   "cell_type": "markdown",
   "id": "375818d5",
   "metadata": {},
   "source": [
    "#### Output 1"
   ]
  },
  {
   "cell_type": "markdown",
   "id": "1f0c8b53",
   "metadata": {},
   "source": [
    "11"
   ]
  },
  {
   "cell_type": "markdown",
   "id": "4d748f07",
   "metadata": {},
   "source": [
    "#### Input 2"
   ]
  },
  {
   "cell_type": "markdown",
   "id": "a3f07b9a",
   "metadata": {},
   "source": [
    "25\n",
    "\n",
    "18 24 21 32 27"
   ]
  },
  {
   "cell_type": "markdown",
   "id": "89de3ee4",
   "metadata": {},
   "source": [
    "#### Output 2"
   ]
  },
  {
   "cell_type": "markdown",
   "id": "6b502751",
   "metadata": {},
   "source": [
    "44"
   ]
  },
  {
   "cell_type": "markdown",
   "id": "3b450f38",
   "metadata": {},
   "source": [
    "#### Input 3"
   ]
  },
  {
   "cell_type": "markdown",
   "id": "4fcbaeb1",
   "metadata": {},
   "source": [
    "30\n",
    "\n",
    "13 27 41 59 28 33 39 19 52 48 55 79"
   ]
  },
  {
   "cell_type": "markdown",
   "id": "6be2881f",
   "metadata": {},
   "source": [
    "#### Output 3\n",
    "\n"
   ]
  },
  {
   "cell_type": "markdown",
   "id": "6eb035e4",
   "metadata": {},
   "source": [
    "205"
   ]
  }
 ],
 "metadata": {
  "kernelspec": {
   "display_name": "Python 3 (ipykernel)",
   "language": "python",
   "name": "python3"
  },
  "language_info": {
   "codemirror_mode": {
    "name": "ipython",
    "version": 3
   },
   "file_extension": ".py",
   "mimetype": "text/x-python",
   "name": "python",
   "nbconvert_exporter": "python",
   "pygments_lexer": "ipython3",
   "version": "3.10.9"
  }
 },
 "nbformat": 4,
 "nbformat_minor": 5
}
