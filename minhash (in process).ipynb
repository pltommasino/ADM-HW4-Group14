{
 "cells": [
  {
   "cell_type": "code",
   "execution_count": 66,
   "id": "ba85efe5",
   "metadata": {},
   "outputs": [],
   "source": [
    "import numpy as np\n",
    "import pandas as pd"
   ]
  },
  {
   "cell_type": "markdown",
   "id": "70fd34ab",
   "metadata": {},
   "source": [
    "# Cleaning and preprocessing"
   ]
  },
  {
   "cell_type": "code",
   "execution_count": 2,
   "id": "7a03ab64",
   "metadata": {},
   "outputs": [],
   "source": [
    "df = pd.read_csv(\"vodclickstream_uk_movies_03.csv\")"
   ]
  },
  {
   "cell_type": "code",
   "execution_count": 3,
   "id": "c4918526",
   "metadata": {},
   "outputs": [
    {
     "data": {
      "text/html": [
       "<div>\n",
       "<style scoped>\n",
       "    .dataframe tbody tr th:only-of-type {\n",
       "        vertical-align: middle;\n",
       "    }\n",
       "\n",
       "    .dataframe tbody tr th {\n",
       "        vertical-align: top;\n",
       "    }\n",
       "\n",
       "    .dataframe thead th {\n",
       "        text-align: right;\n",
       "    }\n",
       "</style>\n",
       "<table border=\"1\" class=\"dataframe\">\n",
       "  <thead>\n",
       "    <tr style=\"text-align: right;\">\n",
       "      <th></th>\n",
       "      <th>Unnamed: 0</th>\n",
       "      <th>datetime</th>\n",
       "      <th>duration</th>\n",
       "      <th>title</th>\n",
       "      <th>genres</th>\n",
       "      <th>release_date</th>\n",
       "      <th>movie_id</th>\n",
       "      <th>user_id</th>\n",
       "    </tr>\n",
       "  </thead>\n",
       "  <tbody>\n",
       "    <tr>\n",
       "      <th>0</th>\n",
       "      <td>58773</td>\n",
       "      <td>2017-01-01 01:15:09</td>\n",
       "      <td>0.0</td>\n",
       "      <td>Angus, Thongs and Perfect Snogging</td>\n",
       "      <td>Comedy, Drama, Romance</td>\n",
       "      <td>2008-07-25</td>\n",
       "      <td>26bd5987e8</td>\n",
       "      <td>1dea19f6fe</td>\n",
       "    </tr>\n",
       "    <tr>\n",
       "      <th>1</th>\n",
       "      <td>58774</td>\n",
       "      <td>2017-01-01 13:56:02</td>\n",
       "      <td>0.0</td>\n",
       "      <td>The Curse of Sleeping Beauty</td>\n",
       "      <td>Fantasy, Horror, Mystery, Thriller</td>\n",
       "      <td>2016-06-02</td>\n",
       "      <td>f26ed2675e</td>\n",
       "      <td>544dcbc510</td>\n",
       "    </tr>\n",
       "    <tr>\n",
       "      <th>2</th>\n",
       "      <td>58775</td>\n",
       "      <td>2017-01-01 15:17:47</td>\n",
       "      <td>10530.0</td>\n",
       "      <td>London Has Fallen</td>\n",
       "      <td>Action, Thriller</td>\n",
       "      <td>2016-03-04</td>\n",
       "      <td>f77e500e7a</td>\n",
       "      <td>7cbcc791bf</td>\n",
       "    </tr>\n",
       "    <tr>\n",
       "      <th>3</th>\n",
       "      <td>58776</td>\n",
       "      <td>2017-01-01 16:04:13</td>\n",
       "      <td>49.0</td>\n",
       "      <td>Vendetta</td>\n",
       "      <td>Action, Drama</td>\n",
       "      <td>2015-06-12</td>\n",
       "      <td>c74aec7673</td>\n",
       "      <td>ebf43c36b6</td>\n",
       "    </tr>\n",
       "    <tr>\n",
       "      <th>4</th>\n",
       "      <td>58777</td>\n",
       "      <td>2017-01-01 19:16:37</td>\n",
       "      <td>0.0</td>\n",
       "      <td>The SpongeBob SquarePants Movie</td>\n",
       "      <td>Animation, Action, Adventure, Comedy, Family, ...</td>\n",
       "      <td>2004-11-19</td>\n",
       "      <td>a80d6fc2aa</td>\n",
       "      <td>a57c992287</td>\n",
       "    </tr>\n",
       "  </tbody>\n",
       "</table>\n",
       "</div>"
      ],
      "text/plain": [
       "   Unnamed: 0             datetime  duration  \\\n",
       "0       58773  2017-01-01 01:15:09       0.0   \n",
       "1       58774  2017-01-01 13:56:02       0.0   \n",
       "2       58775  2017-01-01 15:17:47   10530.0   \n",
       "3       58776  2017-01-01 16:04:13      49.0   \n",
       "4       58777  2017-01-01 19:16:37       0.0   \n",
       "\n",
       "                                title  \\\n",
       "0  Angus, Thongs and Perfect Snogging   \n",
       "1        The Curse of Sleeping Beauty   \n",
       "2                   London Has Fallen   \n",
       "3                            Vendetta   \n",
       "4     The SpongeBob SquarePants Movie   \n",
       "\n",
       "                                              genres release_date    movie_id  \\\n",
       "0                             Comedy, Drama, Romance   2008-07-25  26bd5987e8   \n",
       "1                 Fantasy, Horror, Mystery, Thriller   2016-06-02  f26ed2675e   \n",
       "2                                   Action, Thriller   2016-03-04  f77e500e7a   \n",
       "3                                      Action, Drama   2015-06-12  c74aec7673   \n",
       "4  Animation, Action, Adventure, Comedy, Family, ...   2004-11-19  a80d6fc2aa   \n",
       "\n",
       "      user_id  \n",
       "0  1dea19f6fe  \n",
       "1  544dcbc510  \n",
       "2  7cbcc791bf  \n",
       "3  ebf43c36b6  \n",
       "4  a57c992287  "
      ]
     },
     "execution_count": 3,
     "metadata": {},
     "output_type": "execute_result"
    }
   ],
   "source": [
    "df.head()"
   ]
  },
  {
   "cell_type": "code",
   "execution_count": 4,
   "id": "ea6bed3a",
   "metadata": {},
   "outputs": [
    {
     "data": {
      "text/plain": [
       "(671736, 8)"
      ]
     },
     "execution_count": 4,
     "metadata": {},
     "output_type": "execute_result"
    }
   ],
   "source": [
    "df.shape"
   ]
  },
  {
   "cell_type": "markdown",
   "id": "c3ac60c1",
   "metadata": {},
   "source": [
    "## datetime"
   ]
  },
  {
   "cell_type": "code",
   "execution_count": 5,
   "id": "f2c06c82",
   "metadata": {},
   "outputs": [
    {
     "data": {
      "text/plain": [
       "0"
      ]
     },
     "execution_count": 5,
     "metadata": {},
     "output_type": "execute_result"
    }
   ],
   "source": [
    "len(df[df[\"datetime\"].isna()])"
   ]
  },
  {
   "cell_type": "code",
   "execution_count": 6,
   "id": "1b7c6ff0",
   "metadata": {},
   "outputs": [
    {
     "data": {
      "text/plain": [
       "'2017-01-01 00:02:21'"
      ]
     },
     "execution_count": 6,
     "metadata": {},
     "output_type": "execute_result"
    }
   ],
   "source": [
    "min(df[\"datetime\"].unique())"
   ]
  },
  {
   "cell_type": "code",
   "execution_count": 7,
   "id": "304cb64d",
   "metadata": {},
   "outputs": [
    {
     "data": {
      "text/plain": [
       "'2019-06-30 23:59:20'"
      ]
     },
     "execution_count": 7,
     "metadata": {},
     "output_type": "execute_result"
    }
   ],
   "source": [
    "max(df[\"datetime\"].unique())"
   ]
  },
  {
   "cell_type": "markdown",
   "id": "9f667ae4",
   "metadata": {},
   "source": [
    "## duration"
   ]
  },
  {
   "cell_type": "code",
   "execution_count": 8,
   "id": "dd7a15b0",
   "metadata": {},
   "outputs": [
    {
     "data": {
      "text/plain": [
       "0"
      ]
     },
     "execution_count": 8,
     "metadata": {},
     "output_type": "execute_result"
    }
   ],
   "source": [
    "len(df[df[\"duration\"].isna()])"
   ]
  },
  {
   "cell_type": "code",
   "execution_count": 9,
   "id": "debed528",
   "metadata": {},
   "outputs": [
    {
     "data": {
      "text/plain": [
       "-1.0"
      ]
     },
     "execution_count": 9,
     "metadata": {},
     "output_type": "execute_result"
    }
   ],
   "source": [
    "min(df[\"duration\"].unique())"
   ]
  },
  {
   "cell_type": "code",
   "execution_count": 10,
   "id": "7136540d",
   "metadata": {},
   "outputs": [
    {
     "data": {
      "text/plain": [
       "18237253.0"
      ]
     },
     "execution_count": 10,
     "metadata": {},
     "output_type": "execute_result"
    }
   ],
   "source": [
    "max(df[\"duration\"].unique())"
   ]
  },
  {
   "cell_type": "code",
   "execution_count": 11,
   "id": "e885add9",
   "metadata": {},
   "outputs": [],
   "source": [
    "df = df[df[\"duration\"] >= 0]"
   ]
  },
  {
   "cell_type": "markdown",
   "id": "0bcbeb38",
   "metadata": {},
   "source": [
    "## title"
   ]
  },
  {
   "cell_type": "code",
   "execution_count": 12,
   "id": "4dde165b",
   "metadata": {},
   "outputs": [
    {
     "data": {
      "text/plain": [
       "0"
      ]
     },
     "execution_count": 12,
     "metadata": {},
     "output_type": "execute_result"
    }
   ],
   "source": [
    "len(df[df[\"title\"].isna()])"
   ]
  },
  {
   "cell_type": "code",
   "execution_count": 13,
   "id": "981f72ac",
   "metadata": {},
   "outputs": [
    {
     "data": {
      "text/plain": [
       "0"
      ]
     },
     "execution_count": 13,
     "metadata": {},
     "output_type": "execute_result"
    }
   ],
   "source": [
    "len(df[df[\"title\"]==\" \"])"
   ]
  },
  {
   "cell_type": "code",
   "execution_count": 14,
   "id": "fda7fb73",
   "metadata": {},
   "outputs": [
    {
     "data": {
      "text/plain": [
       "7874"
      ]
     },
     "execution_count": 14,
     "metadata": {},
     "output_type": "execute_result"
    }
   ],
   "source": [
    "len(df[\"title\"].unique())"
   ]
  },
  {
   "cell_type": "markdown",
   "id": "432d0806",
   "metadata": {},
   "source": [
    "## genres"
   ]
  },
  {
   "cell_type": "code",
   "execution_count": 15,
   "id": "c3e887f2",
   "metadata": {},
   "outputs": [
    {
     "data": {
      "text/plain": [
       "0"
      ]
     },
     "execution_count": 15,
     "metadata": {},
     "output_type": "execute_result"
    }
   ],
   "source": [
    "len(df[df[\"genres\"].isna()])"
   ]
  },
  {
   "cell_type": "code",
   "execution_count": 16,
   "id": "8039919b",
   "metadata": {},
   "outputs": [
    {
     "data": {
      "text/plain": [
       "0"
      ]
     },
     "execution_count": 16,
     "metadata": {},
     "output_type": "execute_result"
    }
   ],
   "source": [
    "len(df[df[\"genres\"]==\" \"])"
   ]
  },
  {
   "cell_type": "code",
   "execution_count": 17,
   "id": "648d4a8d",
   "metadata": {},
   "outputs": [
    {
     "data": {
      "text/plain": [
       "1184"
      ]
     },
     "execution_count": 17,
     "metadata": {},
     "output_type": "execute_result"
    }
   ],
   "source": [
    "len(df[\"genres\"].unique())"
   ]
  },
  {
   "cell_type": "code",
   "execution_count": 18,
   "id": "8e999cd1",
   "metadata": {},
   "outputs": [],
   "source": [
    "df = df[df[\"genres\"] != \"NOT AVAILABLE\"]"
   ]
  },
  {
   "cell_type": "markdown",
   "id": "ead22598",
   "metadata": {},
   "source": [
    "## release_date"
   ]
  },
  {
   "cell_type": "code",
   "execution_count": 19,
   "id": "9937d421",
   "metadata": {},
   "outputs": [
    {
     "data": {
      "text/plain": [
       "0"
      ]
     },
     "execution_count": 19,
     "metadata": {},
     "output_type": "execute_result"
    }
   ],
   "source": [
    "len(df[df[\"release_date\"].isna()])"
   ]
  },
  {
   "cell_type": "code",
   "execution_count": 20,
   "id": "5aead618",
   "metadata": {},
   "outputs": [
    {
     "data": {
      "text/plain": [
       "'1920-10-01'"
      ]
     },
     "execution_count": 20,
     "metadata": {},
     "output_type": "execute_result"
    }
   ],
   "source": [
    "min(df[\"release_date\"].unique())"
   ]
  },
  {
   "cell_type": "code",
   "execution_count": 21,
   "id": "583a93fb",
   "metadata": {},
   "outputs": [
    {
     "data": {
      "text/plain": [
       "'NOT AVAILABLE'"
      ]
     },
     "execution_count": 21,
     "metadata": {},
     "output_type": "execute_result"
    }
   ],
   "source": [
    "max(df[\"release_date\"].unique())"
   ]
  },
  {
   "cell_type": "code",
   "execution_count": 22,
   "id": "e39c480c",
   "metadata": {},
   "outputs": [],
   "source": [
    "#Get only the data since Netflix was created\n",
    "df = df[df[\"release_date\"] >= \"2007-01-16\"]\n",
    "df = df[df[\"release_date\"] != \"NOT AVAILABLE\"]"
   ]
  },
  {
   "cell_type": "markdown",
   "id": "f97d9fd1",
   "metadata": {},
   "source": [
    "## movie_id"
   ]
  },
  {
   "cell_type": "code",
   "execution_count": 23,
   "id": "4ff6f7f8",
   "metadata": {},
   "outputs": [
    {
     "data": {
      "text/plain": [
       "0"
      ]
     },
     "execution_count": 23,
     "metadata": {},
     "output_type": "execute_result"
    }
   ],
   "source": [
    "len(df[df[\"movie_id\"].isna()])"
   ]
  },
  {
   "cell_type": "code",
   "execution_count": 24,
   "id": "ac099e5d",
   "metadata": {},
   "outputs": [
    {
     "data": {
      "text/plain": [
       "5442"
      ]
     },
     "execution_count": 24,
     "metadata": {},
     "output_type": "execute_result"
    }
   ],
   "source": [
    "len(df[\"movie_id\"].unique())"
   ]
  },
  {
   "cell_type": "markdown",
   "id": "df77c637",
   "metadata": {},
   "source": [
    "## user_id"
   ]
  },
  {
   "cell_type": "code",
   "execution_count": 25,
   "id": "627110cc",
   "metadata": {},
   "outputs": [
    {
     "data": {
      "text/plain": [
       "0"
      ]
     },
     "execution_count": 25,
     "metadata": {},
     "output_type": "execute_result"
    }
   ],
   "source": [
    "len(df[df[\"user_id\"].isna()])"
   ]
  },
  {
   "cell_type": "code",
   "execution_count": 26,
   "id": "3b83f01a",
   "metadata": {},
   "outputs": [
    {
     "data": {
      "text/plain": [
       "137665"
      ]
     },
     "execution_count": 26,
     "metadata": {},
     "output_type": "execute_result"
    }
   ],
   "source": [
    "len(df[\"user_id\"].unique())"
   ]
  },
  {
   "cell_type": "code",
   "execution_count": 27,
   "id": "82255a23",
   "metadata": {},
   "outputs": [
    {
     "data": {
      "text/html": [
       "<div>\n",
       "<style scoped>\n",
       "    .dataframe tbody tr th:only-of-type {\n",
       "        vertical-align: middle;\n",
       "    }\n",
       "\n",
       "    .dataframe tbody tr th {\n",
       "        vertical-align: top;\n",
       "    }\n",
       "\n",
       "    .dataframe thead th {\n",
       "        text-align: right;\n",
       "    }\n",
       "</style>\n",
       "<table border=\"1\" class=\"dataframe\">\n",
       "  <thead>\n",
       "    <tr style=\"text-align: right;\">\n",
       "      <th></th>\n",
       "      <th>Unnamed: 0</th>\n",
       "      <th>datetime</th>\n",
       "      <th>duration</th>\n",
       "      <th>title</th>\n",
       "      <th>genres</th>\n",
       "      <th>release_date</th>\n",
       "      <th>movie_id</th>\n",
       "      <th>user_id</th>\n",
       "    </tr>\n",
       "  </thead>\n",
       "  <tbody>\n",
       "    <tr>\n",
       "      <th>0</th>\n",
       "      <td>58773</td>\n",
       "      <td>2017-01-01 01:15:09</td>\n",
       "      <td>0.0</td>\n",
       "      <td>Angus, Thongs and Perfect Snogging</td>\n",
       "      <td>Comedy, Drama, Romance</td>\n",
       "      <td>2008-07-25</td>\n",
       "      <td>26bd5987e8</td>\n",
       "      <td>1dea19f6fe</td>\n",
       "    </tr>\n",
       "    <tr>\n",
       "      <th>1</th>\n",
       "      <td>58774</td>\n",
       "      <td>2017-01-01 13:56:02</td>\n",
       "      <td>0.0</td>\n",
       "      <td>The Curse of Sleeping Beauty</td>\n",
       "      <td>Fantasy, Horror, Mystery, Thriller</td>\n",
       "      <td>2016-06-02</td>\n",
       "      <td>f26ed2675e</td>\n",
       "      <td>544dcbc510</td>\n",
       "    </tr>\n",
       "    <tr>\n",
       "      <th>2</th>\n",
       "      <td>58775</td>\n",
       "      <td>2017-01-01 15:17:47</td>\n",
       "      <td>10530.0</td>\n",
       "      <td>London Has Fallen</td>\n",
       "      <td>Action, Thriller</td>\n",
       "      <td>2016-03-04</td>\n",
       "      <td>f77e500e7a</td>\n",
       "      <td>7cbcc791bf</td>\n",
       "    </tr>\n",
       "    <tr>\n",
       "      <th>3</th>\n",
       "      <td>58776</td>\n",
       "      <td>2017-01-01 16:04:13</td>\n",
       "      <td>49.0</td>\n",
       "      <td>Vendetta</td>\n",
       "      <td>Action, Drama</td>\n",
       "      <td>2015-06-12</td>\n",
       "      <td>c74aec7673</td>\n",
       "      <td>ebf43c36b6</td>\n",
       "    </tr>\n",
       "    <tr>\n",
       "      <th>5</th>\n",
       "      <td>58778</td>\n",
       "      <td>2017-01-01 19:21:37</td>\n",
       "      <td>0.0</td>\n",
       "      <td>London Has Fallen</td>\n",
       "      <td>Action, Thriller</td>\n",
       "      <td>2016-03-04</td>\n",
       "      <td>f77e500e7a</td>\n",
       "      <td>c5bf4f3f57</td>\n",
       "    </tr>\n",
       "  </tbody>\n",
       "</table>\n",
       "</div>"
      ],
      "text/plain": [
       "   Unnamed: 0             datetime  duration  \\\n",
       "0       58773  2017-01-01 01:15:09       0.0   \n",
       "1       58774  2017-01-01 13:56:02       0.0   \n",
       "2       58775  2017-01-01 15:17:47   10530.0   \n",
       "3       58776  2017-01-01 16:04:13      49.0   \n",
       "5       58778  2017-01-01 19:21:37       0.0   \n",
       "\n",
       "                                title                              genres  \\\n",
       "0  Angus, Thongs and Perfect Snogging              Comedy, Drama, Romance   \n",
       "1        The Curse of Sleeping Beauty  Fantasy, Horror, Mystery, Thriller   \n",
       "2                   London Has Fallen                    Action, Thriller   \n",
       "3                            Vendetta                       Action, Drama   \n",
       "5                   London Has Fallen                    Action, Thriller   \n",
       "\n",
       "  release_date    movie_id     user_id  \n",
       "0   2008-07-25  26bd5987e8  1dea19f6fe  \n",
       "1   2016-06-02  f26ed2675e  544dcbc510  \n",
       "2   2016-03-04  f77e500e7a  7cbcc791bf  \n",
       "3   2015-06-12  c74aec7673  ebf43c36b6  \n",
       "5   2016-03-04  f77e500e7a  c5bf4f3f57  "
      ]
     },
     "execution_count": 27,
     "metadata": {},
     "output_type": "execute_result"
    }
   ],
   "source": [
    "df.head()"
   ]
  },
  {
   "cell_type": "markdown",
   "id": "b994e649",
   "metadata": {},
   "source": [
    "# Recommendation system"
   ]
  },
  {
   "cell_type": "code",
   "execution_count": 41,
   "id": "e43653d5",
   "metadata": {},
   "outputs": [],
   "source": [
    "rows_per_film = df.groupby('movie_id').size().reset_index(name='Number_of_clicks')\n",
    "rows_per_fil = rows_per_film[rows_per_film[\"Number_of_clicks\"] > 10]\n",
    "movie_genre = pd.merge(rows_per_film, df, on = \"movie_id\", how = \"inner\")\n",
    "movie_genre = movie_genre[[\"user_id\", \"genres\"]].drop_duplicates()\n",
    "movie_genre[\"genres\"] = movie_genre[\"genres\"].apply(lambda x : x.split(\", \"))"
   ]
  },
  {
   "cell_type": "code",
   "execution_count": 44,
   "id": "5604f231",
   "metadata": {},
   "outputs": [
    {
     "data": {
      "text/html": [
       "<div>\n",
       "<style scoped>\n",
       "    .dataframe tbody tr th:only-of-type {\n",
       "        vertical-align: middle;\n",
       "    }\n",
       "\n",
       "    .dataframe tbody tr th {\n",
       "        vertical-align: top;\n",
       "    }\n",
       "\n",
       "    .dataframe thead th {\n",
       "        text-align: right;\n",
       "    }\n",
       "</style>\n",
       "<table border=\"1\" class=\"dataframe\">\n",
       "  <thead>\n",
       "    <tr style=\"text-align: right;\">\n",
       "      <th></th>\n",
       "      <th>user_id</th>\n",
       "      <th>genres</th>\n",
       "    </tr>\n",
       "  </thead>\n",
       "  <tbody>\n",
       "    <tr>\n",
       "      <th>0</th>\n",
       "      <td>96a9600666</td>\n",
       "      <td>[Documentary, Comedy]</td>\n",
       "    </tr>\n",
       "    <tr>\n",
       "      <th>1</th>\n",
       "      <td>065831ce4a</td>\n",
       "      <td>[Documentary, Comedy]</td>\n",
       "    </tr>\n",
       "    <tr>\n",
       "      <th>2</th>\n",
       "      <td>d6cee7e9af</td>\n",
       "      <td>[Documentary, Comedy]</td>\n",
       "    </tr>\n",
       "    <tr>\n",
       "      <th>4</th>\n",
       "      <td>33f0d36bd3</td>\n",
       "      <td>[Documentary, Comedy]</td>\n",
       "    </tr>\n",
       "    <tr>\n",
       "      <th>8</th>\n",
       "      <td>18c10ac8e5</td>\n",
       "      <td>[Action, Crime, Drama, Thriller]</td>\n",
       "    </tr>\n",
       "    <tr>\n",
       "      <th>...</th>\n",
       "      <td>...</td>\n",
       "      <td>...</td>\n",
       "    </tr>\n",
       "    <tr>\n",
       "      <th>510852</th>\n",
       "      <td>d171a73b89</td>\n",
       "      <td>[Action, Adventure, Comedy, Fantasy, Sci-Fi, T...</td>\n",
       "    </tr>\n",
       "    <tr>\n",
       "      <th>510853</th>\n",
       "      <td>7c3588e342</td>\n",
       "      <td>[Action, Adventure, Comedy, Fantasy, Sci-Fi, T...</td>\n",
       "    </tr>\n",
       "    <tr>\n",
       "      <th>510854</th>\n",
       "      <td>65c971bdec</td>\n",
       "      <td>[Action, Adventure, Comedy, Fantasy, Sci-Fi, T...</td>\n",
       "    </tr>\n",
       "    <tr>\n",
       "      <th>510855</th>\n",
       "      <td>10a9415b24</td>\n",
       "      <td>[Action, Adventure, Comedy, Fantasy, Sci-Fi, T...</td>\n",
       "    </tr>\n",
       "    <tr>\n",
       "      <th>510856</th>\n",
       "      <td>6234cfe879</td>\n",
       "      <td>[Action, Adventure, Comedy, Fantasy, Sci-Fi, T...</td>\n",
       "    </tr>\n",
       "  </tbody>\n",
       "</table>\n",
       "<p>349571 rows × 2 columns</p>\n",
       "</div>"
      ],
      "text/plain": [
       "           user_id                                             genres\n",
       "0       96a9600666                              [Documentary, Comedy]\n",
       "1       065831ce4a                              [Documentary, Comedy]\n",
       "2       d6cee7e9af                              [Documentary, Comedy]\n",
       "4       33f0d36bd3                              [Documentary, Comedy]\n",
       "8       18c10ac8e5                   [Action, Crime, Drama, Thriller]\n",
       "...            ...                                                ...\n",
       "510852  d171a73b89  [Action, Adventure, Comedy, Fantasy, Sci-Fi, T...\n",
       "510853  7c3588e342  [Action, Adventure, Comedy, Fantasy, Sci-Fi, T...\n",
       "510854  65c971bdec  [Action, Adventure, Comedy, Fantasy, Sci-Fi, T...\n",
       "510855  10a9415b24  [Action, Adventure, Comedy, Fantasy, Sci-Fi, T...\n",
       "510856  6234cfe879  [Action, Adventure, Comedy, Fantasy, Sci-Fi, T...\n",
       "\n",
       "[349571 rows x 2 columns]"
      ]
     },
     "execution_count": 44,
     "metadata": {},
     "output_type": "execute_result"
    }
   ],
   "source": [
    "movie_genre"
   ]
  },
  {
   "cell_type": "code",
   "execution_count": 61,
   "id": "058f2bac",
   "metadata": {},
   "outputs": [
    {
     "data": {
      "text/plain": [
       "['War',\n",
       " 'Action',\n",
       " 'Talk-Show',\n",
       " 'Horror',\n",
       " 'Thriller',\n",
       " 'Documentary',\n",
       " 'Reality-TV',\n",
       " 'History',\n",
       " 'Biography',\n",
       " 'Music',\n",
       " 'Family',\n",
       " 'Animation',\n",
       " 'Comedy',\n",
       " 'Sport',\n",
       " 'News',\n",
       " 'Fantasy',\n",
       " 'Short',\n",
       " 'Romance',\n",
       " 'Adventure',\n",
       " 'Sci-Fi',\n",
       " 'Drama',\n",
       " 'Musical',\n",
       " 'Mystery',\n",
       " 'Crime',\n",
       " 'Western']"
      ]
     },
     "execution_count": 61,
     "metadata": {},
     "output_type": "execute_result"
    }
   ],
   "source": [
    "list_of_genres = list(movie_genre[\"genres\"])\n",
    "unique_genres = set(genre for genres in list_of_genres for genre in genres)\n",
    "unique_genres_list = list(unique_genres)\n",
    "unique_genres_list"
   ]
  },
  {
   "cell_type": "code",
   "execution_count": 62,
   "id": "55066379",
   "metadata": {},
   "outputs": [
    {
     "name": "stdout",
     "output_type": "stream",
     "text": [
      "{'Action': 0, 'Adventure': 1, 'Animation': 2, 'Biography': 3, 'Comedy': 4, 'Crime': 5, 'Documentary': 6, 'Drama': 7, 'Family': 8, 'Fantasy': 9, 'History': 10, 'Horror': 11, 'Music': 12, 'Musical': 13, 'Mystery': 14, 'News': 15, 'Reality-TV': 16, 'Romance': 17, 'Sci-Fi': 18, 'Short': 19, 'Sport': 20, 'Talk-Show': 21, 'Thriller': 22, 'War': 23, 'Western': 24}\n"
     ]
    }
   ],
   "source": [
    "# Create a dictionary with genre as key and corresponding number as value\n",
    "genre_dict = {genre: i for i, genre in enumerate(sorted(unique_genres_list))}\n",
    "\n",
    "# Print the resulting dictionary\n",
    "print(genre_dict)"
   ]
  },
  {
   "cell_type": "code",
   "execution_count": 63,
   "id": "da9f31cc",
   "metadata": {},
   "outputs": [],
   "source": [
    "users = movie_genre[\"user_id\"].unique()\n",
    "users_dict = {user: i for i, user in enumerate(sorted(users))}"
   ]
  },
  {
   "cell_type": "code",
   "execution_count": 64,
   "id": "e7118014",
   "metadata": {},
   "outputs": [
    {
     "data": {
      "text/plain": [
       "{'000052a0a0': 0,\n",
       " '000090e7c8': 1,\n",
       " '000296842d': 2,\n",
       " '0002aab109': 3,\n",
       " '0002abf14f': 4,\n",
       " '0002d1c4b1': 5,\n",
       " '0005c8fbac': 6,\n",
       " '0005d9a8f4': 7,\n",
       " '0006b97ace': 8,\n",
       " '0006e547fc': 9,\n",
       " '0006ea6b5c': 10,\n",
       " '00071a0dfb': 11,\n",
       " '0007fc8621': 12,\n",
       " '000800c223': 13,\n",
       " '00087625aa': 14,\n",
       " '0008c31833': 15,\n",
       " '0008d919a5': 16,\n",
       " '000a3ec774': 17,\n",
       " '000b048ccf': 18,\n",
       " '000b217ed0': 19,\n",
       " '000b3fbc4e': 20,\n",
       " '000b4a3b02': 21,\n",
       " '000c785b0a': 22,\n",
       " '000ce80153': 23,\n",
       " '000de1ca63': 24,\n",
       " '000f073c97': 25,\n",
       " '000fd42216': 26,\n",
       " '0010181969': 27,\n",
       " '001067d167': 28,\n",
       " '0011f2035b': 29,\n",
       " '00124b8483': 30,\n",
       " '0012a3424e': 31,\n",
       " '0012a95d5f': 32,\n",
       " '0012bde289': 33,\n",
       " '0012daeac7': 34,\n",
       " '0013a2953e': 35,\n",
       " '0013d3412e': 36,\n",
       " '0014db9c5e': 37,\n",
       " '0016c962c8': 38,\n",
       " '001723de35': 39,\n",
       " '00173f2eaf': 40,\n",
       " '00176a8729': 41,\n",
       " '0018190564': 42,\n",
       " '00184fcc7f': 43,\n",
       " '001867cb3c': 44,\n",
       " '001916d8b3': 45,\n",
       " '0019989273': 46,\n",
       " '0019a31164': 47,\n",
       " '0019b29bcf': 48,\n",
       " '001b006cf8': 49,\n",
       " '001b9ab1df': 50,\n",
       " '001bc7d2af': 51,\n",
       " '001c212529': 52,\n",
       " '001c2830c0': 53,\n",
       " '001cff7648': 54,\n",
       " '001dcdbf03': 55,\n",
       " '001e1c564c': 56,\n",
       " '001ecc53cf': 57,\n",
       " '001f0fde40': 58,\n",
       " '001f4c9be6': 59,\n",
       " '001f977ccb': 60,\n",
       " '00213bceb7': 61,\n",
       " '00216f4e8b': 62,\n",
       " '0021a37bd7': 63,\n",
       " '00234bc910': 64,\n",
       " '0023c379c9': 65,\n",
       " '0023e9b95e': 66,\n",
       " '002531025e': 67,\n",
       " '00255ba444': 68,\n",
       " '0025857936': 69,\n",
       " '00273c3294': 70,\n",
       " '00277a47cb': 71,\n",
       " '0027b28319': 72,\n",
       " '0028e40c53': 73,\n",
       " '0029f6bb1e': 74,\n",
       " '002a44fa97': 75,\n",
       " '002a6dde9f': 76,\n",
       " '002aa52f69': 77,\n",
       " '002af8b206': 78,\n",
       " '002cb45f85': 79,\n",
       " '002d4969b0': 80,\n",
       " '002d7f97cc': 81,\n",
       " '002db8700c': 82,\n",
       " '002e8bd418': 83,\n",
       " '002eb32b65': 84,\n",
       " '002ee1e81d': 85,\n",
       " '002f17dcb5': 86,\n",
       " '00305e5c73': 87,\n",
       " '003103393e': 88,\n",
       " '0031f8f6d5': 89,\n",
       " '00323615db': 90,\n",
       " '00324fd815': 91,\n",
       " '0032ff643c': 92,\n",
       " '0033621d30': 93,\n",
       " '003471c936': 94,\n",
       " '00348f9452': 95,\n",
       " '0034d5ca8e': 96,\n",
       " '0035ee6924': 97,\n",
       " '00373bb1cd': 98,\n",
       " '0037a766be': 99,\n",
       " '0038add6c2': 100,\n",
       " '0038de1849': 101,\n",
       " '0039bd055a': 102,\n",
       " '003a1afa21': 103,\n",
       " '003a3c6c6b': 104,\n",
       " '003aaaffef': 105,\n",
       " '003b28eaa8': 106,\n",
       " '003b3349e7': 107,\n",
       " '003ba7c53c': 108,\n",
       " '003c10c11e': 109,\n",
       " '003c37d98a': 110,\n",
       " '003cdf311c': 111,\n",
       " '003e1967d3': 112,\n",
       " '003e4ea440': 113,\n",
       " '003ee4c8ac': 114,\n",
       " '003f26e082': 115,\n",
       " '003f284d74': 116,\n",
       " '003f37748e': 117,\n",
       " '003f88bd2f': 118,\n",
       " '003f8baf7d': 119,\n",
       " '0040072549': 120,\n",
       " '0040a74430': 121,\n",
       " '004115ca19': 122,\n",
       " '0041b9271c': 123,\n",
       " '0041defaa6': 124,\n",
       " '00429dbdde': 125,\n",
       " '004346d453': 126,\n",
       " '00443e8ce4': 127,\n",
       " '0044be610f': 128,\n",
       " '00451b004e': 129,\n",
       " '00453e3343': 130,\n",
       " '0045bdc759': 131,\n",
       " '0046ed5ee4': 132,\n",
       " '0046fd8de9': 133,\n",
       " '00483e4cf1': 134,\n",
       " '00486acf59': 135,\n",
       " '0048a04169': 136,\n",
       " '0048a5e831': 137,\n",
       " '0048d1b356': 138,\n",
       " '0049850914': 139,\n",
       " '0049ec87b3': 140,\n",
       " '004ad258d2': 141,\n",
       " '004b02678f': 142,\n",
       " '004b29faea': 143,\n",
       " '004b435139': 144,\n",
       " '004b83d947': 145,\n",
       " '004c6d23c6': 146,\n",
       " '004c7e8683': 147,\n",
       " '004e33f215': 148,\n",
       " '004ec60cc4': 149,\n",
       " '004f180e8d': 150,\n",
       " '004f54b636': 151,\n",
       " '004fe4231c': 152,\n",
       " '0050538df0': 153,\n",
       " '005127ab4d': 154,\n",
       " '0051357984': 155,\n",
       " '005228d104': 156,\n",
       " '00524cb207': 157,\n",
       " '005274c469': 158,\n",
       " '0052c1b260': 159,\n",
       " '0053258fd8': 160,\n",
       " '005345b749': 161,\n",
       " '00536a1b96': 162,\n",
       " '0054766cf0': 163,\n",
       " '005478c5c1': 164,\n",
       " '005482e6d0': 165,\n",
       " '005589d755': 166,\n",
       " '0055b82348': 167,\n",
       " '00560e2a32': 168,\n",
       " '00562c9192': 169,\n",
       " '005644664c': 170,\n",
       " '0056828dd6': 171,\n",
       " '0056b89bb1': 172,\n",
       " '0056b8bf55': 173,\n",
       " '0057726eb9': 174,\n",
       " '005781d0eb': 175,\n",
       " '0059515a5c': 176,\n",
       " '005a1eaf72': 177,\n",
       " '005bdb9988': 178,\n",
       " '005bf2853a': 179,\n",
       " '005c24122f': 180,\n",
       " '005c38307d': 181,\n",
       " '005c52c04d': 182,\n",
       " '005ca5b992': 183,\n",
       " '005ca94b66': 184,\n",
       " '005cb64823': 185,\n",
       " '005ccd729f': 186,\n",
       " '005daad827': 187,\n",
       " '005e3d04d7': 188,\n",
       " '005e9c8542': 189,\n",
       " '005f639f10': 190,\n",
       " '005f767d3a': 191,\n",
       " '005fc68637': 192,\n",
       " '005fdb4157': 193,\n",
       " '005ff4316a': 194,\n",
       " '0060324ef4': 195,\n",
       " '006055aaa7': 196,\n",
       " '0060d979ca': 197,\n",
       " '0061088dc2': 198,\n",
       " '00611fa420': 199,\n",
       " '00612c8566': 200,\n",
       " '00616660a5': 201,\n",
       " '006195bda1': 202,\n",
       " '0061a158dd': 203,\n",
       " '0064014f1f': 204,\n",
       " '00640cf009': 205,\n",
       " '00643949e8': 206,\n",
       " '00643f896f': 207,\n",
       " '00649ccb98': 208,\n",
       " '006601eed3': 209,\n",
       " '006604a9aa': 210,\n",
       " '0066697964': 211,\n",
       " '0066962617': 212,\n",
       " '00675a5356': 213,\n",
       " '006769af05': 214,\n",
       " '0068923551': 215,\n",
       " '0068ddfa9c': 216,\n",
       " '00691f60a9': 217,\n",
       " '00696620d5': 218,\n",
       " '0069d40a62': 219,\n",
       " '006a127a21': 220,\n",
       " '006a3de18e': 221,\n",
       " '006b407991': 222,\n",
       " '006c65ab91': 223,\n",
       " '006ca8e43e': 224,\n",
       " '006cbfa99f': 225,\n",
       " '006ce4925e': 226,\n",
       " '006d1b4926': 227,\n",
       " '006dda58d9': 228,\n",
       " '006e908d1a': 229,\n",
       " '0070331687': 230,\n",
       " '0070508072': 231,\n",
       " '00705abd2b': 232,\n",
       " '00707cf8c1': 233,\n",
       " '00716a259a': 234,\n",
       " '007217a0a1': 235,\n",
       " '0072b8b0c6': 236,\n",
       " '0072c602b9': 237,\n",
       " '0075425217': 238,\n",
       " '00759b0667': 239,\n",
       " '007663b5b4': 240,\n",
       " '0077eedbbd': 241,\n",
       " '0078164cb8': 242,\n",
       " '00785ff70b': 243,\n",
       " '0079b390c2': 244,\n",
       " '007ae0d6c2': 245,\n",
       " '007b059ca0': 246,\n",
       " '007b1aab48': 247,\n",
       " '007b612d73': 248,\n",
       " '007bd69fa3': 249,\n",
       " '007be0a9ea': 250,\n",
       " '007c20b4db': 251,\n",
       " '007cf58b88': 252,\n",
       " '007d893f46': 253,\n",
       " '007dfa18db': 254,\n",
       " '007e0ea341': 255,\n",
       " '007eb86af1': 256,\n",
       " '007f5648cd': 257,\n",
       " '007ffe650d': 258,\n",
       " '00810c3a51': 259,\n",
       " '00818d2889': 260,\n",
       " '0081e68225': 261,\n",
       " '0082968672': 262,\n",
       " '0082efd082': 263,\n",
       " '0083593346': 264,\n",
       " '0083a1487e': 265,\n",
       " '0084011542': 266,\n",
       " '00841982d7': 267,\n",
       " '00847b2099': 268,\n",
       " '008499a7c1': 269,\n",
       " '0084c68ae0': 270,\n",
       " '00860ada81': 271,\n",
       " '00861d072c': 272,\n",
       " '008934f23f': 273,\n",
       " '00893a0877': 274,\n",
       " '00894a66a4': 275,\n",
       " '008a74fea7': 276,\n",
       " '008b1a1036': 277,\n",
       " '008c520aac': 278,\n",
       " '008c841295': 279,\n",
       " '008c9c5195': 280,\n",
       " '008d707612': 281,\n",
       " '008da4bf25': 282,\n",
       " '008e09942a': 283,\n",
       " '008f3e05e6': 284,\n",
       " '008f4291ae': 285,\n",
       " '008fecf30c': 286,\n",
       " '009026ad55': 287,\n",
       " '00903f233e': 288,\n",
       " '009059a982': 289,\n",
       " '0091680b56': 290,\n",
       " '00926af4d0': 291,\n",
       " '009278c12b': 292,\n",
       " '0092c92893': 293,\n",
       " '0092efa6cb': 294,\n",
       " '0093154022': 295,\n",
       " '00932537f4': 296,\n",
       " '00938d1bb7': 297,\n",
       " '0093c6eb31': 298,\n",
       " '0093f515c7': 299,\n",
       " '00945e0131': 300,\n",
       " '009472a0e9': 301,\n",
       " '0095b6f90e': 302,\n",
       " '0096b51e79': 303,\n",
       " '00977f7436': 304,\n",
       " '00987cca45': 305,\n",
       " '0098d51627': 306,\n",
       " '00990d8efa': 307,\n",
       " '0099f98824': 308,\n",
       " '009a27a88e': 309,\n",
       " '009a29eaa9': 310,\n",
       " '009a2e9bb3': 311,\n",
       " '009bfc0228': 312,\n",
       " '009caca265': 313,\n",
       " '009d1b0dc3': 314,\n",
       " '009d692494': 315,\n",
       " '009e0a4dce': 316,\n",
       " '009e223b09': 317,\n",
       " '009ea8b28a': 318,\n",
       " '009ec2281e': 319,\n",
       " '009f31041b': 320,\n",
       " '009fbf5c97': 321,\n",
       " '00a0217c7f': 322,\n",
       " '00a03bf87a': 323,\n",
       " '00a03cc241': 324,\n",
       " '00a096d3b5': 325,\n",
       " '00a0f0d3cf': 326,\n",
       " '00a2b72aae': 327,\n",
       " '00a3355bb0': 328,\n",
       " '00a33e29fd': 329,\n",
       " '00a3c402c3': 330,\n",
       " '00a41df739': 331,\n",
       " '00a43348e0': 332,\n",
       " '00a4ca5363': 333,\n",
       " '00a5c21a4a': 334,\n",
       " '00a70f8b01': 335,\n",
       " '00a7740ea4': 336,\n",
       " '00a79c7a87': 337,\n",
       " '00a7c1864f': 338,\n",
       " '00a92407ff': 339,\n",
       " '00aa1c965d': 340,\n",
       " '00aaa01a70': 341,\n",
       " '00aaac6709': 342,\n",
       " '00ab303740': 343,\n",
       " '00abd552b9': 344,\n",
       " '00ac6742bc': 345,\n",
       " '00acaae9c6': 346,\n",
       " '00ad2031d7': 347,\n",
       " '00ad2e6e21': 348,\n",
       " '00ae16d6ac': 349,\n",
       " '00ae9c37f0': 350,\n",
       " '00aef851f1': 351,\n",
       " '00afc48569': 352,\n",
       " '00b028f9cc': 353,\n",
       " '00b0e7ca6e': 354,\n",
       " '00b0fcea85': 355,\n",
       " '00b1267cdd': 356,\n",
       " '00b177d137': 357,\n",
       " '00b1ada326': 358,\n",
       " '00b1df210d': 359,\n",
       " '00b1eb1857': 360,\n",
       " '00b2425224': 361,\n",
       " '00b2c53137': 362,\n",
       " '00b3c5fb1e': 363,\n",
       " '00b3cce130': 364,\n",
       " '00b45f0d3a': 365,\n",
       " '00b57104f1': 366,\n",
       " '00b58e8890': 367,\n",
       " '00b5e2b63a': 368,\n",
       " '00b5f4578a': 369,\n",
       " '00b707a64f': 370,\n",
       " '00b77478a4': 371,\n",
       " '00b799c7e2': 372,\n",
       " '00b7b2be6c': 373,\n",
       " '00b80cfc56': 374,\n",
       " '00b87e6666': 375,\n",
       " '00b88bd923': 376,\n",
       " '00b88e6abe': 377,\n",
       " '00b8a129d9': 378,\n",
       " '00b8e5b840': 379,\n",
       " '00b8f1aa7a': 380,\n",
       " '00b906d761': 381,\n",
       " '00b9415232': 382,\n",
       " '00b95e7c5f': 383,\n",
       " '00b963173a': 384,\n",
       " '00b97c2b01': 385,\n",
       " '00b990f620': 386,\n",
       " '00b9baaaaa': 387,\n",
       " '00ba0d6071': 388,\n",
       " '00ba8faf64': 389,\n",
       " '00bab8f050': 390,\n",
       " '00bb78ae01': 391,\n",
       " '00bbec9a8a': 392,\n",
       " '00bc1f4313': 393,\n",
       " '00bc451caa': 394,\n",
       " '00bcc79e3f': 395,\n",
       " '00bcf9427a': 396,\n",
       " '00bd5abb87': 397,\n",
       " '00bf51281c': 398,\n",
       " '00bf97f7be': 399,\n",
       " '00c02496b9': 400,\n",
       " '00c0c362d4': 401,\n",
       " '00c0dc79ea': 402,\n",
       " '00c10cd87c': 403,\n",
       " '00c1a1628b': 404,\n",
       " '00c257f761': 405,\n",
       " '00c2a286c6': 406,\n",
       " '00c2c996e0': 407,\n",
       " '00c49bc52b': 408,\n",
       " '00c4f1d020': 409,\n",
       " '00c502d179': 410,\n",
       " '00c52766ca': 411,\n",
       " '00c5fd24a9': 412,\n",
       " '00c6ced808': 413,\n",
       " '00c73810a0': 414,\n",
       " '00c74bfdf3': 415,\n",
       " '00c803d87b': 416,\n",
       " '00c80f5a39': 417,\n",
       " '00c814bc94': 418,\n",
       " '00c8b9c09d': 419,\n",
       " '00c922d025': 420,\n",
       " '00c940c4b7': 421,\n",
       " '00c9974323': 422,\n",
       " '00c9b57a8c': 423,\n",
       " '00ca1056de': 424,\n",
       " '00ca79b781': 425,\n",
       " '00ca88823f': 426,\n",
       " '00cab4b097': 427,\n",
       " '00cbeebb4a': 428,\n",
       " '00cbf4da24': 429,\n",
       " '00cc24ff3c': 430,\n",
       " '00cc9c0ffe': 431,\n",
       " '00cd4480f9': 432,\n",
       " '00cd758eb0': 433,\n",
       " '00ce051984': 434,\n",
       " '00ce21e825': 435,\n",
       " '00ce2f7664': 436,\n",
       " '00cea7049d': 437,\n",
       " '00cf0ca746': 438,\n",
       " '00cf8e9d31': 439,\n",
       " '00cf97008c': 440,\n",
       " '00d11b8c6f': 441,\n",
       " '00d14a7ad3': 442,\n",
       " '00d1b218f6': 443,\n",
       " '00d1bba3ad': 444,\n",
       " '00d34e834a': 445,\n",
       " '00d3ad38ba': 446,\n",
       " '00d5af98e1': 447,\n",
       " '00d5dd2fae': 448,\n",
       " '00d66bda48': 449,\n",
       " '00d681ba15': 450,\n",
       " '00d69c75bf': 451,\n",
       " '00d6abe646': 452,\n",
       " '00d7951c3e': 453,\n",
       " '00d7e20c4a': 454,\n",
       " '00d7f5b7dd': 455,\n",
       " '00d876410c': 456,\n",
       " '00d8d9d494': 457,\n",
       " '00d92f0b1a': 458,\n",
       " '00d94c4fbc': 459,\n",
       " '00d99e7d17': 460,\n",
       " '00db33591c': 461,\n",
       " '00db455434': 462,\n",
       " '00dba086a0': 463,\n",
       " '00dbaaa130': 464,\n",
       " '00dc0b77bd': 465,\n",
       " '00dc1c0301': 466,\n",
       " '00dc7551d2': 467,\n",
       " '00dc8c6ffb': 468,\n",
       " '00dedcb7a8': 469,\n",
       " '00df076ab1': 470,\n",
       " '00df2aa841': 471,\n",
       " '00df9935c0': 472,\n",
       " '00dfaadf09': 473,\n",
       " '00dff6e57e': 474,\n",
       " '00dffb958a': 475,\n",
       " '00e026352e': 476,\n",
       " '00e069e2a6': 477,\n",
       " '00e09ded2f': 478,\n",
       " '00e110b37e': 479,\n",
       " '00e3a62319': 480,\n",
       " '00e3fd728c': 481,\n",
       " '00e423991e': 482,\n",
       " '00e43d7dcb': 483,\n",
       " '00e4c6e28a': 484,\n",
       " '00e4d08f81': 485,\n",
       " '00e4db56f2': 486,\n",
       " '00e53d7542': 487,\n",
       " '00e5493fc1': 488,\n",
       " '00e5b89b49': 489,\n",
       " '00e812eb6f': 490,\n",
       " '00ea71d302': 491,\n",
       " '00eb422a54': 492,\n",
       " '00eb8ac714': 493,\n",
       " '00ec471806': 494,\n",
       " '00ecfb5d47': 495,\n",
       " '00ed30f265': 496,\n",
       " '00ed316f46': 497,\n",
       " '00edd6b98d': 498,\n",
       " '00eeb30bd2': 499,\n",
       " '00eee148b1': 500,\n",
       " '00ef32f51b': 501,\n",
       " '00f005ff57': 502,\n",
       " '00f08200f6': 503,\n",
       " '00f0935bb1': 504,\n",
       " '00f10434f6': 505,\n",
       " '00f2ecc72d': 506,\n",
       " '00f3268618': 507,\n",
       " '00f328def6': 508,\n",
       " '00f368870c': 509,\n",
       " '00f4548bff': 510,\n",
       " '00f45c22d2': 511,\n",
       " '00f49dca0d': 512,\n",
       " '00f501a8eb': 513,\n",
       " '00f5027771': 514,\n",
       " '00f52e3ab5': 515,\n",
       " '00f5a8b231': 516,\n",
       " '00f5b1da24': 517,\n",
       " '00f631f838': 518,\n",
       " '00f63ac884': 519,\n",
       " '00f656ba92': 520,\n",
       " '00f77ec765': 521,\n",
       " '00f7d72f47': 522,\n",
       " '00f7fa9e9a': 523,\n",
       " '00f8337700': 524,\n",
       " '00f86ba072': 525,\n",
       " '00f8c4b6a8': 526,\n",
       " '00f8d077fe': 527,\n",
       " '00f8ecde85': 528,\n",
       " '00f915f3a0': 529,\n",
       " '00f945ff11': 530,\n",
       " '00f9d6e82c': 531,\n",
       " '00fa0fffca': 532,\n",
       " '00fa9d931c': 533,\n",
       " '00fb873765': 534,\n",
       " '00fbc7b8e3': 535,\n",
       " '00fc61d3d2': 536,\n",
       " '00fd24cc4f': 537,\n",
       " '00fde415fd': 538,\n",
       " '00fe24bab2': 539,\n",
       " '00fe57b583': 540,\n",
       " '00ff21b553': 541,\n",
       " '00ff65966b': 542,\n",
       " '00ffcbb5de': 543,\n",
       " '01006862b9': 544,\n",
       " '0100a9f121': 545,\n",
       " '0101420add': 546,\n",
       " '0101e62987': 547,\n",
       " '010396cf1f': 548,\n",
       " '01040b5dee': 549,\n",
       " '01046f74ac': 550,\n",
       " '010475d3c5': 551,\n",
       " '01047b2ae3': 552,\n",
       " '01048fc466': 553,\n",
       " '010497668d': 554,\n",
       " '0105f5e811': 555,\n",
       " '01069d937e': 556,\n",
       " '0106bd32c7': 557,\n",
       " '010789f4a0': 558,\n",
       " '010796c04a': 559,\n",
       " '0107b07e73': 560,\n",
       " '010826241d': 561,\n",
       " '01088ae48a': 562,\n",
       " '0108b84737': 563,\n",
       " '0109159c21': 564,\n",
       " '010972330a': 565,\n",
       " '0109903d25': 566,\n",
       " '010ad2511c': 567,\n",
       " '010aee4410': 568,\n",
       " '010b37a3ce': 569,\n",
       " '010b37e921': 570,\n",
       " '010b736864': 571,\n",
       " '010ba41af9': 572,\n",
       " '010c43ef9d': 573,\n",
       " '010c5e7fc9': 574,\n",
       " '010c9dcb45': 575,\n",
       " '010ce0857b': 576,\n",
       " '010ee93509': 577,\n",
       " '010fc04c17': 578,\n",
       " '01108819ce': 579,\n",
       " '0110c82cec': 580,\n",
       " '011164e595': 581,\n",
       " '01121f8c3c': 582,\n",
       " '01123ce70c': 583,\n",
       " '011259dd49': 584,\n",
       " '0112b60e27': 585,\n",
       " '0113c3d645': 586,\n",
       " '0113c75553': 587,\n",
       " '0113ee886f': 588,\n",
       " '0114cfec4d': 589,\n",
       " '0114df0e13': 590,\n",
       " '0114f517d2': 591,\n",
       " '01162b4597': 592,\n",
       " '01163a7b84': 593,\n",
       " '011640206c': 594,\n",
       " '0116aa83d2': 595,\n",
       " '0116fb346c': 596,\n",
       " '01170e0315': 597,\n",
       " '01170f081a': 598,\n",
       " '01175e0469': 599,\n",
       " '011810c3af': 600,\n",
       " '0118769171': 601,\n",
       " '0118c837a8': 602,\n",
       " '01191ae20a': 603,\n",
       " '011931b243': 604,\n",
       " '011a878b05': 605,\n",
       " '011a9a3bd0': 606,\n",
       " '011c093f43': 607,\n",
       " '011c7f17f4': 608,\n",
       " '011d7dbab9': 609,\n",
       " '011f361851': 610,\n",
       " '011f58a26b': 611,\n",
       " '011f7da8d6': 612,\n",
       " '012138ad5b': 613,\n",
       " '0122443c17': 614,\n",
       " '0122729044': 615,\n",
       " '0122b9a6d8': 616,\n",
       " '012349b140': 617,\n",
       " '01238be6b4': 618,\n",
       " '0123fe766c': 619,\n",
       " '01242a8616': 620,\n",
       " '0125155c04': 621,\n",
       " '0125834bd0': 622,\n",
       " '01261f5663': 623,\n",
       " '0126325b57': 624,\n",
       " '0126cb4d75': 625,\n",
       " '0126d342b3': 626,\n",
       " '01270a51e5': 627,\n",
       " '01271cdc19': 628,\n",
       " '01280e0efd': 629,\n",
       " '01281feccf': 630,\n",
       " '012861d675': 631,\n",
       " '012879a471': 632,\n",
       " '0128b23740': 633,\n",
       " '0128c874b6': 634,\n",
       " '0129293731': 635,\n",
       " '0129ae8da0': 636,\n",
       " '0129e70804': 637,\n",
       " '012aa940f2': 638,\n",
       " '012abd8d5b': 639,\n",
       " '012af1efdc': 640,\n",
       " '012b8082fe': 641,\n",
       " '012bd951bb': 642,\n",
       " '012bf36ba6': 643,\n",
       " '012c4eaad5': 644,\n",
       " '012c833d0b': 645,\n",
       " '012cb73d1a': 646,\n",
       " '012e68b97c': 647,\n",
       " '012ec28644': 648,\n",
       " '012ee107bd': 649,\n",
       " '012ef1a3ee': 650,\n",
       " '012f730ab4': 651,\n",
       " '012f917fc6': 652,\n",
       " '0130bb3f1e': 653,\n",
       " '0130f37b0d': 654,\n",
       " '01310ef369': 655,\n",
       " '01330d30ce': 656,\n",
       " '01337e9100': 657,\n",
       " '01339f928f': 658,\n",
       " '01352f25cf': 659,\n",
       " '01365afdb0': 660,\n",
       " '0136ab57b0': 661,\n",
       " '0136bf21f1': 662,\n",
       " '0136de30b7': 663,\n",
       " '0137a66e52': 664,\n",
       " '0137c8681a': 665,\n",
       " '01388f3fd1': 666,\n",
       " '0139057830': 667,\n",
       " '0139236b59': 668,\n",
       " '0139aa82c7': 669,\n",
       " '013a29ff99': 670,\n",
       " '013a44afa9': 671,\n",
       " '013a868bd1': 672,\n",
       " '013b9220a0': 673,\n",
       " '013c50975f': 674,\n",
       " '013cd88970': 675,\n",
       " '013cf64bc6': 676,\n",
       " '013d09e77b': 677,\n",
       " '013fe960eb': 678,\n",
       " '01408030df': 679,\n",
       " '0140ace31e': 680,\n",
       " '014125717b': 681,\n",
       " '0141349eb8': 682,\n",
       " '0141ae3d9a': 683,\n",
       " '01420c368d': 684,\n",
       " '01431a65c0': 685,\n",
       " '0143701a65': 686,\n",
       " '014395e267': 687,\n",
       " '0143c80e3d': 688,\n",
       " '01444bc48c': 689,\n",
       " '01448a06bd': 690,\n",
       " '0144f8a171': 691,\n",
       " '014503843e': 692,\n",
       " '01453ae7ef': 693,\n",
       " '0145ec2583': 694,\n",
       " '014703483f': 695,\n",
       " '0147d334bc': 696,\n",
       " '01481f7f85': 697,\n",
       " '01492fb717': 698,\n",
       " '01495f5277': 699,\n",
       " '0149964779': 700,\n",
       " '0149cf6f7d': 701,\n",
       " '014a22386f': 702,\n",
       " '014a25ea9a': 703,\n",
       " '014a490073': 704,\n",
       " '014afd2ddc': 705,\n",
       " '014cf6c97e': 706,\n",
       " '014d417313': 707,\n",
       " '014d52e48a': 708,\n",
       " '014db9dde6': 709,\n",
       " '014e6b87fd': 710,\n",
       " '014ef1ba40': 711,\n",
       " '015007f750': 712,\n",
       " '0150d54220': 713,\n",
       " '0150ed4267': 714,\n",
       " '0152088b01': 715,\n",
       " '0152950d0d': 716,\n",
       " '0152c011b7': 717,\n",
       " '015355eb8c': 718,\n",
       " '01538137d8': 719,\n",
       " '01548d31a3': 720,\n",
       " '0154bf1ef3': 721,\n",
       " '01550e6241': 722,\n",
       " '0155c2058a': 723,\n",
       " '0155e95dd4': 724,\n",
       " '01563781fc': 725,\n",
       " '0156b7b85a': 726,\n",
       " '0156eb870c': 727,\n",
       " '0156f19db0': 728,\n",
       " '015731d3c0': 729,\n",
       " '0158a549e1': 730,\n",
       " '015948df4b': 731,\n",
       " '0159a7ad9e': 732,\n",
       " '015a3e1f9e': 733,\n",
       " '015af25230': 734,\n",
       " '015b3e4b48': 735,\n",
       " '015ba96716': 736,\n",
       " '015bf5dba3': 737,\n",
       " '015bf8492c': 738,\n",
       " '015c31b824': 739,\n",
       " '015c8eb912': 740,\n",
       " '015cd9db58': 741,\n",
       " '015d339273': 742,\n",
       " '015d553732': 743,\n",
       " '015d8c82eb': 744,\n",
       " '015de2bafa': 745,\n",
       " '015ed081fa': 746,\n",
       " '015fcb2f02': 747,\n",
       " '016116a834': 748,\n",
       " '0161ab16d5': 749,\n",
       " '0161bdb5f2': 750,\n",
       " '01620848dd': 751,\n",
       " '01627a7993': 752,\n",
       " '0162a3adeb': 753,\n",
       " '01637fadfa': 754,\n",
       " '0164865a9f': 755,\n",
       " '0165ef091e': 756,\n",
       " '0166079926': 757,\n",
       " '0166c1abb1': 758,\n",
       " '016710e3aa': 759,\n",
       " '0167b6bd7e': 760,\n",
       " '0168205e68': 761,\n",
       " '0169734df8': 762,\n",
       " '0169dc63b1': 763,\n",
       " '016a3dc78b': 764,\n",
       " '016a3ffbf8': 765,\n",
       " '016b3f257d': 766,\n",
       " '016bc2c965': 767,\n",
       " '016bebd06b': 768,\n",
       " '016c1ec72c': 769,\n",
       " '016c81638e': 770,\n",
       " '016d0ea940': 771,\n",
       " '016d617846': 772,\n",
       " '016d8ea6a0': 773,\n",
       " '016dcd951a': 774,\n",
       " '016e01b415': 775,\n",
       " '016e13bca1': 776,\n",
       " '016e48ab7b': 777,\n",
       " '016e6a0b3b': 778,\n",
       " '016ecc98f8': 779,\n",
       " '016ed7ef02': 780,\n",
       " '016f61f44c': 781,\n",
       " '016f691c8f': 782,\n",
       " '0170141692': 783,\n",
       " '01701662b3': 784,\n",
       " '017035b388': 785,\n",
       " '0170386934': 786,\n",
       " '0170b55f6b': 787,\n",
       " '0171813d9e': 788,\n",
       " '0171b25d03': 789,\n",
       " '0172554b7d': 790,\n",
       " '017324d6f9': 791,\n",
       " '017344580a': 792,\n",
       " '01743cb37a': 793,\n",
       " '0175120e32': 794,\n",
       " '017618a854': 795,\n",
       " '01762c8b94': 796,\n",
       " '017679cdd7': 797,\n",
       " '0176c39530': 798,\n",
       " '01776bdf1f': 799,\n",
       " '01783512d6': 800,\n",
       " '0178b8055b': 801,\n",
       " '0178e6bd1a': 802,\n",
       " '0179d48725': 803,\n",
       " '0179f00113': 804,\n",
       " '017a1aa55f': 805,\n",
       " '017a5ab298': 806,\n",
       " '017b92de3d': 807,\n",
       " '017be84afe': 808,\n",
       " '017c774635': 809,\n",
       " '017c8901d5': 810,\n",
       " '017d60e738': 811,\n",
       " '017d6a7d21': 812,\n",
       " '017e183248': 813,\n",
       " '017e610d1c': 814,\n",
       " '017fad156e': 815,\n",
       " '017fc55a4e': 816,\n",
       " '0180d73a43': 817,\n",
       " '0180de594b': 818,\n",
       " '0181f01577': 819,\n",
       " '01821a0630': 820,\n",
       " '018221d4c1': 821,\n",
       " '01822777e2': 822,\n",
       " '0182374a04': 823,\n",
       " '0182c1f89d': 824,\n",
       " '0182cd682a': 825,\n",
       " '0182d6ef53': 826,\n",
       " '0184a4a7b3': 827,\n",
       " '018568db14': 828,\n",
       " '0187502090': 829,\n",
       " '0187b23903': 830,\n",
       " '0187fe5129': 831,\n",
       " '018844a9b2': 832,\n",
       " '018875dd45': 833,\n",
       " '0188afdaf7': 834,\n",
       " '0188cd48e0': 835,\n",
       " '018956e834': 836,\n",
       " '018b9e8ef6': 837,\n",
       " '018c2934c0': 838,\n",
       " '018ccedfd0': 839,\n",
       " '018ce7aa20': 840,\n",
       " '018d29ed79': 841,\n",
       " '018d7605c0': 842,\n",
       " '018e290a43': 843,\n",
       " '018e45d71c': 844,\n",
       " '018e4f41e6': 845,\n",
       " '018e656020': 846,\n",
       " '018eb07912': 847,\n",
       " '018f2dcf08': 848,\n",
       " '018f41e35a': 849,\n",
       " '018f42f528': 850,\n",
       " '018f7d4021': 851,\n",
       " '01908e65f4': 852,\n",
       " '0190ec8fb2': 853,\n",
       " '01921410c9': 854,\n",
       " '0192bd515e': 855,\n",
       " '01930c3a60': 856,\n",
       " '0193789a8a': 857,\n",
       " '0194a01c68': 858,\n",
       " '0194bbfd31': 859,\n",
       " '0194fbe8b7': 860,\n",
       " '0195770c65': 861,\n",
       " '01963852eb': 862,\n",
       " '019653b89a': 863,\n",
       " '01972f1ad1': 864,\n",
       " '01979c3563': 865,\n",
       " '0198bde80a': 866,\n",
       " '019a6a3cf9': 867,\n",
       " '019b0c3eec': 868,\n",
       " '019b2cc025': 869,\n",
       " '019bf89916': 870,\n",
       " '019c1c1ba7': 871,\n",
       " '019c2a729f': 872,\n",
       " '019c50ca6e': 873,\n",
       " '019c71dd33': 874,\n",
       " '019ca50277': 875,\n",
       " '019d644395': 876,\n",
       " '019e0da987': 877,\n",
       " '019e57424f': 878,\n",
       " '01a060f388': 879,\n",
       " '01a11b82e9': 880,\n",
       " '01a1b9af86': 881,\n",
       " '01a2249472': 882,\n",
       " '01a393d51b': 883,\n",
       " '01a4064785': 884,\n",
       " '01a411fffd': 885,\n",
       " '01a5397dc0': 886,\n",
       " '01a58a9ae0': 887,\n",
       " '01a592c3b9': 888,\n",
       " '01a6ff042c': 889,\n",
       " '01a7b2b8d0': 890,\n",
       " '01a85d191a': 891,\n",
       " '01a881cf7e': 892,\n",
       " '01a89b91a6': 893,\n",
       " '01a90f0e6b': 894,\n",
       " '01a9e3b935': 895,\n",
       " '01aa06d836': 896,\n",
       " '01aa12e658': 897,\n",
       " '01aa4e8054': 898,\n",
       " '01aac6318a': 899,\n",
       " '01ab0ca021': 900,\n",
       " '01ab31f621': 901,\n",
       " '01ab40d8c0': 902,\n",
       " '01ab8fdaba': 903,\n",
       " '01ab9c7099': 904,\n",
       " '01abe4be26': 905,\n",
       " '01acab0edd': 906,\n",
       " '01ad3d496d': 907,\n",
       " '01ad3d7b6c': 908,\n",
       " '01ad654ca8': 909,\n",
       " '01adcaf05e': 910,\n",
       " '01adee23c7': 911,\n",
       " '01adfed596': 912,\n",
       " '01af9e185a': 913,\n",
       " '01aff265b1': 914,\n",
       " '01b05259b4': 915,\n",
       " '01b147ad74': 916,\n",
       " '01b1b39945': 917,\n",
       " '01b1eeaecd': 918,\n",
       " '01b2d91d98': 919,\n",
       " '01b3fecfac': 920,\n",
       " '01b4d77226': 921,\n",
       " '01b4e0785c': 922,\n",
       " '01b5b53f6b': 923,\n",
       " '01b5db3fb8': 924,\n",
       " '01b6089b45': 925,\n",
       " '01b61b8b08': 926,\n",
       " '01b61dc996': 927,\n",
       " '01b63bc744': 928,\n",
       " '01b68c867e': 929,\n",
       " '01b6976487': 930,\n",
       " '01b70e5931': 931,\n",
       " '01b7a02b90': 932,\n",
       " '01b7bd9702': 933,\n",
       " '01b8143546': 934,\n",
       " '01b9e2ead7': 935,\n",
       " '01bbe33ab7': 936,\n",
       " '01bc1cbb71': 937,\n",
       " '01bc66b35c': 938,\n",
       " '01bc79daa3': 939,\n",
       " '01bcbb78b0': 940,\n",
       " '01bd683666': 941,\n",
       " '01bd8d76f7': 942,\n",
       " '01bd9f8771': 943,\n",
       " '01bddae628': 944,\n",
       " '01be714648': 945,\n",
       " '01bea2d2dc': 946,\n",
       " '01bf15f2b6': 947,\n",
       " '01c00d4210': 948,\n",
       " '01c0dd0ea8': 949,\n",
       " '01c19ea263': 950,\n",
       " '01c2561bc9': 951,\n",
       " '01c2698014': 952,\n",
       " '01c2915c90': 953,\n",
       " '01c2a85990': 954,\n",
       " '01c34aca7e': 955,\n",
       " '01c3645304': 956,\n",
       " '01c3b7ad1e': 957,\n",
       " '01c3eb32ec': 958,\n",
       " '01c4080208': 959,\n",
       " '01c517fc07': 960,\n",
       " '01c59d55b1': 961,\n",
       " '01c60048a5': 962,\n",
       " '01c6382c49': 963,\n",
       " '01c6d97990': 964,\n",
       " '01c7d06077': 965,\n",
       " '01c8098eb6': 966,\n",
       " '01c8aeb5c2': 967,\n",
       " '01c9347fee': 968,\n",
       " '01c990465b': 969,\n",
       " '01c9ac8d97': 970,\n",
       " '01c9fabfca': 971,\n",
       " '01cacc5d1e': 972,\n",
       " '01cbfb1e8d': 973,\n",
       " '01ccdd9ea8': 974,\n",
       " '01cce82db7': 975,\n",
       " '01ccee1804': 976,\n",
       " '01cd7e60db': 977,\n",
       " '01ce4cad0b': 978,\n",
       " '01ce7f71aa': 979,\n",
       " '01ceee8855': 980,\n",
       " '01cf72efdc': 981,\n",
       " '01cf949d79': 982,\n",
       " '01d01016b8': 983,\n",
       " '01d024e9bc': 984,\n",
       " '01d073e218': 985,\n",
       " '01d112ff68': 986,\n",
       " '01d1bec624': 987,\n",
       " '01d2515cc2': 988,\n",
       " '01d3387d72': 989,\n",
       " '01d3f3fd10': 990,\n",
       " '01d4aea60d': 991,\n",
       " '01d540f574': 992,\n",
       " '01d5688a54': 993,\n",
       " '01d571de6f': 994,\n",
       " '01d5a545a2': 995,\n",
       " '01d5a92080': 996,\n",
       " '01d5b03a94': 997,\n",
       " '01d5e104fc': 998,\n",
       " '01d6e2e53f': 999,\n",
       " ...}"
      ]
     },
     "execution_count": 64,
     "metadata": {},
     "output_type": "execute_result"
    }
   ],
   "source": [
    "users_dict"
   ]
  },
  {
   "cell_type": "code",
   "execution_count": 207,
   "id": "799b6820",
   "metadata": {},
   "outputs": [],
   "source": [
    "rows = len(genre_dict)\n",
    "cols = len(users_dict)\n",
    "df_shape = movie_genre.shape[0]\n",
    "matrix_representation = np.zeros((rows, cols + 1), dtype = int)"
   ]
  },
  {
   "cell_type": "code",
   "execution_count": 208,
   "id": "a9442233",
   "metadata": {},
   "outputs": [],
   "source": [
    "for i in range(df_shape):    \n",
    "    user = movie_genre.iloc[i][0]\n",
    "    genres = movie_genre.iloc[i][1]\n",
    "    for genre in genres:\n",
    "        matrix_representation[genre_dict[genre], users_dict[user]] = 1"
   ]
  },
  {
   "cell_type": "code",
   "execution_count": 209,
   "id": "746a1ce1",
   "metadata": {},
   "outputs": [
    {
     "data": {
      "text/plain": [
       "array([11,  4, 22, 15,  8,  1, 19, 12,  5, 23, 16,  9,  2, 20, 13,  6, 24,\n",
       "       17, 10,  3, 21, 14,  7,  0, 18], dtype=int32)"
      ]
     },
     "execution_count": 209,
     "metadata": {},
     "output_type": "execute_result"
    }
   ],
   "source": [
    "n_hashes = 2\n",
    "rows_list = np.arange(0, rows)\n",
    "hash1 = lambda x : (58568 * x + 83283) % rows\n",
    "hash2 = lambda x : (34218 * x + 78586) % rows\n",
    "hash1(rows_list)\n",
    "hash2(rows_list)"
   ]
  },
  {
   "cell_type": "code",
   "execution_count": 216,
   "id": "05130119",
   "metadata": {},
   "outputs": [],
   "source": [
    "signature_matrix = np.full((2, cols), np.inf)"
   ]
  },
  {
   "cell_type": "code",
   "execution_count": 211,
   "id": "146d8059",
   "metadata": {},
   "outputs": [
    {
     "data": {
      "text/plain": [
       "array([[inf, inf, inf, ..., inf, inf, inf],\n",
       "       [inf, inf, inf, ..., inf, inf, inf]])"
      ]
     },
     "execution_count": 211,
     "metadata": {},
     "output_type": "execute_result"
    }
   ],
   "source": [
    "signature_matrix"
   ]
  },
  {
   "cell_type": "code",
   "execution_count": 212,
   "id": "a0b640d3",
   "metadata": {},
   "outputs": [],
   "source": [
    "for r in range(len(matrix_representation)):\n",
    "    h1 = hash1(r)\n",
    "    h2 = hash2(r)\n",
    "    \n",
    "    cols_with_one = list(np.nonzero(matrix_representation[r])[0])\n",
    "    \n",
    "    for col in cols_with_one:\n",
    "        if signature_matrix[0, col] > h1:\n",
    "            signature_matrix[0, col] = h1\n",
    "        elif signature_matrix[1, col] > h2:\n",
    "            signature_matrix[1, col] = h2"
   ]
  },
  {
   "cell_type": "code",
   "execution_count": 214,
   "id": "c51d290b",
   "metadata": {},
   "outputs": [
    {
     "data": {
      "text/plain": [
       "array([[ 1.,  4.,  4., ...,  4.,  5.,  4.],\n",
       "       [ 1., inf, 13., ..., inf,  0., 13.]])"
      ]
     },
     "execution_count": 214,
     "metadata": {},
     "output_type": "execute_result"
    }
   ],
   "source": [
    "signature_matrix"
   ]
  },
  {
   "cell_type": "code",
   "execution_count": null,
   "id": "9c5350e8",
   "metadata": {},
   "outputs": [],
   "source": []
  }
 ],
 "metadata": {
  "kernelspec": {
   "display_name": "Python 3 (ipykernel)",
   "language": "python",
   "name": "python3"
  },
  "language_info": {
   "codemirror_mode": {
    "name": "ipython",
    "version": 3
   },
   "file_extension": ".py",
   "mimetype": "text/x-python",
   "name": "python",
   "nbconvert_exporter": "python",
   "pygments_lexer": "ipython3",
   "version": "3.10.9"
  }
 },
 "nbformat": 4,
 "nbformat_minor": 5
}
